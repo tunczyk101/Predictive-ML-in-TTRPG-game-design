{
 "cells": [
  {
   "cell_type": "markdown",
   "source": [
    "# Classical regression models\n",
    "\n",
    "* KNN\n",
    "* Kernel SVM\n",
    "* Random Forest"
   ],
   "metadata": {
    "collapsed": false
   }
  },
  {
   "cell_type": "code",
   "execution_count": 1,
   "outputs": [
    {
     "data": {
      "text/plain": "        str       dex       con       int       wis       cha        ac  \\\n0  0.588235  0.588235  0.357143  0.200000  0.470588  0.529412  0.509434   \n1  0.588235  0.411765  0.428571  0.600000  0.411765  0.411765  0.396226   \n2  0.529412  0.470588  0.214286  0.400000  0.470588  0.352941  0.320755   \n3  0.352941  0.529412  0.214286  0.333333  0.470588  0.352941  0.358491   \n4  0.588235  0.588235  0.500000  0.466667  0.529412  0.588235  0.490566   \n\n         hp  perception  fortitude  ...  area-damage_weakness  cold_weakness  \\\n0  0.252087    0.156522   0.425532  ...                   0.0            0.0   \n1  0.123539    0.130435   0.297872  ...                   0.0            0.0   \n2  0.078464    0.069565   0.170213  ...                   0.0            0.0   \n3  0.048414    0.104348   0.170213  ...                   0.0            0.0   \n4  0.198664    0.156522   0.361702  ...                   0.0            0.0   \n\n   cold-iron_weakness  evil_weakness  fire_weakness  good_weakness  \\\n0                 0.0            0.0            0.0            0.0   \n1                 0.0            0.0            0.0            0.0   \n2                 0.0            0.0            0.0            0.0   \n3                 0.0            0.0            0.0            0.0   \n4                 0.0            0.0            0.0            0.0   \n\n   slashing_weakness  splash-damage_weakness  \\\n0                0.0                     0.0   \n1                0.0                     0.0   \n2                0.0                     0.0   \n3                0.0                     0.0   \n4                0.0                     0.0   \n\n                                   book  level  \n0   Pathfinder #164: Hands of the Devil      8  \n1  Pathfinder #163: Ruins of Gauntlight      5  \n2  Pathfinder #163: Ruins of Gauntlight      3  \n3   Pathfinder #164: Hands of the Devil      3  \n4   Pathfinder #164: Hands of the Devil      8  \n\n[5 rows x 52 columns]",
      "text/html": "<div>\n<style scoped>\n    .dataframe tbody tr th:only-of-type {\n        vertical-align: middle;\n    }\n\n    .dataframe tbody tr th {\n        vertical-align: top;\n    }\n\n    .dataframe thead th {\n        text-align: right;\n    }\n</style>\n<table border=\"1\" class=\"dataframe\">\n  <thead>\n    <tr style=\"text-align: right;\">\n      <th></th>\n      <th>str</th>\n      <th>dex</th>\n      <th>con</th>\n      <th>int</th>\n      <th>wis</th>\n      <th>cha</th>\n      <th>ac</th>\n      <th>hp</th>\n      <th>perception</th>\n      <th>fortitude</th>\n      <th>...</th>\n      <th>area-damage_weakness</th>\n      <th>cold_weakness</th>\n      <th>cold-iron_weakness</th>\n      <th>evil_weakness</th>\n      <th>fire_weakness</th>\n      <th>good_weakness</th>\n      <th>slashing_weakness</th>\n      <th>splash-damage_weakness</th>\n      <th>book</th>\n      <th>level</th>\n    </tr>\n  </thead>\n  <tbody>\n    <tr>\n      <th>0</th>\n      <td>0.588235</td>\n      <td>0.588235</td>\n      <td>0.357143</td>\n      <td>0.200000</td>\n      <td>0.470588</td>\n      <td>0.529412</td>\n      <td>0.509434</td>\n      <td>0.252087</td>\n      <td>0.156522</td>\n      <td>0.425532</td>\n      <td>...</td>\n      <td>0.0</td>\n      <td>0.0</td>\n      <td>0.0</td>\n      <td>0.0</td>\n      <td>0.0</td>\n      <td>0.0</td>\n      <td>0.0</td>\n      <td>0.0</td>\n      <td>Pathfinder #164: Hands of the Devil</td>\n      <td>8</td>\n    </tr>\n    <tr>\n      <th>1</th>\n      <td>0.588235</td>\n      <td>0.411765</td>\n      <td>0.428571</td>\n      <td>0.600000</td>\n      <td>0.411765</td>\n      <td>0.411765</td>\n      <td>0.396226</td>\n      <td>0.123539</td>\n      <td>0.130435</td>\n      <td>0.297872</td>\n      <td>...</td>\n      <td>0.0</td>\n      <td>0.0</td>\n      <td>0.0</td>\n      <td>0.0</td>\n      <td>0.0</td>\n      <td>0.0</td>\n      <td>0.0</td>\n      <td>0.0</td>\n      <td>Pathfinder #163: Ruins of Gauntlight</td>\n      <td>5</td>\n    </tr>\n    <tr>\n      <th>2</th>\n      <td>0.529412</td>\n      <td>0.470588</td>\n      <td>0.214286</td>\n      <td>0.400000</td>\n      <td>0.470588</td>\n      <td>0.352941</td>\n      <td>0.320755</td>\n      <td>0.078464</td>\n      <td>0.069565</td>\n      <td>0.170213</td>\n      <td>...</td>\n      <td>0.0</td>\n      <td>0.0</td>\n      <td>0.0</td>\n      <td>0.0</td>\n      <td>0.0</td>\n      <td>0.0</td>\n      <td>0.0</td>\n      <td>0.0</td>\n      <td>Pathfinder #163: Ruins of Gauntlight</td>\n      <td>3</td>\n    </tr>\n    <tr>\n      <th>3</th>\n      <td>0.352941</td>\n      <td>0.529412</td>\n      <td>0.214286</td>\n      <td>0.333333</td>\n      <td>0.470588</td>\n      <td>0.352941</td>\n      <td>0.358491</td>\n      <td>0.048414</td>\n      <td>0.104348</td>\n      <td>0.170213</td>\n      <td>...</td>\n      <td>0.0</td>\n      <td>0.0</td>\n      <td>0.0</td>\n      <td>0.0</td>\n      <td>0.0</td>\n      <td>0.0</td>\n      <td>0.0</td>\n      <td>0.0</td>\n      <td>Pathfinder #164: Hands of the Devil</td>\n      <td>3</td>\n    </tr>\n    <tr>\n      <th>4</th>\n      <td>0.588235</td>\n      <td>0.588235</td>\n      <td>0.500000</td>\n      <td>0.466667</td>\n      <td>0.529412</td>\n      <td>0.588235</td>\n      <td>0.490566</td>\n      <td>0.198664</td>\n      <td>0.156522</td>\n      <td>0.361702</td>\n      <td>...</td>\n      <td>0.0</td>\n      <td>0.0</td>\n      <td>0.0</td>\n      <td>0.0</td>\n      <td>0.0</td>\n      <td>0.0</td>\n      <td>0.0</td>\n      <td>0.0</td>\n      <td>Pathfinder #164: Hands of the Devil</td>\n      <td>8</td>\n    </tr>\n  </tbody>\n</table>\n<p>5 rows × 52 columns</p>\n</div>"
     },
     "execution_count": 1,
     "metadata": {},
     "output_type": "execute_result"
    }
   ],
   "source": [
    "import numpy as np\n",
    "from sklearn.preprocessing import MinMaxScaler\n",
    "import pandas as pd\n",
    "from training.creating_dataset import load_and_preprocess_data\n",
    "from training.constants import FEATURES, DATASET_FILES, ORDERED_CHARACTERISTICS_FULL\n",
    "\n",
    "\n",
    "bestiaries = load_and_preprocess_data(\n",
    "    [f\"../../pathfinder_2e_remaster_data/{f}\" for f in DATASET_FILES], FEATURES\n",
    ")\n",
    "\n",
    "columns = [col for col in bestiaries.columns if col not in [\"book\", \"level\"]]\n",
    "scaler = MinMaxScaler()\n",
    "min_max_df = pd.DataFrame()\n",
    "min_max_df[columns] = pd.DataFrame(\n",
    "    scaler.fit_transform(bestiaries[columns]), index=bestiaries.index\n",
    ")\n",
    "min_max_df[\"book\"] = bestiaries[\"book\"]\n",
    "min_max_df[\"level\"] = bestiaries[\"level\"]\n",
    "bestiaries = min_max_df\n",
    "bestiaries = bestiaries[ORDERED_CHARACTERISTICS_FULL + [\"book\", \"level\"]]\n",
    "bestiaries.head()"
   ],
   "metadata": {
    "collapsed": false
   }
  },
  {
   "cell_type": "code",
   "execution_count": 2,
   "outputs": [],
   "source": [
    "import os\n",
    "from training.splitting_dataset import split_dataframe, get_date_books_mapping\n",
    "\n",
    "os.chdir(\"../../training\")\n",
    "books_dates_map = get_date_books_mapping()\n",
    "\n",
    "books_to_include = [\n",
    "    book for _, row in books_dates_map[\"books\"].iteritems() for book in row\n",
    "]\n",
    "bestiaries = bestiaries[bestiaries[\"book\"].isin(books_to_include)]\n",
    "X_train, X_test, y_train, y_test = split_dataframe(bestiaries)\n",
    "os.chdir(\"../notebooks/models\")"
   ],
   "metadata": {
    "collapsed": false
   }
  },
  {
   "cell_type": "code",
   "execution_count": 5,
   "outputs": [
    {
     "data": {
      "text/plain": "           str       dex       con       int       wis       cha        ac  \\\n651   0.588235  0.470588  0.428571  0.000000  0.411765  0.176471  0.452830   \n652   0.000000  0.705882  0.357143  0.666667  0.588235  0.705882  0.547170   \n656   0.411765  0.588235  0.285714  0.400000  0.411765  0.588235  0.396226   \n657   0.588235  0.647059  0.428571  0.533333  0.411765  0.529412  0.490566   \n659   0.647059  0.470588  0.428571  0.466667  0.647059  0.588235  0.490566   \n...        ...       ...       ...       ...       ...       ...       ...   \n1476  0.823529  0.647059  0.571429  0.666667  0.764706  0.647059  0.773585   \n1477  0.647059  0.352941  0.571429  0.466667  0.470588  0.411765  0.490566   \n1478  0.823529  0.588235  0.571429  0.200000  0.588235  0.529412  0.754717   \n1479  0.000000  0.470588  0.285714  0.666667  0.411765  0.529412  0.509434   \n1480  0.705882  0.529412  0.500000  0.333333  0.705882  0.529412  0.584906   \n\n            hp  perception  fortitude  ...  poison_resistance  \\\n651   0.148581    0.104348   0.340426  ...           0.000000   \n652   0.290484    0.191304   0.382979  ...           0.000000   \n656   0.081803    0.095652   0.191489  ...           0.000000   \n657   0.207012    0.139130   0.340426  ...           0.000000   \n659   0.273790    0.156522   0.297872  ...           0.000000   \n...        ...         ...        ...  ...                ...   \n1476  0.632721    0.260870   0.595745  ...           0.000000   \n1477  0.228715    0.139130   0.382979  ...           0.000000   \n1478  0.632721    0.278261   0.680851  ...           0.000000   \n1479  0.248748    0.165217   0.404255  ...           0.000000   \n1480  0.365609    0.217391   0.489362  ...           0.576923   \n\n      slashing_resistance  area-damage_weakness  cold_weakness  \\\n651                  0.25                   0.0            0.0   \n652                  0.00                   0.0            0.0   \n656                  0.25                   0.0            0.0   \n657                  0.00                   0.0            0.0   \n659                  0.00                   0.0            0.0   \n...                   ...                   ...            ...   \n1476                 0.00                   0.0            0.0   \n1477                 0.00                   0.0            0.0   \n1478                 0.00                   0.0            0.0   \n1479                 0.00                   0.0            0.0   \n1480                 0.00                   0.0            0.0   \n\n      cold-iron_weakness  evil_weakness  fire_weakness  good_weakness  \\\n651                 0.00            0.0            0.0            0.0   \n652                 0.25            0.0            0.0            0.0   \n656                 0.00            0.0            0.0            0.0   \n657                 0.00            0.0            0.0            0.0   \n659                 0.00            0.0            0.0            0.0   \n...                  ...            ...            ...            ...   \n1476                0.75            0.0            0.0            0.0   \n1477                0.00            0.0            0.0            0.0   \n1478                0.00            0.0            0.0            0.0   \n1479                0.00            0.0            0.0            0.0   \n1480                0.00            0.0            0.0            0.0   \n\n      slashing_weakness  splash-damage_weakness  \n651                 0.0                     0.0  \n652                 0.0                     0.0  \n656                 0.0                     0.0  \n657                 0.0                     0.0  \n659                 0.0                     0.0  \n...                 ...                     ...  \n1476                0.0                     0.0  \n1477                0.0                     0.0  \n1478                0.0                     0.0  \n1479                0.0                     0.0  \n1480                0.0                     0.0  \n\n[272 rows x 50 columns]",
      "text/html": "<div>\n<style scoped>\n    .dataframe tbody tr th:only-of-type {\n        vertical-align: middle;\n    }\n\n    .dataframe tbody tr th {\n        vertical-align: top;\n    }\n\n    .dataframe thead th {\n        text-align: right;\n    }\n</style>\n<table border=\"1\" class=\"dataframe\">\n  <thead>\n    <tr style=\"text-align: right;\">\n      <th></th>\n      <th>str</th>\n      <th>dex</th>\n      <th>con</th>\n      <th>int</th>\n      <th>wis</th>\n      <th>cha</th>\n      <th>ac</th>\n      <th>hp</th>\n      <th>perception</th>\n      <th>fortitude</th>\n      <th>...</th>\n      <th>poison_resistance</th>\n      <th>slashing_resistance</th>\n      <th>area-damage_weakness</th>\n      <th>cold_weakness</th>\n      <th>cold-iron_weakness</th>\n      <th>evil_weakness</th>\n      <th>fire_weakness</th>\n      <th>good_weakness</th>\n      <th>slashing_weakness</th>\n      <th>splash-damage_weakness</th>\n    </tr>\n  </thead>\n  <tbody>\n    <tr>\n      <th>651</th>\n      <td>0.588235</td>\n      <td>0.470588</td>\n      <td>0.428571</td>\n      <td>0.000000</td>\n      <td>0.411765</td>\n      <td>0.176471</td>\n      <td>0.452830</td>\n      <td>0.148581</td>\n      <td>0.104348</td>\n      <td>0.340426</td>\n      <td>...</td>\n      <td>0.000000</td>\n      <td>0.25</td>\n      <td>0.0</td>\n      <td>0.0</td>\n      <td>0.00</td>\n      <td>0.0</td>\n      <td>0.0</td>\n      <td>0.0</td>\n      <td>0.0</td>\n      <td>0.0</td>\n    </tr>\n    <tr>\n      <th>652</th>\n      <td>0.000000</td>\n      <td>0.705882</td>\n      <td>0.357143</td>\n      <td>0.666667</td>\n      <td>0.588235</td>\n      <td>0.705882</td>\n      <td>0.547170</td>\n      <td>0.290484</td>\n      <td>0.191304</td>\n      <td>0.382979</td>\n      <td>...</td>\n      <td>0.000000</td>\n      <td>0.00</td>\n      <td>0.0</td>\n      <td>0.0</td>\n      <td>0.25</td>\n      <td>0.0</td>\n      <td>0.0</td>\n      <td>0.0</td>\n      <td>0.0</td>\n      <td>0.0</td>\n    </tr>\n    <tr>\n      <th>656</th>\n      <td>0.411765</td>\n      <td>0.588235</td>\n      <td>0.285714</td>\n      <td>0.400000</td>\n      <td>0.411765</td>\n      <td>0.588235</td>\n      <td>0.396226</td>\n      <td>0.081803</td>\n      <td>0.095652</td>\n      <td>0.191489</td>\n      <td>...</td>\n      <td>0.000000</td>\n      <td>0.25</td>\n      <td>0.0</td>\n      <td>0.0</td>\n      <td>0.00</td>\n      <td>0.0</td>\n      <td>0.0</td>\n      <td>0.0</td>\n      <td>0.0</td>\n      <td>0.0</td>\n    </tr>\n    <tr>\n      <th>657</th>\n      <td>0.588235</td>\n      <td>0.647059</td>\n      <td>0.428571</td>\n      <td>0.533333</td>\n      <td>0.411765</td>\n      <td>0.529412</td>\n      <td>0.490566</td>\n      <td>0.207012</td>\n      <td>0.139130</td>\n      <td>0.340426</td>\n      <td>...</td>\n      <td>0.000000</td>\n      <td>0.00</td>\n      <td>0.0</td>\n      <td>0.0</td>\n      <td>0.00</td>\n      <td>0.0</td>\n      <td>0.0</td>\n      <td>0.0</td>\n      <td>0.0</td>\n      <td>0.0</td>\n    </tr>\n    <tr>\n      <th>659</th>\n      <td>0.647059</td>\n      <td>0.470588</td>\n      <td>0.428571</td>\n      <td>0.466667</td>\n      <td>0.647059</td>\n      <td>0.588235</td>\n      <td>0.490566</td>\n      <td>0.273790</td>\n      <td>0.156522</td>\n      <td>0.297872</td>\n      <td>...</td>\n      <td>0.000000</td>\n      <td>0.00</td>\n      <td>0.0</td>\n      <td>0.0</td>\n      <td>0.00</td>\n      <td>0.0</td>\n      <td>0.0</td>\n      <td>0.0</td>\n      <td>0.0</td>\n      <td>0.0</td>\n    </tr>\n    <tr>\n      <th>...</th>\n      <td>...</td>\n      <td>...</td>\n      <td>...</td>\n      <td>...</td>\n      <td>...</td>\n      <td>...</td>\n      <td>...</td>\n      <td>...</td>\n      <td>...</td>\n      <td>...</td>\n      <td>...</td>\n      <td>...</td>\n      <td>...</td>\n      <td>...</td>\n      <td>...</td>\n      <td>...</td>\n      <td>...</td>\n      <td>...</td>\n      <td>...</td>\n      <td>...</td>\n      <td>...</td>\n    </tr>\n    <tr>\n      <th>1476</th>\n      <td>0.823529</td>\n      <td>0.647059</td>\n      <td>0.571429</td>\n      <td>0.666667</td>\n      <td>0.764706</td>\n      <td>0.647059</td>\n      <td>0.773585</td>\n      <td>0.632721</td>\n      <td>0.260870</td>\n      <td>0.595745</td>\n      <td>...</td>\n      <td>0.000000</td>\n      <td>0.00</td>\n      <td>0.0</td>\n      <td>0.0</td>\n      <td>0.75</td>\n      <td>0.0</td>\n      <td>0.0</td>\n      <td>0.0</td>\n      <td>0.0</td>\n      <td>0.0</td>\n    </tr>\n    <tr>\n      <th>1477</th>\n      <td>0.647059</td>\n      <td>0.352941</td>\n      <td>0.571429</td>\n      <td>0.466667</td>\n      <td>0.470588</td>\n      <td>0.411765</td>\n      <td>0.490566</td>\n      <td>0.228715</td>\n      <td>0.139130</td>\n      <td>0.382979</td>\n      <td>...</td>\n      <td>0.000000</td>\n      <td>0.00</td>\n      <td>0.0</td>\n      <td>0.0</td>\n      <td>0.00</td>\n      <td>0.0</td>\n      <td>0.0</td>\n      <td>0.0</td>\n      <td>0.0</td>\n      <td>0.0</td>\n    </tr>\n    <tr>\n      <th>1478</th>\n      <td>0.823529</td>\n      <td>0.588235</td>\n      <td>0.571429</td>\n      <td>0.200000</td>\n      <td>0.588235</td>\n      <td>0.529412</td>\n      <td>0.754717</td>\n      <td>0.632721</td>\n      <td>0.278261</td>\n      <td>0.680851</td>\n      <td>...</td>\n      <td>0.000000</td>\n      <td>0.00</td>\n      <td>0.0</td>\n      <td>0.0</td>\n      <td>0.00</td>\n      <td>0.0</td>\n      <td>0.0</td>\n      <td>0.0</td>\n      <td>0.0</td>\n      <td>0.0</td>\n    </tr>\n    <tr>\n      <th>1479</th>\n      <td>0.000000</td>\n      <td>0.470588</td>\n      <td>0.285714</td>\n      <td>0.666667</td>\n      <td>0.411765</td>\n      <td>0.529412</td>\n      <td>0.509434</td>\n      <td>0.248748</td>\n      <td>0.165217</td>\n      <td>0.404255</td>\n      <td>...</td>\n      <td>0.000000</td>\n      <td>0.00</td>\n      <td>0.0</td>\n      <td>0.0</td>\n      <td>0.00</td>\n      <td>0.0</td>\n      <td>0.0</td>\n      <td>0.0</td>\n      <td>0.0</td>\n      <td>0.0</td>\n    </tr>\n    <tr>\n      <th>1480</th>\n      <td>0.705882</td>\n      <td>0.529412</td>\n      <td>0.500000</td>\n      <td>0.333333</td>\n      <td>0.705882</td>\n      <td>0.529412</td>\n      <td>0.584906</td>\n      <td>0.365609</td>\n      <td>0.217391</td>\n      <td>0.489362</td>\n      <td>...</td>\n      <td>0.576923</td>\n      <td>0.00</td>\n      <td>0.0</td>\n      <td>0.0</td>\n      <td>0.00</td>\n      <td>0.0</td>\n      <td>0.0</td>\n      <td>0.0</td>\n      <td>0.0</td>\n      <td>0.0</td>\n    </tr>\n  </tbody>\n</table>\n<p>272 rows × 50 columns</p>\n</div>"
     },
     "execution_count": 5,
     "metadata": {},
     "output_type": "execute_result"
    }
   ],
   "source": [
    "X_test"
   ],
   "metadata": {
    "collapsed": false
   }
  },
  {
   "cell_type": "markdown",
   "source": [
    "## KNeighbors"
   ],
   "metadata": {
    "collapsed": false
   }
  },
  {
   "cell_type": "code",
   "execution_count": 3,
   "metadata": {
    "collapsed": true
   },
   "outputs": [
    {
     "name": "stdout",
     "output_type": "stream",
     "text": [
      "Fitting 5 folds for each of 1500 candidates, totalling 7500 fits\n"
     ]
    },
    {
     "data": {
      "text/plain": "GridSearchCV(cv=5, estimator=KNeighborsRegressor(), n_jobs=-1,\n             param_grid={'leaf_size': [50, 60, 70, 80, 90],\n                         'metric': ['minkowski', 'manhattan', 'euclidean'],\n                         'n_neighbors': [1, 2, 3, 4, 5, 6, 7, 8, 9, 10, 11, 12,\n                                         13, 14, 15, 16, 17, 18, 19, 20, 21, 22,\n                                         23, 24, 25, 26, 27, 28, 29, 30, ...],\n                         'weights': ['uniform', 'distance']},\n             return_train_score=True, scoring='neg_mean_squared_error',\n             verbose=2)",
      "text/html": "<style>#sk-container-id-1 {color: black;background-color: white;}#sk-container-id-1 pre{padding: 0;}#sk-container-id-1 div.sk-toggleable {background-color: white;}#sk-container-id-1 label.sk-toggleable__label {cursor: pointer;display: block;width: 100%;margin-bottom: 0;padding: 0.3em;box-sizing: border-box;text-align: center;}#sk-container-id-1 label.sk-toggleable__label-arrow:before {content: \"▸\";float: left;margin-right: 0.25em;color: #696969;}#sk-container-id-1 label.sk-toggleable__label-arrow:hover:before {color: black;}#sk-container-id-1 div.sk-estimator:hover label.sk-toggleable__label-arrow:before {color: black;}#sk-container-id-1 div.sk-toggleable__content {max-height: 0;max-width: 0;overflow: hidden;text-align: left;background-color: #f0f8ff;}#sk-container-id-1 div.sk-toggleable__content pre {margin: 0.2em;color: black;border-radius: 0.25em;background-color: #f0f8ff;}#sk-container-id-1 input.sk-toggleable__control:checked~div.sk-toggleable__content {max-height: 200px;max-width: 100%;overflow: auto;}#sk-container-id-1 input.sk-toggleable__control:checked~label.sk-toggleable__label-arrow:before {content: \"▾\";}#sk-container-id-1 div.sk-estimator input.sk-toggleable__control:checked~label.sk-toggleable__label {background-color: #d4ebff;}#sk-container-id-1 div.sk-label input.sk-toggleable__control:checked~label.sk-toggleable__label {background-color: #d4ebff;}#sk-container-id-1 input.sk-hidden--visually {border: 0;clip: rect(1px 1px 1px 1px);clip: rect(1px, 1px, 1px, 1px);height: 1px;margin: -1px;overflow: hidden;padding: 0;position: absolute;width: 1px;}#sk-container-id-1 div.sk-estimator {font-family: monospace;background-color: #f0f8ff;border: 1px dotted black;border-radius: 0.25em;box-sizing: border-box;margin-bottom: 0.5em;}#sk-container-id-1 div.sk-estimator:hover {background-color: #d4ebff;}#sk-container-id-1 div.sk-parallel-item::after {content: \"\";width: 100%;border-bottom: 1px solid gray;flex-grow: 1;}#sk-container-id-1 div.sk-label:hover label.sk-toggleable__label {background-color: #d4ebff;}#sk-container-id-1 div.sk-serial::before {content: \"\";position: absolute;border-left: 1px solid gray;box-sizing: border-box;top: 0;bottom: 0;left: 50%;z-index: 0;}#sk-container-id-1 div.sk-serial {display: flex;flex-direction: column;align-items: center;background-color: white;padding-right: 0.2em;padding-left: 0.2em;position: relative;}#sk-container-id-1 div.sk-item {position: relative;z-index: 1;}#sk-container-id-1 div.sk-parallel {display: flex;align-items: stretch;justify-content: center;background-color: white;position: relative;}#sk-container-id-1 div.sk-item::before, #sk-container-id-1 div.sk-parallel-item::before {content: \"\";position: absolute;border-left: 1px solid gray;box-sizing: border-box;top: 0;bottom: 0;left: 50%;z-index: -1;}#sk-container-id-1 div.sk-parallel-item {display: flex;flex-direction: column;z-index: 1;position: relative;background-color: white;}#sk-container-id-1 div.sk-parallel-item:first-child::after {align-self: flex-end;width: 50%;}#sk-container-id-1 div.sk-parallel-item:last-child::after {align-self: flex-start;width: 50%;}#sk-container-id-1 div.sk-parallel-item:only-child::after {width: 0;}#sk-container-id-1 div.sk-dashed-wrapped {border: 1px dashed gray;margin: 0 0.4em 0.5em 0.4em;box-sizing: border-box;padding-bottom: 0.4em;background-color: white;}#sk-container-id-1 div.sk-label label {font-family: monospace;font-weight: bold;display: inline-block;line-height: 1.2em;}#sk-container-id-1 div.sk-label-container {text-align: center;}#sk-container-id-1 div.sk-container {/* jupyter's `normalize.less` sets `[hidden] { display: none; }` but bootstrap.min.css set `[hidden] { display: none !important; }` so we also need the `!important` here to be able to override the default hidden behavior on the sphinx rendered scikit-learn.org. See: https://github.com/scikit-learn/scikit-learn/issues/21755 */display: inline-block !important;position: relative;}#sk-container-id-1 div.sk-text-repr-fallback {display: none;}</style><div id=\"sk-container-id-1\" class=\"sk-top-container\"><div class=\"sk-text-repr-fallback\"><pre>GridSearchCV(cv=5, estimator=KNeighborsRegressor(), n_jobs=-1,\n             param_grid={&#x27;leaf_size&#x27;: [50, 60, 70, 80, 90],\n                         &#x27;metric&#x27;: [&#x27;minkowski&#x27;, &#x27;manhattan&#x27;, &#x27;euclidean&#x27;],\n                         &#x27;n_neighbors&#x27;: [1, 2, 3, 4, 5, 6, 7, 8, 9, 10, 11, 12,\n                                         13, 14, 15, 16, 17, 18, 19, 20, 21, 22,\n                                         23, 24, 25, 26, 27, 28, 29, 30, ...],\n                         &#x27;weights&#x27;: [&#x27;uniform&#x27;, &#x27;distance&#x27;]},\n             return_train_score=True, scoring=&#x27;neg_mean_squared_error&#x27;,\n             verbose=2)</pre><b>In a Jupyter environment, please rerun this cell to show the HTML representation or trust the notebook. <br />On GitHub, the HTML representation is unable to render, please try loading this page with nbviewer.org.</b></div><div class=\"sk-container\" hidden><div class=\"sk-item sk-dashed-wrapped\"><div class=\"sk-label-container\"><div class=\"sk-label sk-toggleable\"><input class=\"sk-toggleable__control sk-hidden--visually\" id=\"sk-estimator-id-1\" type=\"checkbox\" ><label for=\"sk-estimator-id-1\" class=\"sk-toggleable__label sk-toggleable__label-arrow\">GridSearchCV</label><div class=\"sk-toggleable__content\"><pre>GridSearchCV(cv=5, estimator=KNeighborsRegressor(), n_jobs=-1,\n             param_grid={&#x27;leaf_size&#x27;: [50, 60, 70, 80, 90],\n                         &#x27;metric&#x27;: [&#x27;minkowski&#x27;, &#x27;manhattan&#x27;, &#x27;euclidean&#x27;],\n                         &#x27;n_neighbors&#x27;: [1, 2, 3, 4, 5, 6, 7, 8, 9, 10, 11, 12,\n                                         13, 14, 15, 16, 17, 18, 19, 20, 21, 22,\n                                         23, 24, 25, 26, 27, 28, 29, 30, ...],\n                         &#x27;weights&#x27;: [&#x27;uniform&#x27;, &#x27;distance&#x27;]},\n             return_train_score=True, scoring=&#x27;neg_mean_squared_error&#x27;,\n             verbose=2)</pre></div></div></div><div class=\"sk-parallel\"><div class=\"sk-parallel-item\"><div class=\"sk-item\"><div class=\"sk-label-container\"><div class=\"sk-label sk-toggleable\"><input class=\"sk-toggleable__control sk-hidden--visually\" id=\"sk-estimator-id-2\" type=\"checkbox\" ><label for=\"sk-estimator-id-2\" class=\"sk-toggleable__label sk-toggleable__label-arrow\">estimator: KNeighborsRegressor</label><div class=\"sk-toggleable__content\"><pre>KNeighborsRegressor()</pre></div></div></div><div class=\"sk-serial\"><div class=\"sk-item\"><div class=\"sk-estimator sk-toggleable\"><input class=\"sk-toggleable__control sk-hidden--visually\" id=\"sk-estimator-id-3\" type=\"checkbox\" ><label for=\"sk-estimator-id-3\" class=\"sk-toggleable__label sk-toggleable__label-arrow\">KNeighborsRegressor</label><div class=\"sk-toggleable__content\"><pre>KNeighborsRegressor()</pre></div></div></div></div></div></div></div></div></div></div>"
     },
     "execution_count": 3,
     "metadata": {},
     "output_type": "execute_result"
    }
   ],
   "source": [
    "from sklearn.neighbors import KNeighborsRegressor\n",
    "from sklearn.model_selection import GridSearchCV\n",
    "\n",
    "\n",
    "clf = KNeighborsRegressor()\n",
    "\n",
    "hyper_params = {\n",
    "    \"leaf_size\": list(range(50, 100, 10)),\n",
    "    \"weights\": [\"uniform\", \"distance\"],\n",
    "    \"metric\": [\"minkowski\", \"manhattan\", \"euclidean\"],\n",
    "    \"n_neighbors\": list(range(1, 51)),\n",
    "}\n",
    "\n",
    "model = GridSearchCV(\n",
    "    estimator=clf,\n",
    "    param_grid=hyper_params,\n",
    "    scoring=\"neg_mean_squared_error\",\n",
    "    cv=5,\n",
    "    verbose=2,\n",
    "    return_train_score=True,\n",
    "    n_jobs=-1,\n",
    ")\n",
    "model.fit(X_train, y_train)"
   ]
  },
  {
   "cell_type": "code",
   "execution_count": 4,
   "outputs": [
    {
     "data": {
      "text/plain": "{'leaf_size': 50,\n 'metric': 'manhattan',\n 'n_neighbors': 5,\n 'weights': 'distance'}"
     },
     "execution_count": 4,
     "metadata": {},
     "output_type": "execute_result"
    }
   ],
   "source": [
    "model.best_params_"
   ],
   "metadata": {
    "collapsed": false
   }
  },
  {
   "cell_type": "code",
   "execution_count": 5,
   "outputs": [
    {
     "name": "stdout",
     "output_type": "stream",
     "text": [
      "1.2435195397196206\n",
      "2.817641490858506\n"
     ]
    }
   ],
   "source": [
    "from sklearn.metrics import mean_absolute_error, mean_squared_error\n",
    "\n",
    "\n",
    "y_pred = model.predict(X_test)\n",
    "\n",
    "print(mean_absolute_error(y_test, y_pred))\n",
    "print(mean_squared_error(y_test, y_pred))"
   ],
   "metadata": {
    "collapsed": false
   }
  },
  {
   "cell_type": "code",
   "execution_count": 6,
   "outputs": [
    {
     "name": "stdout",
     "output_type": "stream",
     "text": [
      "0.0\n",
      "0.0\n"
     ]
    }
   ],
   "source": [
    "y_pred = model.predict(X_train)\n",
    "\n",
    "print(mean_absolute_error(y_train, y_pred))\n",
    "print(mean_squared_error(y_train, y_pred))"
   ],
   "metadata": {
    "collapsed": false
   }
  },
  {
   "cell_type": "markdown",
   "source": [
    "## SVM kernel=rbf"
   ],
   "metadata": {
    "collapsed": false
   }
  },
  {
   "cell_type": "code",
   "execution_count": 7,
   "outputs": [
    {
     "name": "stdout",
     "output_type": "stream",
     "text": [
      "Fitting 5 folds for each of 9 candidates, totalling 45 fits\n"
     ]
    },
    {
     "name": "stderr",
     "output_type": "stream",
     "text": [
      "C:\\Users\\jolka\\OneDrive\\Dokumenty\\mgr\\Predictive-ML-in-TTRPG-game-design\\venv\\lib\\site-packages\\sklearn\\svm\\_base.py:299: ConvergenceWarning: Solver terminated early (max_iter=10000).  Consider pre-processing your data with StandardScaler or MinMaxScaler.\n",
      "  warnings.warn(\n"
     ]
    },
    {
     "data": {
      "text/plain": "GridSearchCV(cv=5, estimator=SVR(max_iter=10000), n_jobs=-1,\n             param_grid={'C': [0.001, 0.01, 0.1, 1, 10.0, 100.0, 1000.0,\n                               10000.0, 100000.0]},\n             return_train_score=True, scoring='neg_mean_squared_error',\n             verbose=2)",
      "text/html": "<style>#sk-container-id-2 {color: black;background-color: white;}#sk-container-id-2 pre{padding: 0;}#sk-container-id-2 div.sk-toggleable {background-color: white;}#sk-container-id-2 label.sk-toggleable__label {cursor: pointer;display: block;width: 100%;margin-bottom: 0;padding: 0.3em;box-sizing: border-box;text-align: center;}#sk-container-id-2 label.sk-toggleable__label-arrow:before {content: \"▸\";float: left;margin-right: 0.25em;color: #696969;}#sk-container-id-2 label.sk-toggleable__label-arrow:hover:before {color: black;}#sk-container-id-2 div.sk-estimator:hover label.sk-toggleable__label-arrow:before {color: black;}#sk-container-id-2 div.sk-toggleable__content {max-height: 0;max-width: 0;overflow: hidden;text-align: left;background-color: #f0f8ff;}#sk-container-id-2 div.sk-toggleable__content pre {margin: 0.2em;color: black;border-radius: 0.25em;background-color: #f0f8ff;}#sk-container-id-2 input.sk-toggleable__control:checked~div.sk-toggleable__content {max-height: 200px;max-width: 100%;overflow: auto;}#sk-container-id-2 input.sk-toggleable__control:checked~label.sk-toggleable__label-arrow:before {content: \"▾\";}#sk-container-id-2 div.sk-estimator input.sk-toggleable__control:checked~label.sk-toggleable__label {background-color: #d4ebff;}#sk-container-id-2 div.sk-label input.sk-toggleable__control:checked~label.sk-toggleable__label {background-color: #d4ebff;}#sk-container-id-2 input.sk-hidden--visually {border: 0;clip: rect(1px 1px 1px 1px);clip: rect(1px, 1px, 1px, 1px);height: 1px;margin: -1px;overflow: hidden;padding: 0;position: absolute;width: 1px;}#sk-container-id-2 div.sk-estimator {font-family: monospace;background-color: #f0f8ff;border: 1px dotted black;border-radius: 0.25em;box-sizing: border-box;margin-bottom: 0.5em;}#sk-container-id-2 div.sk-estimator:hover {background-color: #d4ebff;}#sk-container-id-2 div.sk-parallel-item::after {content: \"\";width: 100%;border-bottom: 1px solid gray;flex-grow: 1;}#sk-container-id-2 div.sk-label:hover label.sk-toggleable__label {background-color: #d4ebff;}#sk-container-id-2 div.sk-serial::before {content: \"\";position: absolute;border-left: 1px solid gray;box-sizing: border-box;top: 0;bottom: 0;left: 50%;z-index: 0;}#sk-container-id-2 div.sk-serial {display: flex;flex-direction: column;align-items: center;background-color: white;padding-right: 0.2em;padding-left: 0.2em;position: relative;}#sk-container-id-2 div.sk-item {position: relative;z-index: 1;}#sk-container-id-2 div.sk-parallel {display: flex;align-items: stretch;justify-content: center;background-color: white;position: relative;}#sk-container-id-2 div.sk-item::before, #sk-container-id-2 div.sk-parallel-item::before {content: \"\";position: absolute;border-left: 1px solid gray;box-sizing: border-box;top: 0;bottom: 0;left: 50%;z-index: -1;}#sk-container-id-2 div.sk-parallel-item {display: flex;flex-direction: column;z-index: 1;position: relative;background-color: white;}#sk-container-id-2 div.sk-parallel-item:first-child::after {align-self: flex-end;width: 50%;}#sk-container-id-2 div.sk-parallel-item:last-child::after {align-self: flex-start;width: 50%;}#sk-container-id-2 div.sk-parallel-item:only-child::after {width: 0;}#sk-container-id-2 div.sk-dashed-wrapped {border: 1px dashed gray;margin: 0 0.4em 0.5em 0.4em;box-sizing: border-box;padding-bottom: 0.4em;background-color: white;}#sk-container-id-2 div.sk-label label {font-family: monospace;font-weight: bold;display: inline-block;line-height: 1.2em;}#sk-container-id-2 div.sk-label-container {text-align: center;}#sk-container-id-2 div.sk-container {/* jupyter's `normalize.less` sets `[hidden] { display: none; }` but bootstrap.min.css set `[hidden] { display: none !important; }` so we also need the `!important` here to be able to override the default hidden behavior on the sphinx rendered scikit-learn.org. See: https://github.com/scikit-learn/scikit-learn/issues/21755 */display: inline-block !important;position: relative;}#sk-container-id-2 div.sk-text-repr-fallback {display: none;}</style><div id=\"sk-container-id-2\" class=\"sk-top-container\"><div class=\"sk-text-repr-fallback\"><pre>GridSearchCV(cv=5, estimator=SVR(max_iter=10000), n_jobs=-1,\n             param_grid={&#x27;C&#x27;: [0.001, 0.01, 0.1, 1, 10.0, 100.0, 1000.0,\n                               10000.0, 100000.0]},\n             return_train_score=True, scoring=&#x27;neg_mean_squared_error&#x27;,\n             verbose=2)</pre><b>In a Jupyter environment, please rerun this cell to show the HTML representation or trust the notebook. <br />On GitHub, the HTML representation is unable to render, please try loading this page with nbviewer.org.</b></div><div class=\"sk-container\" hidden><div class=\"sk-item sk-dashed-wrapped\"><div class=\"sk-label-container\"><div class=\"sk-label sk-toggleable\"><input class=\"sk-toggleable__control sk-hidden--visually\" id=\"sk-estimator-id-4\" type=\"checkbox\" ><label for=\"sk-estimator-id-4\" class=\"sk-toggleable__label sk-toggleable__label-arrow\">GridSearchCV</label><div class=\"sk-toggleable__content\"><pre>GridSearchCV(cv=5, estimator=SVR(max_iter=10000), n_jobs=-1,\n             param_grid={&#x27;C&#x27;: [0.001, 0.01, 0.1, 1, 10.0, 100.0, 1000.0,\n                               10000.0, 100000.0]},\n             return_train_score=True, scoring=&#x27;neg_mean_squared_error&#x27;,\n             verbose=2)</pre></div></div></div><div class=\"sk-parallel\"><div class=\"sk-parallel-item\"><div class=\"sk-item\"><div class=\"sk-label-container\"><div class=\"sk-label sk-toggleable\"><input class=\"sk-toggleable__control sk-hidden--visually\" id=\"sk-estimator-id-5\" type=\"checkbox\" ><label for=\"sk-estimator-id-5\" class=\"sk-toggleable__label sk-toggleable__label-arrow\">estimator: SVR</label><div class=\"sk-toggleable__content\"><pre>SVR(max_iter=10000)</pre></div></div></div><div class=\"sk-serial\"><div class=\"sk-item\"><div class=\"sk-estimator sk-toggleable\"><input class=\"sk-toggleable__control sk-hidden--visually\" id=\"sk-estimator-id-6\" type=\"checkbox\" ><label for=\"sk-estimator-id-6\" class=\"sk-toggleable__label sk-toggleable__label-arrow\">SVR</label><div class=\"sk-toggleable__content\"><pre>SVR(max_iter=10000)</pre></div></div></div></div></div></div></div></div></div></div>"
     },
     "execution_count": 7,
     "metadata": {},
     "output_type": "execute_result"
    }
   ],
   "source": [
    "from sklearn.svm import SVR\n",
    "from sklearn.model_selection import GridSearchCV\n",
    "\n",
    "\n",
    "svm = SVR(kernel=\"rbf\", max_iter=10000)\n",
    "hyper_params = {\"C\": [1e-3, 1e-2, 1e-1, 1, 1e1, 1e2, 1e3, 1e4, 1e5]}\n",
    "\n",
    "model = GridSearchCV(\n",
    "    estimator=svm,\n",
    "    param_grid=hyper_params,\n",
    "    scoring=\"neg_mean_squared_error\",\n",
    "    cv=5,\n",
    "    verbose=2,\n",
    "    return_train_score=True,\n",
    "    n_jobs=-1,\n",
    ")\n",
    "model.fit(X_train, y_train)"
   ],
   "metadata": {
    "collapsed": false
   }
  },
  {
   "cell_type": "code",
   "execution_count": 8,
   "outputs": [
    {
     "data": {
      "text/plain": "{'C': 10.0}"
     },
     "execution_count": 8,
     "metadata": {},
     "output_type": "execute_result"
    }
   ],
   "source": [
    "model.best_params_"
   ],
   "metadata": {
    "collapsed": false
   }
  },
  {
   "cell_type": "code",
   "execution_count": 9,
   "outputs": [
    {
     "name": "stdout",
     "output_type": "stream",
     "text": [
      "Fitting 5 folds for each of 100 candidates, totalling 500 fits\n"
     ]
    },
    {
     "data": {
      "text/plain": "GridSearchCV(cv=5, estimator=SVR(max_iter=10000), n_jobs=-1,\n             param_grid={'C': array([  1.,   2.,   3.,   4.,   5.,   6.,   7.,   8.,   9.,  10.,  11.,\n        12.,  13.,  14.,  15.,  16.,  17.,  18.,  19.,  20.,  21.,  22.,\n        23.,  24.,  25.,  26.,  27.,  28.,  29.,  30.,  31.,  32.,  33.,\n        34.,  35.,  36.,  37.,  38.,  39.,  40.,  41.,  42.,  43.,  44.,\n        45.,  46.,  47.,  48.,  49.,  50.,  51.,  52.,  53.,  54.,  55.,\n        56.,  57.,  58.,  59.,  60.,  61.,  62.,  63.,  64.,  65.,  66.,\n        67.,  68.,  69.,  70.,  71.,  72.,  73.,  74.,  75.,  76.,  77.,\n        78.,  79.,  80.,  81.,  82.,  83.,  84.,  85.,  86.,  87.,  88.,\n        89.,  90.,  91.,  92.,  93.,  94.,  95.,  96.,  97.,  98.,  99.,\n       100.])},\n             return_train_score=True, scoring='neg_mean_squared_error',\n             verbose=2)",
      "text/html": "<style>#sk-container-id-3 {color: black;background-color: white;}#sk-container-id-3 pre{padding: 0;}#sk-container-id-3 div.sk-toggleable {background-color: white;}#sk-container-id-3 label.sk-toggleable__label {cursor: pointer;display: block;width: 100%;margin-bottom: 0;padding: 0.3em;box-sizing: border-box;text-align: center;}#sk-container-id-3 label.sk-toggleable__label-arrow:before {content: \"▸\";float: left;margin-right: 0.25em;color: #696969;}#sk-container-id-3 label.sk-toggleable__label-arrow:hover:before {color: black;}#sk-container-id-3 div.sk-estimator:hover label.sk-toggleable__label-arrow:before {color: black;}#sk-container-id-3 div.sk-toggleable__content {max-height: 0;max-width: 0;overflow: hidden;text-align: left;background-color: #f0f8ff;}#sk-container-id-3 div.sk-toggleable__content pre {margin: 0.2em;color: black;border-radius: 0.25em;background-color: #f0f8ff;}#sk-container-id-3 input.sk-toggleable__control:checked~div.sk-toggleable__content {max-height: 200px;max-width: 100%;overflow: auto;}#sk-container-id-3 input.sk-toggleable__control:checked~label.sk-toggleable__label-arrow:before {content: \"▾\";}#sk-container-id-3 div.sk-estimator input.sk-toggleable__control:checked~label.sk-toggleable__label {background-color: #d4ebff;}#sk-container-id-3 div.sk-label input.sk-toggleable__control:checked~label.sk-toggleable__label {background-color: #d4ebff;}#sk-container-id-3 input.sk-hidden--visually {border: 0;clip: rect(1px 1px 1px 1px);clip: rect(1px, 1px, 1px, 1px);height: 1px;margin: -1px;overflow: hidden;padding: 0;position: absolute;width: 1px;}#sk-container-id-3 div.sk-estimator {font-family: monospace;background-color: #f0f8ff;border: 1px dotted black;border-radius: 0.25em;box-sizing: border-box;margin-bottom: 0.5em;}#sk-container-id-3 div.sk-estimator:hover {background-color: #d4ebff;}#sk-container-id-3 div.sk-parallel-item::after {content: \"\";width: 100%;border-bottom: 1px solid gray;flex-grow: 1;}#sk-container-id-3 div.sk-label:hover label.sk-toggleable__label {background-color: #d4ebff;}#sk-container-id-3 div.sk-serial::before {content: \"\";position: absolute;border-left: 1px solid gray;box-sizing: border-box;top: 0;bottom: 0;left: 50%;z-index: 0;}#sk-container-id-3 div.sk-serial {display: flex;flex-direction: column;align-items: center;background-color: white;padding-right: 0.2em;padding-left: 0.2em;position: relative;}#sk-container-id-3 div.sk-item {position: relative;z-index: 1;}#sk-container-id-3 div.sk-parallel {display: flex;align-items: stretch;justify-content: center;background-color: white;position: relative;}#sk-container-id-3 div.sk-item::before, #sk-container-id-3 div.sk-parallel-item::before {content: \"\";position: absolute;border-left: 1px solid gray;box-sizing: border-box;top: 0;bottom: 0;left: 50%;z-index: -1;}#sk-container-id-3 div.sk-parallel-item {display: flex;flex-direction: column;z-index: 1;position: relative;background-color: white;}#sk-container-id-3 div.sk-parallel-item:first-child::after {align-self: flex-end;width: 50%;}#sk-container-id-3 div.sk-parallel-item:last-child::after {align-self: flex-start;width: 50%;}#sk-container-id-3 div.sk-parallel-item:only-child::after {width: 0;}#sk-container-id-3 div.sk-dashed-wrapped {border: 1px dashed gray;margin: 0 0.4em 0.5em 0.4em;box-sizing: border-box;padding-bottom: 0.4em;background-color: white;}#sk-container-id-3 div.sk-label label {font-family: monospace;font-weight: bold;display: inline-block;line-height: 1.2em;}#sk-container-id-3 div.sk-label-container {text-align: center;}#sk-container-id-3 div.sk-container {/* jupyter's `normalize.less` sets `[hidden] { display: none; }` but bootstrap.min.css set `[hidden] { display: none !important; }` so we also need the `!important` here to be able to override the default hidden behavior on the sphinx rendered scikit-learn.org. See: https://github.com/scikit-learn/scikit-learn/issues/21755 */display: inline-block !important;position: relative;}#sk-container-id-3 div.sk-text-repr-fallback {display: none;}</style><div id=\"sk-container-id-3\" class=\"sk-top-container\"><div class=\"sk-text-repr-fallback\"><pre>GridSearchCV(cv=5, estimator=SVR(max_iter=10000), n_jobs=-1,\n             param_grid={&#x27;C&#x27;: array([  1.,   2.,   3.,   4.,   5.,   6.,   7.,   8.,   9.,  10.,  11.,\n        12.,  13.,  14.,  15.,  16.,  17.,  18.,  19.,  20.,  21.,  22.,\n        23.,  24.,  25.,  26.,  27.,  28.,  29.,  30.,  31.,  32.,  33.,\n        34.,  35.,  36.,  37.,  38.,  39.,  40.,  41.,  42.,  43.,  44.,\n        45.,  46.,  47.,  48.,  49.,  50.,  51.,  52.,  53.,  54.,  55.,\n        56.,  57.,  58.,  59.,  60.,  61.,  62.,  63.,  64.,  65.,  66.,\n        67.,  68.,  69.,  70.,  71.,  72.,  73.,  74.,  75.,  76.,  77.,\n        78.,  79.,  80.,  81.,  82.,  83.,  84.,  85.,  86.,  87.,  88.,\n        89.,  90.,  91.,  92.,  93.,  94.,  95.,  96.,  97.,  98.,  99.,\n       100.])},\n             return_train_score=True, scoring=&#x27;neg_mean_squared_error&#x27;,\n             verbose=2)</pre><b>In a Jupyter environment, please rerun this cell to show the HTML representation or trust the notebook. <br />On GitHub, the HTML representation is unable to render, please try loading this page with nbviewer.org.</b></div><div class=\"sk-container\" hidden><div class=\"sk-item sk-dashed-wrapped\"><div class=\"sk-label-container\"><div class=\"sk-label sk-toggleable\"><input class=\"sk-toggleable__control sk-hidden--visually\" id=\"sk-estimator-id-7\" type=\"checkbox\" ><label for=\"sk-estimator-id-7\" class=\"sk-toggleable__label sk-toggleable__label-arrow\">GridSearchCV</label><div class=\"sk-toggleable__content\"><pre>GridSearchCV(cv=5, estimator=SVR(max_iter=10000), n_jobs=-1,\n             param_grid={&#x27;C&#x27;: array([  1.,   2.,   3.,   4.,   5.,   6.,   7.,   8.,   9.,  10.,  11.,\n        12.,  13.,  14.,  15.,  16.,  17.,  18.,  19.,  20.,  21.,  22.,\n        23.,  24.,  25.,  26.,  27.,  28.,  29.,  30.,  31.,  32.,  33.,\n        34.,  35.,  36.,  37.,  38.,  39.,  40.,  41.,  42.,  43.,  44.,\n        45.,  46.,  47.,  48.,  49.,  50.,  51.,  52.,  53.,  54.,  55.,\n        56.,  57.,  58.,  59.,  60.,  61.,  62.,  63.,  64.,  65.,  66.,\n        67.,  68.,  69.,  70.,  71.,  72.,  73.,  74.,  75.,  76.,  77.,\n        78.,  79.,  80.,  81.,  82.,  83.,  84.,  85.,  86.,  87.,  88.,\n        89.,  90.,  91.,  92.,  93.,  94.,  95.,  96.,  97.,  98.,  99.,\n       100.])},\n             return_train_score=True, scoring=&#x27;neg_mean_squared_error&#x27;,\n             verbose=2)</pre></div></div></div><div class=\"sk-parallel\"><div class=\"sk-parallel-item\"><div class=\"sk-item\"><div class=\"sk-label-container\"><div class=\"sk-label sk-toggleable\"><input class=\"sk-toggleable__control sk-hidden--visually\" id=\"sk-estimator-id-8\" type=\"checkbox\" ><label for=\"sk-estimator-id-8\" class=\"sk-toggleable__label sk-toggleable__label-arrow\">estimator: SVR</label><div class=\"sk-toggleable__content\"><pre>SVR(max_iter=10000)</pre></div></div></div><div class=\"sk-serial\"><div class=\"sk-item\"><div class=\"sk-estimator sk-toggleable\"><input class=\"sk-toggleable__control sk-hidden--visually\" id=\"sk-estimator-id-9\" type=\"checkbox\" ><label for=\"sk-estimator-id-9\" class=\"sk-toggleable__label sk-toggleable__label-arrow\">SVR</label><div class=\"sk-toggleable__content\"><pre>SVR(max_iter=10000)</pre></div></div></div></div></div></div></div></div></div></div>"
     },
     "execution_count": 9,
     "metadata": {},
     "output_type": "execute_result"
    }
   ],
   "source": [
    "svm = SVR(kernel=\"rbf\", max_iter=10000)\n",
    "hyper_params = {\"C\": np.linspace(1, 100, num=100)}\n",
    "\n",
    "model = GridSearchCV(\n",
    "    estimator=svm,\n",
    "    param_grid=hyper_params,\n",
    "    scoring=\"neg_mean_squared_error\",\n",
    "    cv=5,\n",
    "    verbose=2,\n",
    "    return_train_score=True,\n",
    "    n_jobs=-1,\n",
    ")\n",
    "model.fit(X_train, y_train)"
   ],
   "metadata": {
    "collapsed": false
   }
  },
  {
   "cell_type": "code",
   "execution_count": 10,
   "outputs": [
    {
     "data": {
      "text/plain": "{'C': 7.0}"
     },
     "execution_count": 10,
     "metadata": {},
     "output_type": "execute_result"
    }
   ],
   "source": [
    "model.best_params_"
   ],
   "metadata": {
    "collapsed": false
   }
  },
  {
   "cell_type": "code",
   "execution_count": 11,
   "outputs": [
    {
     "name": "stdout",
     "output_type": "stream",
     "text": [
      "Fitting 5 folds for each of 100 candidates, totalling 500 fits\n"
     ]
    },
    {
     "data": {
      "text/plain": "GridSearchCV(cv=5, estimator=SVR(max_iter=10000), n_jobs=-1,\n             param_grid={'C': array([ 1.        ,  1.09090909,  1.18181818,  1.27272727,  1.36363636,\n        1.45454545,  1.54545455,  1.63636364,  1.72727273,  1.81818182,\n        1.90909091,  2.        ,  2.09090909,  2.18181818,  2.27272727,\n        2.36363636,  2.45454545,  2.54545455,  2.63636364,  2.72727273,\n        2.81818182,  2.90909091,  3.        ,  3.09090909,  3.18181818,\n        3.27272727,  3.36363...\n        7.36363636,  7.45454545,  7.54545455,  7.63636364,  7.72727273,\n        7.81818182,  7.90909091,  8.        ,  8.09090909,  8.18181818,\n        8.27272727,  8.36363636,  8.45454545,  8.54545455,  8.63636364,\n        8.72727273,  8.81818182,  8.90909091,  9.        ,  9.09090909,\n        9.18181818,  9.27272727,  9.36363636,  9.45454545,  9.54545455,\n        9.63636364,  9.72727273,  9.81818182,  9.90909091, 10.        ])},\n             return_train_score=True, scoring='neg_mean_squared_error',\n             verbose=2)",
      "text/html": "<style>#sk-container-id-4 {color: black;background-color: white;}#sk-container-id-4 pre{padding: 0;}#sk-container-id-4 div.sk-toggleable {background-color: white;}#sk-container-id-4 label.sk-toggleable__label {cursor: pointer;display: block;width: 100%;margin-bottom: 0;padding: 0.3em;box-sizing: border-box;text-align: center;}#sk-container-id-4 label.sk-toggleable__label-arrow:before {content: \"▸\";float: left;margin-right: 0.25em;color: #696969;}#sk-container-id-4 label.sk-toggleable__label-arrow:hover:before {color: black;}#sk-container-id-4 div.sk-estimator:hover label.sk-toggleable__label-arrow:before {color: black;}#sk-container-id-4 div.sk-toggleable__content {max-height: 0;max-width: 0;overflow: hidden;text-align: left;background-color: #f0f8ff;}#sk-container-id-4 div.sk-toggleable__content pre {margin: 0.2em;color: black;border-radius: 0.25em;background-color: #f0f8ff;}#sk-container-id-4 input.sk-toggleable__control:checked~div.sk-toggleable__content {max-height: 200px;max-width: 100%;overflow: auto;}#sk-container-id-4 input.sk-toggleable__control:checked~label.sk-toggleable__label-arrow:before {content: \"▾\";}#sk-container-id-4 div.sk-estimator input.sk-toggleable__control:checked~label.sk-toggleable__label {background-color: #d4ebff;}#sk-container-id-4 div.sk-label input.sk-toggleable__control:checked~label.sk-toggleable__label {background-color: #d4ebff;}#sk-container-id-4 input.sk-hidden--visually {border: 0;clip: rect(1px 1px 1px 1px);clip: rect(1px, 1px, 1px, 1px);height: 1px;margin: -1px;overflow: hidden;padding: 0;position: absolute;width: 1px;}#sk-container-id-4 div.sk-estimator {font-family: monospace;background-color: #f0f8ff;border: 1px dotted black;border-radius: 0.25em;box-sizing: border-box;margin-bottom: 0.5em;}#sk-container-id-4 div.sk-estimator:hover {background-color: #d4ebff;}#sk-container-id-4 div.sk-parallel-item::after {content: \"\";width: 100%;border-bottom: 1px solid gray;flex-grow: 1;}#sk-container-id-4 div.sk-label:hover label.sk-toggleable__label {background-color: #d4ebff;}#sk-container-id-4 div.sk-serial::before {content: \"\";position: absolute;border-left: 1px solid gray;box-sizing: border-box;top: 0;bottom: 0;left: 50%;z-index: 0;}#sk-container-id-4 div.sk-serial {display: flex;flex-direction: column;align-items: center;background-color: white;padding-right: 0.2em;padding-left: 0.2em;position: relative;}#sk-container-id-4 div.sk-item {position: relative;z-index: 1;}#sk-container-id-4 div.sk-parallel {display: flex;align-items: stretch;justify-content: center;background-color: white;position: relative;}#sk-container-id-4 div.sk-item::before, #sk-container-id-4 div.sk-parallel-item::before {content: \"\";position: absolute;border-left: 1px solid gray;box-sizing: border-box;top: 0;bottom: 0;left: 50%;z-index: -1;}#sk-container-id-4 div.sk-parallel-item {display: flex;flex-direction: column;z-index: 1;position: relative;background-color: white;}#sk-container-id-4 div.sk-parallel-item:first-child::after {align-self: flex-end;width: 50%;}#sk-container-id-4 div.sk-parallel-item:last-child::after {align-self: flex-start;width: 50%;}#sk-container-id-4 div.sk-parallel-item:only-child::after {width: 0;}#sk-container-id-4 div.sk-dashed-wrapped {border: 1px dashed gray;margin: 0 0.4em 0.5em 0.4em;box-sizing: border-box;padding-bottom: 0.4em;background-color: white;}#sk-container-id-4 div.sk-label label {font-family: monospace;font-weight: bold;display: inline-block;line-height: 1.2em;}#sk-container-id-4 div.sk-label-container {text-align: center;}#sk-container-id-4 div.sk-container {/* jupyter's `normalize.less` sets `[hidden] { display: none; }` but bootstrap.min.css set `[hidden] { display: none !important; }` so we also need the `!important` here to be able to override the default hidden behavior on the sphinx rendered scikit-learn.org. See: https://github.com/scikit-learn/scikit-learn/issues/21755 */display: inline-block !important;position: relative;}#sk-container-id-4 div.sk-text-repr-fallback {display: none;}</style><div id=\"sk-container-id-4\" class=\"sk-top-container\"><div class=\"sk-text-repr-fallback\"><pre>GridSearchCV(cv=5, estimator=SVR(max_iter=10000), n_jobs=-1,\n             param_grid={&#x27;C&#x27;: array([ 1.        ,  1.09090909,  1.18181818,  1.27272727,  1.36363636,\n        1.45454545,  1.54545455,  1.63636364,  1.72727273,  1.81818182,\n        1.90909091,  2.        ,  2.09090909,  2.18181818,  2.27272727,\n        2.36363636,  2.45454545,  2.54545455,  2.63636364,  2.72727273,\n        2.81818182,  2.90909091,  3.        ,  3.09090909,  3.18181818,\n        3.27272727,  3.36363...\n        7.36363636,  7.45454545,  7.54545455,  7.63636364,  7.72727273,\n        7.81818182,  7.90909091,  8.        ,  8.09090909,  8.18181818,\n        8.27272727,  8.36363636,  8.45454545,  8.54545455,  8.63636364,\n        8.72727273,  8.81818182,  8.90909091,  9.        ,  9.09090909,\n        9.18181818,  9.27272727,  9.36363636,  9.45454545,  9.54545455,\n        9.63636364,  9.72727273,  9.81818182,  9.90909091, 10.        ])},\n             return_train_score=True, scoring=&#x27;neg_mean_squared_error&#x27;,\n             verbose=2)</pre><b>In a Jupyter environment, please rerun this cell to show the HTML representation or trust the notebook. <br />On GitHub, the HTML representation is unable to render, please try loading this page with nbviewer.org.</b></div><div class=\"sk-container\" hidden><div class=\"sk-item sk-dashed-wrapped\"><div class=\"sk-label-container\"><div class=\"sk-label sk-toggleable\"><input class=\"sk-toggleable__control sk-hidden--visually\" id=\"sk-estimator-id-10\" type=\"checkbox\" ><label for=\"sk-estimator-id-10\" class=\"sk-toggleable__label sk-toggleable__label-arrow\">GridSearchCV</label><div class=\"sk-toggleable__content\"><pre>GridSearchCV(cv=5, estimator=SVR(max_iter=10000), n_jobs=-1,\n             param_grid={&#x27;C&#x27;: array([ 1.        ,  1.09090909,  1.18181818,  1.27272727,  1.36363636,\n        1.45454545,  1.54545455,  1.63636364,  1.72727273,  1.81818182,\n        1.90909091,  2.        ,  2.09090909,  2.18181818,  2.27272727,\n        2.36363636,  2.45454545,  2.54545455,  2.63636364,  2.72727273,\n        2.81818182,  2.90909091,  3.        ,  3.09090909,  3.18181818,\n        3.27272727,  3.36363...\n        7.36363636,  7.45454545,  7.54545455,  7.63636364,  7.72727273,\n        7.81818182,  7.90909091,  8.        ,  8.09090909,  8.18181818,\n        8.27272727,  8.36363636,  8.45454545,  8.54545455,  8.63636364,\n        8.72727273,  8.81818182,  8.90909091,  9.        ,  9.09090909,\n        9.18181818,  9.27272727,  9.36363636,  9.45454545,  9.54545455,\n        9.63636364,  9.72727273,  9.81818182,  9.90909091, 10.        ])},\n             return_train_score=True, scoring=&#x27;neg_mean_squared_error&#x27;,\n             verbose=2)</pre></div></div></div><div class=\"sk-parallel\"><div class=\"sk-parallel-item\"><div class=\"sk-item\"><div class=\"sk-label-container\"><div class=\"sk-label sk-toggleable\"><input class=\"sk-toggleable__control sk-hidden--visually\" id=\"sk-estimator-id-11\" type=\"checkbox\" ><label for=\"sk-estimator-id-11\" class=\"sk-toggleable__label sk-toggleable__label-arrow\">estimator: SVR</label><div class=\"sk-toggleable__content\"><pre>SVR(max_iter=10000)</pre></div></div></div><div class=\"sk-serial\"><div class=\"sk-item\"><div class=\"sk-estimator sk-toggleable\"><input class=\"sk-toggleable__control sk-hidden--visually\" id=\"sk-estimator-id-12\" type=\"checkbox\" ><label for=\"sk-estimator-id-12\" class=\"sk-toggleable__label sk-toggleable__label-arrow\">SVR</label><div class=\"sk-toggleable__content\"><pre>SVR(max_iter=10000)</pre></div></div></div></div></div></div></div></div></div></div>"
     },
     "execution_count": 11,
     "metadata": {},
     "output_type": "execute_result"
    }
   ],
   "source": [
    "svm = SVR(kernel=\"rbf\", max_iter=10000)\n",
    "hyper_params = {\"C\": np.linspace(1, 10, num=100)}\n",
    "\n",
    "model = GridSearchCV(\n",
    "    estimator=svm,\n",
    "    param_grid=hyper_params,\n",
    "    scoring=\"neg_absolute_error\",\n",
    "    cv=5,\n",
    "    verbose=2,\n",
    "    return_train_score=True,\n",
    "    n_jobs=-1,\n",
    ")\n",
    "model.fit(X_train, y_train)"
   ],
   "metadata": {
    "collapsed": false
   }
  },
  {
   "cell_type": "code",
   "execution_count": 12,
   "outputs": [
    {
     "data": {
      "text/plain": "{'C': 6.363636363636364}"
     },
     "execution_count": 12,
     "metadata": {},
     "output_type": "execute_result"
    }
   ],
   "source": [
    "model.best_params_"
   ],
   "metadata": {
    "collapsed": false
   }
  },
  {
   "cell_type": "code",
   "execution_count": 13,
   "outputs": [
    {
     "data": {
      "text/plain": "0.5594337917196204"
     },
     "execution_count": 13,
     "metadata": {},
     "output_type": "execute_result"
    }
   ],
   "source": [
    "from sklearn.metrics import mean_absolute_error, mean_squared_error\n",
    "\n",
    "\n",
    "y_pred = model.predict(X_test)\n",
    "\n",
    "mean_absolute_error(y_test, y_pred)"
   ],
   "metadata": {
    "collapsed": false
   }
  },
  {
   "cell_type": "code",
   "execution_count": 14,
   "outputs": [
    {
     "data": {
      "text/plain": "1.0202996727869298"
     },
     "execution_count": 14,
     "metadata": {},
     "output_type": "execute_result"
    }
   ],
   "source": [
    "mean_squared_error(y_test, y_pred)"
   ],
   "metadata": {
    "collapsed": false
   }
  },
  {
   "cell_type": "code",
   "execution_count": 15,
   "outputs": [
    {
     "name": "stdout",
     "output_type": "stream",
     "text": [
      "0.19529077488239519\n",
      "0.09230465868082151\n"
     ]
    }
   ],
   "source": [
    "y_pred = model.predict(X_train)\n",
    "\n",
    "print(mean_absolute_error(y_train, y_pred))\n",
    "print(mean_squared_error(y_train, y_pred))"
   ],
   "metadata": {
    "collapsed": false
   }
  },
  {
   "cell_type": "markdown",
   "source": [
    "## Random Forest"
   ],
   "metadata": {
    "collapsed": false
   }
  },
  {
   "cell_type": "code",
   "execution_count": 10,
   "outputs": [
    {
     "data": {
      "text/plain": "GridSearchCV(cv=5, estimator=RandomForestRegressor(n_jobs=-1, random_state=42),\n             n_jobs=-1,\n             param_grid={'criterion': ['squared_error', 'absolute_error',\n                                       'friedman_mse'],\n                         'max_features': [0.3],\n                         'n_estimators': [100, 200, 500]},\n             return_train_score=True, scoring='neg_mean_absolute_error')",
      "text/html": "<style>#sk-container-id-1 {color: black;background-color: white;}#sk-container-id-1 pre{padding: 0;}#sk-container-id-1 div.sk-toggleable {background-color: white;}#sk-container-id-1 label.sk-toggleable__label {cursor: pointer;display: block;width: 100%;margin-bottom: 0;padding: 0.3em;box-sizing: border-box;text-align: center;}#sk-container-id-1 label.sk-toggleable__label-arrow:before {content: \"▸\";float: left;margin-right: 0.25em;color: #696969;}#sk-container-id-1 label.sk-toggleable__label-arrow:hover:before {color: black;}#sk-container-id-1 div.sk-estimator:hover label.sk-toggleable__label-arrow:before {color: black;}#sk-container-id-1 div.sk-toggleable__content {max-height: 0;max-width: 0;overflow: hidden;text-align: left;background-color: #f0f8ff;}#sk-container-id-1 div.sk-toggleable__content pre {margin: 0.2em;color: black;border-radius: 0.25em;background-color: #f0f8ff;}#sk-container-id-1 input.sk-toggleable__control:checked~div.sk-toggleable__content {max-height: 200px;max-width: 100%;overflow: auto;}#sk-container-id-1 input.sk-toggleable__control:checked~label.sk-toggleable__label-arrow:before {content: \"▾\";}#sk-container-id-1 div.sk-estimator input.sk-toggleable__control:checked~label.sk-toggleable__label {background-color: #d4ebff;}#sk-container-id-1 div.sk-label input.sk-toggleable__control:checked~label.sk-toggleable__label {background-color: #d4ebff;}#sk-container-id-1 input.sk-hidden--visually {border: 0;clip: rect(1px 1px 1px 1px);clip: rect(1px, 1px, 1px, 1px);height: 1px;margin: -1px;overflow: hidden;padding: 0;position: absolute;width: 1px;}#sk-container-id-1 div.sk-estimator {font-family: monospace;background-color: #f0f8ff;border: 1px dotted black;border-radius: 0.25em;box-sizing: border-box;margin-bottom: 0.5em;}#sk-container-id-1 div.sk-estimator:hover {background-color: #d4ebff;}#sk-container-id-1 div.sk-parallel-item::after {content: \"\";width: 100%;border-bottom: 1px solid gray;flex-grow: 1;}#sk-container-id-1 div.sk-label:hover label.sk-toggleable__label {background-color: #d4ebff;}#sk-container-id-1 div.sk-serial::before {content: \"\";position: absolute;border-left: 1px solid gray;box-sizing: border-box;top: 0;bottom: 0;left: 50%;z-index: 0;}#sk-container-id-1 div.sk-serial {display: flex;flex-direction: column;align-items: center;background-color: white;padding-right: 0.2em;padding-left: 0.2em;position: relative;}#sk-container-id-1 div.sk-item {position: relative;z-index: 1;}#sk-container-id-1 div.sk-parallel {display: flex;align-items: stretch;justify-content: center;background-color: white;position: relative;}#sk-container-id-1 div.sk-item::before, #sk-container-id-1 div.sk-parallel-item::before {content: \"\";position: absolute;border-left: 1px solid gray;box-sizing: border-box;top: 0;bottom: 0;left: 50%;z-index: -1;}#sk-container-id-1 div.sk-parallel-item {display: flex;flex-direction: column;z-index: 1;position: relative;background-color: white;}#sk-container-id-1 div.sk-parallel-item:first-child::after {align-self: flex-end;width: 50%;}#sk-container-id-1 div.sk-parallel-item:last-child::after {align-self: flex-start;width: 50%;}#sk-container-id-1 div.sk-parallel-item:only-child::after {width: 0;}#sk-container-id-1 div.sk-dashed-wrapped {border: 1px dashed gray;margin: 0 0.4em 0.5em 0.4em;box-sizing: border-box;padding-bottom: 0.4em;background-color: white;}#sk-container-id-1 div.sk-label label {font-family: monospace;font-weight: bold;display: inline-block;line-height: 1.2em;}#sk-container-id-1 div.sk-label-container {text-align: center;}#sk-container-id-1 div.sk-container {/* jupyter's `normalize.less` sets `[hidden] { display: none; }` but bootstrap.min.css set `[hidden] { display: none !important; }` so we also need the `!important` here to be able to override the default hidden behavior on the sphinx rendered scikit-learn.org. See: https://github.com/scikit-learn/scikit-learn/issues/21755 */display: inline-block !important;position: relative;}#sk-container-id-1 div.sk-text-repr-fallback {display: none;}</style><div id=\"sk-container-id-1\" class=\"sk-top-container\"><div class=\"sk-text-repr-fallback\"><pre>GridSearchCV(cv=5, estimator=RandomForestRegressor(n_jobs=-1, random_state=42),\n             n_jobs=-1,\n             param_grid={&#x27;criterion&#x27;: [&#x27;squared_error&#x27;, &#x27;absolute_error&#x27;,\n                                       &#x27;friedman_mse&#x27;],\n                         &#x27;max_features&#x27;: [0.3],\n                         &#x27;n_estimators&#x27;: [100, 200, 500]},\n             return_train_score=True, scoring=&#x27;neg_mean_absolute_error&#x27;)</pre><b>In a Jupyter environment, please rerun this cell to show the HTML representation or trust the notebook. <br />On GitHub, the HTML representation is unable to render, please try loading this page with nbviewer.org.</b></div><div class=\"sk-container\" hidden><div class=\"sk-item sk-dashed-wrapped\"><div class=\"sk-label-container\"><div class=\"sk-label sk-toggleable\"><input class=\"sk-toggleable__control sk-hidden--visually\" id=\"sk-estimator-id-1\" type=\"checkbox\" ><label for=\"sk-estimator-id-1\" class=\"sk-toggleable__label sk-toggleable__label-arrow\">GridSearchCV</label><div class=\"sk-toggleable__content\"><pre>GridSearchCV(cv=5, estimator=RandomForestRegressor(n_jobs=-1, random_state=42),\n             n_jobs=-1,\n             param_grid={&#x27;criterion&#x27;: [&#x27;squared_error&#x27;, &#x27;absolute_error&#x27;,\n                                       &#x27;friedman_mse&#x27;],\n                         &#x27;max_features&#x27;: [0.3],\n                         &#x27;n_estimators&#x27;: [100, 200, 500]},\n             return_train_score=True, scoring=&#x27;neg_mean_absolute_error&#x27;)</pre></div></div></div><div class=\"sk-parallel\"><div class=\"sk-parallel-item\"><div class=\"sk-item\"><div class=\"sk-label-container\"><div class=\"sk-label sk-toggleable\"><input class=\"sk-toggleable__control sk-hidden--visually\" id=\"sk-estimator-id-2\" type=\"checkbox\" ><label for=\"sk-estimator-id-2\" class=\"sk-toggleable__label sk-toggleable__label-arrow\">estimator: RandomForestRegressor</label><div class=\"sk-toggleable__content\"><pre>RandomForestRegressor(n_jobs=-1, random_state=42)</pre></div></div></div><div class=\"sk-serial\"><div class=\"sk-item\"><div class=\"sk-estimator sk-toggleable\"><input class=\"sk-toggleable__control sk-hidden--visually\" id=\"sk-estimator-id-3\" type=\"checkbox\" ><label for=\"sk-estimator-id-3\" class=\"sk-toggleable__label sk-toggleable__label-arrow\">RandomForestRegressor</label><div class=\"sk-toggleable__content\"><pre>RandomForestRegressor(n_jobs=-1, random_state=42)</pre></div></div></div></div></div></div></div></div></div></div>"
     },
     "execution_count": 10,
     "metadata": {},
     "output_type": "execute_result"
    }
   ],
   "source": [
    "from sklearn.ensemble import RandomForestRegressor\n",
    "from sklearn.model_selection import GridSearchCV\n",
    "from training.constants import RANDOM_STATE\n",
    "\n",
    "\n",
    "rf = RandomForestRegressor(random_state=RANDOM_STATE, n_jobs=-1)\n",
    "hyper_params = {\n",
    "    \"max_features\": [0.3],\n",
    "    \"n_estimators\": [100, 200, 500],\n",
    "    \"criterion\": [\"squared_error\", \"absolute_error\", \"friedman_mse\"],\n",
    "}\n",
    "model = GridSearchCV(\n",
    "    estimator=rf,\n",
    "    param_grid=hyper_params,\n",
    "    scoring=\"neg_mean_absolute_error\",\n",
    "    cv=5,\n",
    "    return_train_score=True,\n",
    "    n_jobs=-1,\n",
    ")\n",
    "model.fit(X_train, y_train)"
   ],
   "metadata": {
    "collapsed": false
   }
  },
  {
   "cell_type": "code",
   "execution_count": 11,
   "outputs": [
    {
     "data": {
      "text/plain": "{'criterion': 'friedman_mse', 'max_features': 0.3, 'n_estimators': 500}"
     },
     "execution_count": 11,
     "metadata": {},
     "output_type": "execute_result"
    }
   ],
   "source": [
    "model.best_params_"
   ],
   "metadata": {
    "collapsed": false
   }
  },
  {
   "cell_type": "code",
   "execution_count": 12,
   "outputs": [
    {
     "data": {
      "text/plain": "0.4382647058823529"
     },
     "execution_count": 12,
     "metadata": {},
     "output_type": "execute_result"
    }
   ],
   "source": [
    "from sklearn.metrics import mean_absolute_error, mean_squared_error\n",
    "\n",
    "\n",
    "y_pred = model.predict(X_test)\n",
    "\n",
    "mean_absolute_error(y_test, y_pred)"
   ],
   "metadata": {
    "collapsed": false
   }
  },
  {
   "cell_type": "code",
   "execution_count": 13,
   "outputs": [
    {
     "data": {
      "text/plain": "0.5010076176470588"
     },
     "execution_count": 13,
     "metadata": {},
     "output_type": "execute_result"
    }
   ],
   "source": [
    "mean_squared_error(y_test, y_pred)"
   ],
   "metadata": {
    "collapsed": false
   }
  },
  {
   "cell_type": "code",
   "execution_count": 14,
   "outputs": [
    {
     "name": "stdout",
     "output_type": "stream",
     "text": [
      "0.07843593519882176\n",
      "0.01602683946980854\n"
     ]
    }
   ],
   "source": [
    "y_pred = model.predict(X_train)\n",
    "\n",
    "print(mean_absolute_error(y_train, y_pred))\n",
    "print(mean_squared_error(y_train, y_pred))"
   ],
   "metadata": {
    "collapsed": false
   }
  },
  {
   "cell_type": "markdown",
   "source": [
    "## All models"
   ],
   "metadata": {
    "collapsed": false
   }
  },
  {
   "cell_type": "code",
   "execution_count": 1,
   "outputs": [],
   "source": [
    "import numpy as np\n",
    "from sklearn.preprocessing import MinMaxScaler\n",
    "import pandas as pd\n",
    "from training.creating_dataset import load_and_preprocess_data\n",
    "from training.constants import FEATURES, DATASET_FILES, ORDERED_CHARACTERISTICS_FULL\n",
    "\n",
    "\n",
    "bestiaries = load_and_preprocess_data(\n",
    "    [f\"../../pathfinder_2e_remaster_data/{f}\" for f in DATASET_FILES], FEATURES\n",
    ")"
   ],
   "metadata": {
    "collapsed": false
   }
  },
  {
   "cell_type": "code",
   "execution_count": 2,
   "outputs": [
    {
     "data": {
      "text/plain": "        str       dex       con       int       wis       cha        ac  \\\n0  0.588235  0.588235  0.357143  0.200000  0.470588  0.529412  0.509434   \n1  0.588235  0.411765  0.428571  0.600000  0.411765  0.411765  0.396226   \n2  0.529412  0.470588  0.214286  0.400000  0.470588  0.352941  0.320755   \n3  0.352941  0.529412  0.214286  0.333333  0.470588  0.352941  0.358491   \n4  0.588235  0.588235  0.500000  0.466667  0.529412  0.588235  0.490566   \n\n         hp  perception  fortitude  ...  area-damage_weakness  cold_weakness  \\\n0  0.252087    0.156522   0.425532  ...                   0.0            0.0   \n1  0.123539    0.130435   0.297872  ...                   0.0            0.0   \n2  0.078464    0.069565   0.170213  ...                   0.0            0.0   \n3  0.048414    0.104348   0.170213  ...                   0.0            0.0   \n4  0.198664    0.156522   0.361702  ...                   0.0            0.0   \n\n   cold-iron_weakness  evil_weakness  fire_weakness  good_weakness  \\\n0                 0.0            0.0            0.0            0.0   \n1                 0.0            0.0            0.0            0.0   \n2                 0.0            0.0            0.0            0.0   \n3                 0.0            0.0            0.0            0.0   \n4                 0.0            0.0            0.0            0.0   \n\n   slashing_weakness  splash-damage_weakness  \\\n0                0.0                     0.0   \n1                0.0                     0.0   \n2                0.0                     0.0   \n3                0.0                     0.0   \n4                0.0                     0.0   \n\n                                   book  level  \n0   Pathfinder #164: Hands of the Devil      8  \n1  Pathfinder #163: Ruins of Gauntlight      5  \n2  Pathfinder #163: Ruins of Gauntlight      3  \n3   Pathfinder #164: Hands of the Devil      3  \n4   Pathfinder #164: Hands of the Devil      8  \n\n[5 rows x 52 columns]",
      "text/html": "<div>\n<style scoped>\n    .dataframe tbody tr th:only-of-type {\n        vertical-align: middle;\n    }\n\n    .dataframe tbody tr th {\n        vertical-align: top;\n    }\n\n    .dataframe thead th {\n        text-align: right;\n    }\n</style>\n<table border=\"1\" class=\"dataframe\">\n  <thead>\n    <tr style=\"text-align: right;\">\n      <th></th>\n      <th>str</th>\n      <th>dex</th>\n      <th>con</th>\n      <th>int</th>\n      <th>wis</th>\n      <th>cha</th>\n      <th>ac</th>\n      <th>hp</th>\n      <th>perception</th>\n      <th>fortitude</th>\n      <th>...</th>\n      <th>area-damage_weakness</th>\n      <th>cold_weakness</th>\n      <th>cold-iron_weakness</th>\n      <th>evil_weakness</th>\n      <th>fire_weakness</th>\n      <th>good_weakness</th>\n      <th>slashing_weakness</th>\n      <th>splash-damage_weakness</th>\n      <th>book</th>\n      <th>level</th>\n    </tr>\n  </thead>\n  <tbody>\n    <tr>\n      <th>0</th>\n      <td>0.588235</td>\n      <td>0.588235</td>\n      <td>0.357143</td>\n      <td>0.200000</td>\n      <td>0.470588</td>\n      <td>0.529412</td>\n      <td>0.509434</td>\n      <td>0.252087</td>\n      <td>0.156522</td>\n      <td>0.425532</td>\n      <td>...</td>\n      <td>0.0</td>\n      <td>0.0</td>\n      <td>0.0</td>\n      <td>0.0</td>\n      <td>0.0</td>\n      <td>0.0</td>\n      <td>0.0</td>\n      <td>0.0</td>\n      <td>Pathfinder #164: Hands of the Devil</td>\n      <td>8</td>\n    </tr>\n    <tr>\n      <th>1</th>\n      <td>0.588235</td>\n      <td>0.411765</td>\n      <td>0.428571</td>\n      <td>0.600000</td>\n      <td>0.411765</td>\n      <td>0.411765</td>\n      <td>0.396226</td>\n      <td>0.123539</td>\n      <td>0.130435</td>\n      <td>0.297872</td>\n      <td>...</td>\n      <td>0.0</td>\n      <td>0.0</td>\n      <td>0.0</td>\n      <td>0.0</td>\n      <td>0.0</td>\n      <td>0.0</td>\n      <td>0.0</td>\n      <td>0.0</td>\n      <td>Pathfinder #163: Ruins of Gauntlight</td>\n      <td>5</td>\n    </tr>\n    <tr>\n      <th>2</th>\n      <td>0.529412</td>\n      <td>0.470588</td>\n      <td>0.214286</td>\n      <td>0.400000</td>\n      <td>0.470588</td>\n      <td>0.352941</td>\n      <td>0.320755</td>\n      <td>0.078464</td>\n      <td>0.069565</td>\n      <td>0.170213</td>\n      <td>...</td>\n      <td>0.0</td>\n      <td>0.0</td>\n      <td>0.0</td>\n      <td>0.0</td>\n      <td>0.0</td>\n      <td>0.0</td>\n      <td>0.0</td>\n      <td>0.0</td>\n      <td>Pathfinder #163: Ruins of Gauntlight</td>\n      <td>3</td>\n    </tr>\n    <tr>\n      <th>3</th>\n      <td>0.352941</td>\n      <td>0.529412</td>\n      <td>0.214286</td>\n      <td>0.333333</td>\n      <td>0.470588</td>\n      <td>0.352941</td>\n      <td>0.358491</td>\n      <td>0.048414</td>\n      <td>0.104348</td>\n      <td>0.170213</td>\n      <td>...</td>\n      <td>0.0</td>\n      <td>0.0</td>\n      <td>0.0</td>\n      <td>0.0</td>\n      <td>0.0</td>\n      <td>0.0</td>\n      <td>0.0</td>\n      <td>0.0</td>\n      <td>Pathfinder #164: Hands of the Devil</td>\n      <td>3</td>\n    </tr>\n    <tr>\n      <th>4</th>\n      <td>0.588235</td>\n      <td>0.588235</td>\n      <td>0.500000</td>\n      <td>0.466667</td>\n      <td>0.529412</td>\n      <td>0.588235</td>\n      <td>0.490566</td>\n      <td>0.198664</td>\n      <td>0.156522</td>\n      <td>0.361702</td>\n      <td>...</td>\n      <td>0.0</td>\n      <td>0.0</td>\n      <td>0.0</td>\n      <td>0.0</td>\n      <td>0.0</td>\n      <td>0.0</td>\n      <td>0.0</td>\n      <td>0.0</td>\n      <td>Pathfinder #164: Hands of the Devil</td>\n      <td>8</td>\n    </tr>\n  </tbody>\n</table>\n<p>5 rows × 52 columns</p>\n</div>"
     },
     "execution_count": 2,
     "metadata": {},
     "output_type": "execute_result"
    }
   ],
   "source": [
    "columns = [col for col in bestiaries.columns if col not in [\"book\", \"level\"]]\n",
    "scaler = MinMaxScaler()\n",
    "min_max_df = pd.DataFrame()\n",
    "min_max_df[columns] = pd.DataFrame(\n",
    "    scaler.fit_transform(bestiaries[columns]), index=bestiaries.index\n",
    ")\n",
    "min_max_df[\"book\"] = bestiaries[\"book\"]\n",
    "min_max_df[\"level\"] = bestiaries[\"level\"]\n",
    "bestiaries = min_max_df\n",
    "bestiaries = bestiaries[ORDERED_CHARACTERISTICS_FULL + [\"book\", \"level\"]]\n",
    "bestiaries.head()"
   ],
   "metadata": {
    "collapsed": false
   }
  },
  {
   "cell_type": "code",
   "execution_count": 3,
   "outputs": [],
   "source": [
    "import os\n",
    "from training.splitting_dataset import split_dataframe, get_date_books_mapping\n",
    "\n",
    "\n",
    "os.chdir(\"../../training\")\n",
    "books_dates_map = get_date_books_mapping()\n",
    "# os.chdir(\"../notebooks/models\")\n",
    "books_to_include = [\n",
    "    book for _, row in books_dates_map[\"books\"].iteritems() for book in row\n",
    "]\n",
    "bestiaries = bestiaries[bestiaries[\"book\"].isin(books_to_include)]\n",
    "# os.chdir(\"../../training\")\n",
    "X_train, X_test, y_train, y_test = split_dataframe(bestiaries)\n",
    "os.chdir(\"../notebooks/models\")"
   ],
   "metadata": {
    "collapsed": false
   }
  },
  {
   "cell_type": "code",
   "execution_count": 4,
   "outputs": [
    {
     "name": "stdout",
     "output_type": "stream",
     "text": [
      "<class 'pandas.core.series.Series'>\n",
      "Int64Index: 1359 entries, 2929 to 2614\n",
      "Series name: level\n",
      "Non-Null Count  Dtype\n",
      "--------------  -----\n",
      "1359 non-null   int64\n",
      "dtypes: int64(1)\n",
      "memory usage: 21.2 KB\n"
     ]
    }
   ],
   "source": [
    "y_train.info()"
   ],
   "metadata": {
    "collapsed": false
   }
  },
  {
   "cell_type": "code",
   "execution_count": 5,
   "outputs": [
    {
     "name": "stdout",
     "output_type": "stream",
     "text": [
      "<class 'pandas.core.series.Series'>\n",
      "Int64Index: 272 entries, 651 to 1480\n",
      "Series name: level\n",
      "Non-Null Count  Dtype\n",
      "--------------  -----\n",
      "272 non-null    int64\n",
      "dtypes: int64(1)\n",
      "memory usage: 4.2 KB\n"
     ]
    }
   ],
   "source": [
    "y_test.info()"
   ],
   "metadata": {
    "collapsed": false
   }
  },
  {
   "cell_type": "code",
   "execution_count": 7,
   "outputs": [
    {
     "name": "stdout",
     "output_type": "stream",
     "text": [
      "Fitting 5 folds for each of 100 candidates, totalling 500 fits\n"
     ]
    },
    {
     "name": "stderr",
     "output_type": "stream",
     "text": [
      "C:\\Users\\jolka\\OneDrive\\Dokumenty\\mgr\\Predictive-ML-in-TTRPG-game-design\\venv\\lib\\site-packages\\sklearn\\svm\\_base.py:297: ConvergenceWarning: Solver terminated early (max_iter=10000).  Consider pre-processing your data with StandardScaler or MinMaxScaler.\n",
      "  warnings.warn(\n"
     ]
    },
    {
     "name": "stdout",
     "output_type": "stream",
     "text": [
      "==== kernel_svm ====\n",
      "\t--> no_rounding\n",
      "\t\t--> train\n",
      "\t\t\t--> rmse: 0.2709546148033673\n",
      "\t\t\t--> mae: 0.17606718192161624\n",
      "\t\t--> test\n",
      "\t\t\t--> rmse: 1.0359407498545896\n",
      "\t\t\t--> mae: 0.564048215241779\n",
      "\t--> round 0.5\n",
      "\t\t--> train\n",
      "\t\t\t--> rmse: 0.28450284536598086\n",
      "\t\t\t--> mae: 0.07211184694628403\n",
      "\t\t\t--> accuracy: 0.9315673289183223\n",
      "\t\t--> test\n",
      "\t\t\t--> rmse: 1.0641207361838554\n",
      "\t\t\t--> mae: 0.47058823529411764\n",
      "\t\t\t--> accuracy: 0.6801470588235294\n",
      "\n",
      "Fitting 5 folds for each of 1500 candidates, totalling 7500 fits\n",
      "==== knn ====\n",
      "\t--> no_rounding\n",
      "\t\t--> train\n",
      "\t\t\t--> rmse: 0.0\n",
      "\t\t\t--> mae: 0.0\n",
      "\t\t--> test\n",
      "\t\t\t--> rmse: 1.6856974326889738\n",
      "\t\t\t--> mae: 1.2415187239679515\n",
      "\t--> round 0.5\n",
      "\t\t--> train\n",
      "\t\t\t--> rmse: 0.0\n",
      "\t\t\t--> mae: 0.0\n",
      "\t\t\t--> accuracy: 1.0\n",
      "\t\t--> test\n",
      "\t\t\t--> rmse: 1.7160573828332404\n",
      "\t\t\t--> mae: 1.2095588235294117\n",
      "\t\t\t--> accuracy: 0.3088235294117647\n",
      "\n"
     ]
    },
    {
     "name": "stderr",
     "output_type": "stream",
     "text": [
      "[I 2024-05-15 15:41:27,861] A new study created in memory with name: no-name-a2fc949d-cb93-4eb3-bfaa-60b023a43f18\n"
     ]
    },
    {
     "name": "stdout",
     "output_type": "stream",
     "text": [
      "==== random_forest ====\n",
      "\t--> no_rounding\n",
      "\t\t--> train\n",
      "\t\t\t--> rmse: 0.13065726190419047\n",
      "\t\t\t--> mae: 0.08033701250919788\n",
      "\t\t--> test\n",
      "\t\t\t--> rmse: 0.712830903552044\n",
      "\t\t\t--> mae: 0.45099264705882347\n",
      "\t--> round 0.5\n",
      "\t\t--> train\n",
      "\t\t\t--> rmse: 0.07672471168645813\n",
      "\t\t\t--> mae: 0.005886681383370125\n",
      "\t\t\t--> accuracy: 0.9941133186166299\n",
      "\t\t--> test\n",
      "\t\t\t--> rmse: 0.7401311489506835\n",
      "\t\t\t--> mae: 0.3639705882352941\n",
      "\t\t\t--> accuracy: 0.7058823529411765\n",
      "\n"
     ]
    },
    {
     "name": "stderr",
     "output_type": "stream",
     "text": [
      "feature_fraction, val_score: inf:   0%|          | 0/7 [00:00<?, ?it/s]"
     ]
    },
    {
     "name": "stdout",
     "output_type": "stream",
     "text": [
      "Training until validation scores don't improve for 100 rounds\n",
      "[100]\tcv_agg's l2: 0.201122 + 0.122541\n",
      "[200]\tcv_agg's l2: 0.196748 + 0.125249\n",
      "[300]\tcv_agg's l2: 0.195123 + 0.124439\n",
      "[400]\tcv_agg's l2: 0.194673 + 0.124805\n",
      "[500]\tcv_agg's l2: 0.194698 + 0.125386\n",
      "[600]\tcv_agg's l2: 0.19441 + 0.12519\n",
      "[700]\tcv_agg's l2: 0.194327 + 0.125313\n",
      "[800]\tcv_agg's l2: 0.194305 + 0.125422\n"
     ]
    },
    {
     "name": "stderr",
     "output_type": "stream",
     "text": [
      "feature_fraction, val_score: 0.194282:  14%|#4        | 1/7 [00:08<00:50,  8.40s/it][I 2024-05-15 15:41:36,273] Trial 0 finished with value: 0.19428243676512963 and parameters: {'feature_fraction': 0.8}. Best is trial 0 with value: 0.19428243676512963.\n",
      "feature_fraction, val_score: 0.194282:  14%|#4        | 1/7 [00:08<00:50,  8.40s/it]"
     ]
    },
    {
     "name": "stdout",
     "output_type": "stream",
     "text": [
      "[900]\tcv_agg's l2: 0.1944 + 0.125729\n",
      "Early stopping, best iteration is:\n",
      "[802]\tcv_agg's l2: 0.194282 + 0.125404\n",
      "[100]\tcv_agg's l2: 0.196107 + 0.122808\n",
      "[200]\tcv_agg's l2: 0.189633 + 0.12036\n",
      "[300]\tcv_agg's l2: 0.188479 + 0.119754\n",
      "[400]\tcv_agg's l2: 0.188307 + 0.12017\n",
      "[500]\tcv_agg's l2: 0.188044 + 0.119781\n",
      "[600]\tcv_agg's l2: 0.187799 + 0.119745\n"
     ]
    },
    {
     "name": "stderr",
     "output_type": "stream",
     "text": [
      "feature_fraction, val_score: 0.187723:  29%|##8       | 2/7 [00:14<00:36,  7.21s/it][I 2024-05-15 15:41:42,657] Trial 1 finished with value: 0.18772251761709616 and parameters: {'feature_fraction': 0.8999999999999999}. Best is trial 1 with value: 0.18772251761709616.\n",
      "feature_fraction, val_score: 0.187723:  29%|##8       | 2/7 [00:14<00:36,  7.21s/it]"
     ]
    },
    {
     "name": "stdout",
     "output_type": "stream",
     "text": [
      "Early stopping, best iteration is:\n",
      "[576]\tcv_agg's l2: 0.187723 + 0.119548\n",
      "[100]\tcv_agg's l2: 0.18946 + 0.113298\n",
      "[200]\tcv_agg's l2: 0.18451 + 0.112341\n",
      "[300]\tcv_agg's l2: 0.182954 + 0.110954\n",
      "[400]\tcv_agg's l2: 0.182787 + 0.111315\n",
      "[500]\tcv_agg's l2: 0.182487 + 0.111402\n"
     ]
    },
    {
     "name": "stderr",
     "output_type": "stream",
     "text": [
      "feature_fraction, val_score: 0.182406:  43%|####2     | 3/7 [00:20<00:25,  6.48s/it][I 2024-05-15 15:41:48,259] Trial 2 finished with value: 0.18240598434469119 and parameters: {'feature_fraction': 0.7}. Best is trial 2 with value: 0.18240598434469119.\n",
      "feature_fraction, val_score: 0.182406:  43%|####2     | 3/7 [00:20<00:25,  6.48s/it]"
     ]
    },
    {
     "name": "stdout",
     "output_type": "stream",
     "text": [
      "[600]\tcv_agg's l2: 0.182619 + 0.111606\n",
      "Early stopping, best iteration is:\n",
      "[511]\tcv_agg's l2: 0.182406 + 0.111173\n",
      "[100]\tcv_agg's l2: 0.147195 + 0.0561504\n",
      "[200]\tcv_agg's l2: 0.142754 + 0.0543125\n",
      "[300]\tcv_agg's l2: 0.141729 + 0.0533362\n",
      "[400]\tcv_agg's l2: 0.141523 + 0.0531328\n"
     ]
    },
    {
     "name": "stderr",
     "output_type": "stream",
     "text": [
      "feature_fraction, val_score: 0.141337:  57%|#####7    | 4/7 [00:24<00:16,  5.50s/it][I 2024-05-15 15:41:52,261] Trial 3 finished with value: 0.14133692699603403 and parameters: {'feature_fraction': 0.4}. Best is trial 3 with value: 0.14133692699603403.\n",
      "feature_fraction, val_score: 0.141337:  57%|#####7    | 4/7 [00:24<00:16,  5.50s/it]"
     ]
    },
    {
     "name": "stdout",
     "output_type": "stream",
     "text": [
      "Early stopping, best iteration is:\n",
      "[362]\tcv_agg's l2: 0.141337 + 0.0529059\n",
      "[100]\tcv_agg's l2: 0.216487 + 0.149814\n",
      "[200]\tcv_agg's l2: 0.208842 + 0.144058\n",
      "[300]\tcv_agg's l2: 0.206344 + 0.142192\n",
      "[400]\tcv_agg's l2: 0.206053 + 0.142275\n"
     ]
    },
    {
     "name": "stderr",
     "output_type": "stream",
     "text": [
      "feature_fraction, val_score: 0.141337:  71%|#######1  | 5/7 [00:28<00:10,  5.14s/it][I 2024-05-15 15:41:56,757] Trial 4 finished with value: 0.20620254757743925 and parameters: {'feature_fraction': 1.0}. Best is trial 3 with value: 0.14133692699603403.\n",
      "feature_fraction, val_score: 0.141337:  71%|#######1  | 5/7 [00:28<00:10,  5.14s/it]"
     ]
    },
    {
     "name": "stdout",
     "output_type": "stream",
     "text": [
      "Early stopping, best iteration is:\n",
      "[362]\tcv_agg's l2: 0.141337 + 0.0529059\n",
      "[100]\tcv_agg's l2: 0.174113 + 0.100988\n",
      "[200]\tcv_agg's l2: 0.169877 + 0.10052\n",
      "[300]\tcv_agg's l2: 0.168223 + 0.0997218\n",
      "[400]\tcv_agg's l2: 0.168186 + 0.0999929\n"
     ]
    },
    {
     "name": "stderr",
     "output_type": "stream",
     "text": [
      "feature_fraction, val_score: 0.141337:  86%|########5 | 6/7 [00:33<00:04,  4.89s/it][I 2024-05-15 15:42:01,179] Trial 5 finished with value: 0.16812282247618368 and parameters: {'feature_fraction': 0.6}. Best is trial 3 with value: 0.14133692699603403.\n",
      "feature_fraction, val_score: 0.141337:  86%|########5 | 6/7 [00:33<00:04,  4.89s/it]"
     ]
    },
    {
     "name": "stdout",
     "output_type": "stream",
     "text": [
      "Early stopping, best iteration is:\n",
      "[362]\tcv_agg's l2: 0.141337 + 0.0529059\n",
      "[100]\tcv_agg's l2: 0.159492 + 0.0784567\n",
      "[200]\tcv_agg's l2: 0.154322 + 0.0742951\n",
      "[300]\tcv_agg's l2: 0.152527 + 0.0735765\n",
      "[400]\tcv_agg's l2: 0.152356 + 0.0731972\n"
     ]
    },
    {
     "name": "stderr",
     "output_type": "stream",
     "text": [
      "feature_fraction, val_score: 0.141337: 100%|##########| 7/7 [00:37<00:00,  4.77s/it][I 2024-05-15 15:42:05,697] Trial 6 finished with value: 0.15225887394792736 and parameters: {'feature_fraction': 0.5}. Best is trial 3 with value: 0.14133692699603403.\n",
      "feature_fraction, val_score: 0.141337: 100%|##########| 7/7 [00:37<00:00,  5.40s/it]\n"
     ]
    },
    {
     "name": "stdout",
     "output_type": "stream",
     "text": [
      "Early stopping, best iteration is:\n",
      "[362]\tcv_agg's l2: 0.141337 + 0.0529059\n"
     ]
    },
    {
     "name": "stderr",
     "output_type": "stream",
     "text": [
      "num_leaves, val_score: 0.141337:   0%|          | 0/20 [00:00<?, ?it/s]"
     ]
    },
    {
     "name": "stdout",
     "output_type": "stream",
     "text": [
      "[100]\tcv_agg's l2: 0.145994 + 0.0586038\n",
      "[200]\tcv_agg's l2: 0.140851 + 0.0568272\n",
      "[300]\tcv_agg's l2: 0.13956 + 0.0553199\n",
      "[400]\tcv_agg's l2: 0.139333 + 0.0550998\n",
      "[500]\tcv_agg's l2: 0.138966 + 0.0546617\n",
      "[600]\tcv_agg's l2: 0.139043 + 0.0547964\n"
     ]
    },
    {
     "name": "stderr",
     "output_type": "stream",
     "text": [
      "num_leaves, val_score: 0.138950:   5%|5         | 1/20 [00:07<02:14,  7.07s/it][I 2024-05-15 15:42:12,777] Trial 7 finished with value: 0.13895003981991644 and parameters: {'num_leaves': 209}. Best is trial 7 with value: 0.13895003981991644.\n",
      "num_leaves, val_score: 0.138950:   5%|5         | 1/20 [00:07<02:14,  7.07s/it]"
     ]
    },
    {
     "name": "stdout",
     "output_type": "stream",
     "text": [
      "Early stopping, best iteration is:\n",
      "[534]\tcv_agg's l2: 0.13895 + 0.0547024\n",
      "[100]\tcv_agg's l2: 0.145994 + 0.0586038\n",
      "[200]\tcv_agg's l2: 0.140851 + 0.0568272\n",
      "[300]\tcv_agg's l2: 0.13956 + 0.0553199\n",
      "[400]\tcv_agg's l2: 0.139333 + 0.0550998\n",
      "[500]\tcv_agg's l2: 0.138966 + 0.0546617\n",
      "[600]\tcv_agg's l2: 0.139043 + 0.0547964\n"
     ]
    },
    {
     "name": "stderr",
     "output_type": "stream",
     "text": [
      "num_leaves, val_score: 0.138950:  10%|#         | 2/20 [00:15<02:21,  7.86s/it][I 2024-05-15 15:42:21,193] Trial 8 finished with value: 0.13895003981991644 and parameters: {'num_leaves': 60}. Best is trial 7 with value: 0.13895003981991644.\n",
      "num_leaves, val_score: 0.138950:  10%|#         | 2/20 [00:15<02:21,  7.86s/it]"
     ]
    },
    {
     "name": "stdout",
     "output_type": "stream",
     "text": [
      "Early stopping, best iteration is:\n",
      "[534]\tcv_agg's l2: 0.13895 + 0.0547024\n",
      "[100]\tcv_agg's l2: 0.145994 + 0.0586038\n",
      "[200]\tcv_agg's l2: 0.140851 + 0.0568272\n",
      "[300]\tcv_agg's l2: 0.13956 + 0.0553199\n",
      "[400]\tcv_agg's l2: 0.139333 + 0.0550998\n",
      "[500]\tcv_agg's l2: 0.138966 + 0.0546617\n",
      "[600]\tcv_agg's l2: 0.139043 + 0.0547964\n"
     ]
    },
    {
     "name": "stderr",
     "output_type": "stream",
     "text": [
      "num_leaves, val_score: 0.138950:  15%|#5        | 3/20 [00:24<02:19,  8.19s/it][I 2024-05-15 15:42:29,770] Trial 9 finished with value: 0.13895003981991644 and parameters: {'num_leaves': 100}. Best is trial 7 with value: 0.13895003981991644.\n",
      "num_leaves, val_score: 0.138950:  15%|#5        | 3/20 [00:24<02:19,  8.19s/it]"
     ]
    },
    {
     "name": "stdout",
     "output_type": "stream",
     "text": [
      "Early stopping, best iteration is:\n",
      "[534]\tcv_agg's l2: 0.13895 + 0.0547024\n",
      "[100]\tcv_agg's l2: 0.145994 + 0.0586038\n",
      "[200]\tcv_agg's l2: 0.140851 + 0.0568272\n",
      "[300]\tcv_agg's l2: 0.13956 + 0.0553199\n",
      "[400]\tcv_agg's l2: 0.139333 + 0.0550998\n",
      "[500]\tcv_agg's l2: 0.138966 + 0.0546617\n",
      "[600]\tcv_agg's l2: 0.139043 + 0.0547964\n"
     ]
    },
    {
     "name": "stderr",
     "output_type": "stream",
     "text": [
      "num_leaves, val_score: 0.138950:  20%|##        | 4/20 [00:35<02:31,  9.45s/it][I 2024-05-15 15:42:41,153] Trial 10 finished with value: 0.13895003981991644 and parameters: {'num_leaves': 256}. Best is trial 7 with value: 0.13895003981991644.\n",
      "num_leaves, val_score: 0.138950:  20%|##        | 4/20 [00:35<02:31,  9.45s/it]"
     ]
    },
    {
     "name": "stdout",
     "output_type": "stream",
     "text": [
      "Early stopping, best iteration is:\n",
      "[534]\tcv_agg's l2: 0.13895 + 0.0547024\n",
      "[100]\tcv_agg's l2: 0.279521 + 0.0967723\n",
      "[200]\tcv_agg's l2: 0.235758 + 0.0783079\n",
      "[300]\tcv_agg's l2: 0.214873 + 0.0719741\n",
      "[400]\tcv_agg's l2: 0.20313 + 0.0665166\n",
      "[500]\tcv_agg's l2: 0.194104 + 0.0636601\n",
      "[600]\tcv_agg's l2: 0.187314 + 0.0608698\n"
     ]
    },
    {
     "name": "stderr",
     "output_type": "stream",
     "text": [
      "num_leaves, val_score: 0.138950:  25%|##5       | 5/20 [00:36<01:36,  6.46s/it][I 2024-05-15 15:42:42,326] Trial 11 finished with value: 0.19122175350081067 and parameters: {'num_leaves': 3}. Best is trial 7 with value: 0.13895003981991644.\n",
      "num_leaves, val_score: 0.138950:  25%|##5       | 5/20 [00:36<01:36,  6.46s/it]"
     ]
    },
    {
     "name": "stdout",
     "output_type": "stream",
     "text": [
      "Early stopping, best iteration is:\n",
      "[534]\tcv_agg's l2: 0.13895 + 0.0547024\n",
      "[100]\tcv_agg's l2: 0.145994 + 0.0586038\n",
      "[200]\tcv_agg's l2: 0.140851 + 0.0568272\n",
      "[300]\tcv_agg's l2: 0.13956 + 0.0553199\n",
      "[400]\tcv_agg's l2: 0.139333 + 0.0550998\n",
      "[500]\tcv_agg's l2: 0.138966 + 0.0546617\n",
      "[600]\tcv_agg's l2: 0.139043 + 0.0547964\n"
     ]
    },
    {
     "name": "stderr",
     "output_type": "stream",
     "text": [
      "num_leaves, val_score: 0.138950:  30%|###       | 6/20 [00:43<01:34,  6.74s/it][I 2024-05-15 15:42:49,603] Trial 12 finished with value: 0.13895003981991644 and parameters: {'num_leaves': 206}. Best is trial 7 with value: 0.13895003981991644.\n",
      "num_leaves, val_score: 0.138950:  30%|###       | 6/20 [00:43<01:34,  6.74s/it]"
     ]
    },
    {
     "name": "stdout",
     "output_type": "stream",
     "text": [
      "Early stopping, best iteration is:\n",
      "[534]\tcv_agg's l2: 0.13895 + 0.0547024\n",
      "[100]\tcv_agg's l2: 0.145994 + 0.0586038\n",
      "[200]\tcv_agg's l2: 0.140851 + 0.0568272\n",
      "[300]\tcv_agg's l2: 0.13956 + 0.0553199\n",
      "[400]\tcv_agg's l2: 0.139333 + 0.0550998\n",
      "[500]\tcv_agg's l2: 0.138966 + 0.0546617\n",
      "[600]\tcv_agg's l2: 0.139043 + 0.0547964\n"
     ]
    },
    {
     "name": "stderr",
     "output_type": "stream",
     "text": [
      "num_leaves, val_score: 0.138950:  35%|###5      | 7/20 [00:54<01:43,  7.99s/it][I 2024-05-15 15:43:00,173] Trial 13 finished with value: 0.13895003981991644 and parameters: {'num_leaves': 88}. Best is trial 7 with value: 0.13895003981991644.\n",
      "num_leaves, val_score: 0.138950:  35%|###5      | 7/20 [00:54<01:43,  7.99s/it]"
     ]
    },
    {
     "name": "stdout",
     "output_type": "stream",
     "text": [
      "Early stopping, best iteration is:\n",
      "[534]\tcv_agg's l2: 0.13895 + 0.0547024\n",
      "[100]\tcv_agg's l2: 0.145994 + 0.0586038\n",
      "[200]\tcv_agg's l2: 0.140851 + 0.0568272\n",
      "[300]\tcv_agg's l2: 0.13956 + 0.0553199\n",
      "[400]\tcv_agg's l2: 0.139333 + 0.0550998\n",
      "[500]\tcv_agg's l2: 0.138966 + 0.0546617\n",
      "[600]\tcv_agg's l2: 0.139043 + 0.0547964\n"
     ]
    },
    {
     "name": "stderr",
     "output_type": "stream",
     "text": [
      "num_leaves, val_score: 0.138950:  40%|####      | 8/20 [01:01<01:31,  7.62s/it][I 2024-05-15 15:43:07,002] Trial 14 finished with value: 0.13895003981991644 and parameters: {'num_leaves': 163}. Best is trial 7 with value: 0.13895003981991644.\n",
      "num_leaves, val_score: 0.138950:  40%|####      | 8/20 [01:01<01:31,  7.62s/it]"
     ]
    },
    {
     "name": "stdout",
     "output_type": "stream",
     "text": [
      "Early stopping, best iteration is:\n",
      "[534]\tcv_agg's l2: 0.13895 + 0.0547024\n",
      "[100]\tcv_agg's l2: 0.147195 + 0.0561504\n",
      "[200]\tcv_agg's l2: 0.142754 + 0.0543125\n",
      "[300]\tcv_agg's l2: 0.141729 + 0.0533362\n",
      "[400]\tcv_agg's l2: 0.141523 + 0.0531328\n",
      "[500]\tcv_agg's l2: 0.141368 + 0.052757\n",
      "[600]\tcv_agg's l2: 0.141208 + 0.0528747\n"
     ]
    },
    {
     "name": "stderr",
     "output_type": "stream",
     "text": [
      "num_leaves, val_score: 0.138950:  45%|####5     | 9/20 [01:08<01:20,  7.34s/it][I 2024-05-15 15:43:13,736] Trial 15 finished with value: 0.14140486762779458 and parameters: {'num_leaves': 31}. Best is trial 7 with value: 0.13895003981991644.\n",
      "num_leaves, val_score: 0.138950:  45%|####5     | 9/20 [01:08<01:20,  7.34s/it]"
     ]
    },
    {
     "name": "stdout",
     "output_type": "stream",
     "text": [
      "Early stopping, best iteration is:\n",
      "[534]\tcv_agg's l2: 0.13895 + 0.0547024\n",
      "[100]\tcv_agg's l2: 0.145994 + 0.0586038\n",
      "[200]\tcv_agg's l2: 0.140851 + 0.0568272\n",
      "[300]\tcv_agg's l2: 0.13956 + 0.0553199\n",
      "[400]\tcv_agg's l2: 0.139333 + 0.0550998\n",
      "[500]\tcv_agg's l2: 0.138966 + 0.0546617\n",
      "[600]\tcv_agg's l2: 0.139043 + 0.0547964\n"
     ]
    },
    {
     "name": "stderr",
     "output_type": "stream",
     "text": [
      "num_leaves, val_score: 0.138950:  50%|#####     | 10/20 [01:16<01:16,  7.60s/it][I 2024-05-15 15:43:21,910] Trial 16 finished with value: 0.13895003981991644 and parameters: {'num_leaves': 161}. Best is trial 7 with value: 0.13895003981991644.\n",
      "num_leaves, val_score: 0.138950:  50%|#####     | 10/20 [01:16<01:16,  7.60s/it]"
     ]
    },
    {
     "name": "stdout",
     "output_type": "stream",
     "text": [
      "Early stopping, best iteration is:\n",
      "[534]\tcv_agg's l2: 0.13895 + 0.0547024\n",
      "[100]\tcv_agg's l2: 0.145994 + 0.0586038\n",
      "[200]\tcv_agg's l2: 0.140851 + 0.0568272\n",
      "[300]\tcv_agg's l2: 0.13956 + 0.0553199\n",
      "[400]\tcv_agg's l2: 0.139333 + 0.0550998\n",
      "[500]\tcv_agg's l2: 0.138966 + 0.0546617\n",
      "[600]\tcv_agg's l2: 0.139043 + 0.0547964\n"
     ]
    },
    {
     "name": "stderr",
     "output_type": "stream",
     "text": [
      "num_leaves, val_score: 0.138950:  55%|#####5    | 11/20 [01:23<01:08,  7.62s/it][I 2024-05-15 15:43:29,572] Trial 17 finished with value: 0.13895003981991644 and parameters: {'num_leaves': 70}. Best is trial 7 with value: 0.13895003981991644.\n",
      "num_leaves, val_score: 0.138950:  55%|#####5    | 11/20 [01:23<01:08,  7.62s/it]"
     ]
    },
    {
     "name": "stdout",
     "output_type": "stream",
     "text": [
      "Early stopping, best iteration is:\n",
      "[534]\tcv_agg's l2: 0.13895 + 0.0547024\n",
      "[100]\tcv_agg's l2: 0.145994 + 0.0586038\n",
      "[200]\tcv_agg's l2: 0.140851 + 0.0568272\n",
      "[300]\tcv_agg's l2: 0.13956 + 0.0553199\n",
      "[400]\tcv_agg's l2: 0.139333 + 0.0550998\n",
      "[500]\tcv_agg's l2: 0.138966 + 0.0546617\n",
      "[600]\tcv_agg's l2: 0.139043 + 0.0547964\n"
     ]
    },
    {
     "name": "stderr",
     "output_type": "stream",
     "text": [
      "num_leaves, val_score: 0.138950:  60%|######    | 12/20 [01:33<01:05,  8.15s/it][I 2024-05-15 15:43:38,919] Trial 18 finished with value: 0.13895003981991644 and parameters: {'num_leaves': 240}. Best is trial 7 with value: 0.13895003981991644.\n",
      "num_leaves, val_score: 0.138950:  60%|######    | 12/20 [01:33<01:05,  8.15s/it]"
     ]
    },
    {
     "name": "stdout",
     "output_type": "stream",
     "text": [
      "Early stopping, best iteration is:\n",
      "[534]\tcv_agg's l2: 0.13895 + 0.0547024\n",
      "[100]\tcv_agg's l2: 0.145994 + 0.0586038\n",
      "[200]\tcv_agg's l2: 0.140851 + 0.0568272\n",
      "[300]\tcv_agg's l2: 0.13956 + 0.0553199\n",
      "[400]\tcv_agg's l2: 0.139333 + 0.0550998\n",
      "[500]\tcv_agg's l2: 0.138966 + 0.0546617\n",
      "[600]\tcv_agg's l2: 0.139043 + 0.0547964\n"
     ]
    },
    {
     "name": "stderr",
     "output_type": "stream",
     "text": [
      "num_leaves, val_score: 0.138950:  65%|######5   | 13/20 [01:46<01:08,  9.80s/it][I 2024-05-15 15:43:52,514] Trial 19 finished with value: 0.13895003981991644 and parameters: {'num_leaves': 137}. Best is trial 7 with value: 0.13895003981991644.\n",
      "num_leaves, val_score: 0.138950:  65%|######5   | 13/20 [01:46<01:08,  9.80s/it]"
     ]
    },
    {
     "name": "stdout",
     "output_type": "stream",
     "text": [
      "Early stopping, best iteration is:\n",
      "[534]\tcv_agg's l2: 0.13895 + 0.0547024\n",
      "[100]\tcv_agg's l2: 0.145994 + 0.0586038\n",
      "[200]\tcv_agg's l2: 0.140851 + 0.0568272\n",
      "[300]\tcv_agg's l2: 0.13956 + 0.0553199\n",
      "[400]\tcv_agg's l2: 0.139333 + 0.0550998\n",
      "[500]\tcv_agg's l2: 0.138966 + 0.0546617\n",
      "[600]\tcv_agg's l2: 0.139043 + 0.0547964\n"
     ]
    },
    {
     "name": "stderr",
     "output_type": "stream",
     "text": [
      "num_leaves, val_score: 0.138950:  70%|#######   | 14/20 [01:58<01:02, 10.48s/it][I 2024-05-15 15:44:04,560] Trial 20 finished with value: 0.13895003981991644 and parameters: {'num_leaves': 196}. Best is trial 7 with value: 0.13895003981991644.\n",
      "num_leaves, val_score: 0.138950:  70%|#######   | 14/20 [01:58<01:02, 10.48s/it]"
     ]
    },
    {
     "name": "stdout",
     "output_type": "stream",
     "text": [
      "Early stopping, best iteration is:\n",
      "[534]\tcv_agg's l2: 0.13895 + 0.0547024\n",
      "[100]\tcv_agg's l2: 0.145994 + 0.0586038\n",
      "[200]\tcv_agg's l2: 0.140851 + 0.0568272\n",
      "[300]\tcv_agg's l2: 0.13956 + 0.0553199\n",
      "[400]\tcv_agg's l2: 0.139333 + 0.0550998\n",
      "[500]\tcv_agg's l2: 0.138966 + 0.0546617\n",
      "[600]\tcv_agg's l2: 0.139043 + 0.0547964\n"
     ]
    },
    {
     "name": "stderr",
     "output_type": "stream",
     "text": [
      "num_leaves, val_score: 0.138950:  75%|#######5  | 15/20 [02:13<00:58, 11.77s/it][I 2024-05-15 15:44:19,315] Trial 21 finished with value: 0.13895003981991644 and parameters: {'num_leaves': 86}. Best is trial 7 with value: 0.13895003981991644.\n",
      "num_leaves, val_score: 0.138950:  75%|#######5  | 15/20 [02:13<00:58, 11.77s/it]"
     ]
    },
    {
     "name": "stdout",
     "output_type": "stream",
     "text": [
      "Early stopping, best iteration is:\n",
      "[534]\tcv_agg's l2: 0.13895 + 0.0547024\n",
      "[100]\tcv_agg's l2: 0.145994 + 0.0586038\n",
      "[200]\tcv_agg's l2: 0.140851 + 0.0568272\n",
      "[300]\tcv_agg's l2: 0.13956 + 0.0553199\n",
      "[400]\tcv_agg's l2: 0.139333 + 0.0550998\n",
      "[500]\tcv_agg's l2: 0.138966 + 0.0546617\n",
      "[600]\tcv_agg's l2: 0.139043 + 0.0547964\n"
     ]
    },
    {
     "name": "stderr",
     "output_type": "stream",
     "text": [
      "num_leaves, val_score: 0.138950:  80%|########  | 16/20 [02:28<00:50, 12.60s/it][I 2024-05-15 15:44:33,849] Trial 22 finished with value: 0.13895003981991644 and parameters: {'num_leaves': 114}. Best is trial 7 with value: 0.13895003981991644.\n",
      "num_leaves, val_score: 0.138950:  80%|########  | 16/20 [02:28<00:50, 12.60s/it]"
     ]
    },
    {
     "name": "stdout",
     "output_type": "stream",
     "text": [
      "Early stopping, best iteration is:\n",
      "[534]\tcv_agg's l2: 0.13895 + 0.0547024\n",
      "[100]\tcv_agg's l2: 0.146507 + 0.0594085\n",
      "[200]\tcv_agg's l2: 0.141193 + 0.0558109\n",
      "[300]\tcv_agg's l2: 0.140776 + 0.0554625\n",
      "[400]\tcv_agg's l2: 0.140403 + 0.0553706\n",
      "[500]\tcv_agg's l2: 0.140176 + 0.0554934\n",
      "[600]\tcv_agg's l2: 0.140226 + 0.0557771\n"
     ]
    },
    {
     "name": "stderr",
     "output_type": "stream",
     "text": [
      "num_leaves, val_score: 0.138950:  85%|########5 | 17/20 [02:37<00:34, 11.59s/it][I 2024-05-15 15:44:43,078] Trial 23 finished with value: 0.14012738373914085 and parameters: {'num_leaves': 35}. Best is trial 7 with value: 0.13895003981991644.\n",
      "num_leaves, val_score: 0.138950:  85%|########5 | 17/20 [02:37<00:34, 11.59s/it]"
     ]
    },
    {
     "name": "stdout",
     "output_type": "stream",
     "text": [
      "Early stopping, best iteration is:\n",
      "[534]\tcv_agg's l2: 0.13895 + 0.0547024\n",
      "[100]\tcv_agg's l2: 0.145994 + 0.0586038\n",
      "[200]\tcv_agg's l2: 0.140851 + 0.0568272\n",
      "[300]\tcv_agg's l2: 0.13956 + 0.0553199\n",
      "[400]\tcv_agg's l2: 0.139333 + 0.0550998\n",
      "[500]\tcv_agg's l2: 0.138966 + 0.0546617\n",
      "[600]\tcv_agg's l2: 0.139043 + 0.0547964\n"
     ]
    },
    {
     "name": "stderr",
     "output_type": "stream",
     "text": [
      "num_leaves, val_score: 0.138950:  90%|######### | 18/20 [02:50<00:24, 12.11s/it][I 2024-05-15 15:44:56,417] Trial 24 finished with value: 0.13895003981991644 and parameters: {'num_leaves': 117}. Best is trial 7 with value: 0.13895003981991644.\n",
      "num_leaves, val_score: 0.138950:  90%|######### | 18/20 [02:50<00:24, 12.11s/it]"
     ]
    },
    {
     "name": "stdout",
     "output_type": "stream",
     "text": [
      "Early stopping, best iteration is:\n",
      "[534]\tcv_agg's l2: 0.13895 + 0.0547024\n",
      "[100]\tcv_agg's l2: 0.145994 + 0.0586038\n",
      "[200]\tcv_agg's l2: 0.140851 + 0.0568272\n",
      "[300]\tcv_agg's l2: 0.13956 + 0.0553199\n",
      "[400]\tcv_agg's l2: 0.139333 + 0.0550998\n",
      "[500]\tcv_agg's l2: 0.138966 + 0.0546617\n",
      "[600]\tcv_agg's l2: 0.139043 + 0.0547964\n"
     ]
    },
    {
     "name": "stderr",
     "output_type": "stream",
     "text": [
      "num_leaves, val_score: 0.138950:  95%|#########5| 19/20 [03:04<00:12, 12.71s/it][I 2024-05-15 15:45:10,503] Trial 25 finished with value: 0.13895003981991644 and parameters: {'num_leaves': 64}. Best is trial 7 with value: 0.13895003981991644.\n",
      "num_leaves, val_score: 0.138950:  95%|#########5| 19/20 [03:04<00:12, 12.71s/it]"
     ]
    },
    {
     "name": "stdout",
     "output_type": "stream",
     "text": [
      "Early stopping, best iteration is:\n",
      "[534]\tcv_agg's l2: 0.13895 + 0.0547024\n",
      "[100]\tcv_agg's l2: 0.145994 + 0.0586038\n",
      "[200]\tcv_agg's l2: 0.140851 + 0.0568272\n",
      "[300]\tcv_agg's l2: 0.13956 + 0.0553199\n",
      "[400]\tcv_agg's l2: 0.139333 + 0.0550998\n",
      "[500]\tcv_agg's l2: 0.138966 + 0.0546617\n",
      "[600]\tcv_agg's l2: 0.139043 + 0.0547964\n"
     ]
    },
    {
     "name": "stderr",
     "output_type": "stream",
     "text": [
      "num_leaves, val_score: 0.138950: 100%|##########| 20/20 [03:18<00:00, 12.95s/it][I 2024-05-15 15:45:24,011] Trial 26 finished with value: 0.13895003981991644 and parameters: {'num_leaves': 143}. Best is trial 7 with value: 0.13895003981991644.\n",
      "num_leaves, val_score: 0.138950: 100%|##########| 20/20 [03:18<00:00,  9.92s/it]\n"
     ]
    },
    {
     "name": "stdout",
     "output_type": "stream",
     "text": [
      "Early stopping, best iteration is:\n",
      "[534]\tcv_agg's l2: 0.13895 + 0.0547024\n"
     ]
    },
    {
     "name": "stderr",
     "output_type": "stream",
     "text": [
      "bagging, val_score: 0.138950:   0%|          | 0/10 [00:00<?, ?it/s]"
     ]
    },
    {
     "name": "stdout",
     "output_type": "stream",
     "text": [
      "[100]\tcv_agg's l2: 0.147718 + 0.0573852\n",
      "[200]\tcv_agg's l2: 0.14135 + 0.0532824\n",
      "[300]\tcv_agg's l2: 0.140194 + 0.0523662\n",
      "[400]\tcv_agg's l2: 0.139906 + 0.0520595\n",
      "[500]\tcv_agg's l2: 0.14011 + 0.0521187\n",
      "[600]\tcv_agg's l2: 0.140182 + 0.0518487\n"
     ]
    },
    {
     "name": "stderr",
     "output_type": "stream",
     "text": [
      "bagging, val_score: 0.138950:  10%|#         | 1/10 [00:14<02:06, 14.01s/it][I 2024-05-15 15:45:38,033] Trial 27 finished with value: 0.14013305610918209 and parameters: {'bagging_fraction': 0.8453489427995832, 'bagging_freq': 3}. Best is trial 27 with value: 0.14013305610918209.\n",
      "bagging, val_score: 0.138950:  10%|#         | 1/10 [00:14<02:06, 14.01s/it]"
     ]
    },
    {
     "name": "stdout",
     "output_type": "stream",
     "text": [
      "Early stopping, best iteration is:\n",
      "[534]\tcv_agg's l2: 0.13895 + 0.0547024\n",
      "[100]\tcv_agg's l2: 0.170016 + 0.0477662\n",
      "[200]\tcv_agg's l2: 0.160038 + 0.0460833\n",
      "[300]\tcv_agg's l2: 0.155069 + 0.0426433\n",
      "[400]\tcv_agg's l2: 0.154907 + 0.0413148\n",
      "[500]\tcv_agg's l2: 0.154973 + 0.0414892\n",
      "[600]\tcv_agg's l2: 0.154225 + 0.0409464\n"
     ]
    },
    {
     "name": "stderr",
     "output_type": "stream",
     "text": [
      "bagging, val_score: 0.138950:  20%|##        | 2/10 [00:21<01:20, 10.04s/it][I 2024-05-15 15:45:45,287] Trial 28 finished with value: 0.1544574980879664 and parameters: {'bagging_fraction': 0.45559376454608314, 'bagging_freq': 7}. Best is trial 27 with value: 0.14013305610918209.\n",
      "bagging, val_score: 0.138950:  20%|##        | 2/10 [00:21<01:20, 10.04s/it]"
     ]
    },
    {
     "name": "stdout",
     "output_type": "stream",
     "text": [
      "Early stopping, best iteration is:\n",
      "[534]\tcv_agg's l2: 0.13895 + 0.0547024\n",
      "[100]\tcv_agg's l2: 0.145096 + 0.0550027\n",
      "[200]\tcv_agg's l2: 0.139965 + 0.0500861\n",
      "[300]\tcv_agg's l2: 0.139433 + 0.049607\n",
      "[400]\tcv_agg's l2: 0.13908 + 0.0487523\n",
      "[500]\tcv_agg's l2: 0.139035 + 0.048839\n",
      "[600]\tcv_agg's l2: 0.138987 + 0.0488345\n"
     ]
    },
    {
     "name": "stderr",
     "output_type": "stream",
     "text": [
      "bagging, val_score: 0.138916:  30%|###       | 3/10 [00:36<01:25, 12.19s/it][I 2024-05-15 15:46:00,032] Trial 29 finished with value: 0.13891599134750826 and parameters: {'bagging_fraction': 0.983565492814918, 'bagging_freq': 1}. Best is trial 29 with value: 0.13891599134750826.\n",
      "bagging, val_score: 0.138916:  30%|###       | 3/10 [00:36<01:25, 12.19s/it]"
     ]
    },
    {
     "name": "stdout",
     "output_type": "stream",
     "text": [
      "Early stopping, best iteration is:\n",
      "[579]\tcv_agg's l2: 0.138916 + 0.0487118\n",
      "[100]\tcv_agg's l2: 0.145417 + 0.0541854\n",
      "[200]\tcv_agg's l2: 0.14078 + 0.0533276\n",
      "[300]\tcv_agg's l2: 0.139989 + 0.0529093\n",
      "[400]\tcv_agg's l2: 0.139798 + 0.0528747\n",
      "[500]\tcv_agg's l2: 0.13984 + 0.0526764\n",
      "[600]\tcv_agg's l2: 0.139958 + 0.0527699\n"
     ]
    },
    {
     "name": "stderr",
     "output_type": "stream",
     "text": [
      "bagging, val_score: 0.138916:  40%|####      | 4/10 [00:50<01:17, 13.00s/it][I 2024-05-15 15:46:14,276] Trial 30 finished with value: 0.13993209342588248 and parameters: {'bagging_fraction': 0.9930043256480063, 'bagging_freq': 1}. Best is trial 29 with value: 0.13891599134750826.\n",
      "bagging, val_score: 0.138916:  40%|####      | 4/10 [00:50<01:17, 13.00s/it]"
     ]
    },
    {
     "name": "stdout",
     "output_type": "stream",
     "text": [
      "Early stopping, best iteration is:\n",
      "[579]\tcv_agg's l2: 0.138916 + 0.0487118\n",
      "[100]\tcv_agg's l2: 0.147331 + 0.0571082\n",
      "[200]\tcv_agg's l2: 0.144011 + 0.0533861\n",
      "[300]\tcv_agg's l2: 0.143533 + 0.0524572\n",
      "[400]\tcv_agg's l2: 0.142755 + 0.051757\n",
      "[500]\tcv_agg's l2: 0.142833 + 0.051532\n",
      "[600]\tcv_agg's l2: 0.142922 + 0.0514026\n"
     ]
    },
    {
     "name": "stderr",
     "output_type": "stream",
     "text": [
      "bagging, val_score: 0.138916:  50%|#####     | 5/10 [01:05<01:09, 13.85s/it][I 2024-05-15 15:46:29,639] Trial 31 finished with value: 0.14288906544179 and parameters: {'bagging_fraction': 0.9870062375052857, 'bagging_freq': 1}. Best is trial 29 with value: 0.13891599134750826.\n",
      "bagging, val_score: 0.138916:  50%|#####     | 5/10 [01:05<01:09, 13.85s/it]"
     ]
    },
    {
     "name": "stdout",
     "output_type": "stream",
     "text": [
      "Early stopping, best iteration is:\n",
      "[579]\tcv_agg's l2: 0.138916 + 0.0487118\n",
      "[100]\tcv_agg's l2: 0.154228 + 0.0541818\n",
      "[200]\tcv_agg's l2: 0.148127 + 0.0479684\n",
      "[300]\tcv_agg's l2: 0.14716 + 0.047503\n",
      "[400]\tcv_agg's l2: 0.147492 + 0.0468181\n",
      "[500]\tcv_agg's l2: 0.147377 + 0.0456484\n",
      "[600]\tcv_agg's l2: 0.147475 + 0.0456977\n"
     ]
    },
    {
     "name": "stderr",
     "output_type": "stream",
     "text": [
      "bagging, val_score: 0.138916:  60%|######    | 6/10 [01:17<00:52, 13.25s/it][I 2024-05-15 15:46:41,713] Trial 32 finished with value: 0.14752346291271273 and parameters: {'bagging_fraction': 0.7094361912816216, 'bagging_freq': 4}. Best is trial 29 with value: 0.13891599134750826.\n",
      "bagging, val_score: 0.138916:  60%|######    | 6/10 [01:17<00:52, 13.25s/it]"
     ]
    },
    {
     "name": "stdout",
     "output_type": "stream",
     "text": [
      "Early stopping, best iteration is:\n",
      "[579]\tcv_agg's l2: 0.138916 + 0.0487118\n",
      "[100]\tcv_agg's l2: 0.14794 + 0.0521718\n",
      "[200]\tcv_agg's l2: 0.144282 + 0.052509\n",
      "[300]\tcv_agg's l2: 0.142029 + 0.0508365\n",
      "[400]\tcv_agg's l2: 0.14161 + 0.0497787\n",
      "[500]\tcv_agg's l2: 0.141315 + 0.0490065\n",
      "[600]\tcv_agg's l2: 0.140993 + 0.0489907\n"
     ]
    },
    {
     "name": "stderr",
     "output_type": "stream",
     "text": [
      "bagging, val_score: 0.138916:  70%|#######   | 7/10 [01:29<00:38, 12.77s/it][I 2024-05-15 15:46:53,505] Trial 33 finished with value: 0.14098778349386384 and parameters: {'bagging_fraction': 0.7766663494027436, 'bagging_freq': 7}. Best is trial 29 with value: 0.13891599134750826.\n",
      "bagging, val_score: 0.138916:  70%|#######   | 7/10 [01:29<00:38, 12.77s/it]"
     ]
    },
    {
     "name": "stdout",
     "output_type": "stream",
     "text": [
      "Early stopping, best iteration is:\n",
      "[579]\tcv_agg's l2: 0.138916 + 0.0487118\n",
      "[100]\tcv_agg's l2: 0.159747 + 0.0525571\n",
      "[200]\tcv_agg's l2: 0.151005 + 0.0474968\n",
      "[300]\tcv_agg's l2: 0.150044 + 0.04484\n",
      "[400]\tcv_agg's l2: 0.148879 + 0.0435792\n",
      "[500]\tcv_agg's l2: 0.148517 + 0.0423665\n",
      "[600]\tcv_agg's l2: 0.148447 + 0.0417865\n"
     ]
    },
    {
     "name": "stderr",
     "output_type": "stream",
     "text": [
      "bagging, val_score: 0.138916:  80%|########  | 8/10 [01:38<00:23, 11.61s/it][I 2024-05-15 15:47:02,641] Trial 34 finished with value: 0.14865202761190494 and parameters: {'bagging_fraction': 0.5775579826257828, 'bagging_freq': 3}. Best is trial 29 with value: 0.13891599134750826.\n",
      "bagging, val_score: 0.138916:  80%|########  | 8/10 [01:38<00:23, 11.61s/it]"
     ]
    },
    {
     "name": "stdout",
     "output_type": "stream",
     "text": [
      "Early stopping, best iteration is:\n",
      "[579]\tcv_agg's l2: 0.138916 + 0.0487118\n",
      "[100]\tcv_agg's l2: 0.14633 + 0.0534518\n",
      "[200]\tcv_agg's l2: 0.140166 + 0.0528185\n",
      "[300]\tcv_agg's l2: 0.139319 + 0.0520916\n",
      "[400]\tcv_agg's l2: 0.13945 + 0.0521236\n",
      "[500]\tcv_agg's l2: 0.139175 + 0.0517331\n",
      "[600]\tcv_agg's l2: 0.139418 + 0.0518794\n"
     ]
    },
    {
     "name": "stderr",
     "output_type": "stream",
     "text": [
      "bagging, val_score: 0.138916:  90%|######### | 9/10 [01:51<00:12, 12.03s/it][I 2024-05-15 15:47:15,579] Trial 35 finished with value: 0.13933147434523158 and parameters: {'bagging_fraction': 0.8882560937603471, 'bagging_freq': 5}. Best is trial 29 with value: 0.13891599134750826.\n",
      "bagging, val_score: 0.138916:  90%|######### | 9/10 [01:51<00:12, 12.03s/it]"
     ]
    },
    {
     "name": "stdout",
     "output_type": "stream",
     "text": [
      "Early stopping, best iteration is:\n",
      "[579]\tcv_agg's l2: 0.138916 + 0.0487118\n",
      "[100]\tcv_agg's l2: 0.150988 + 0.048067\n",
      "[200]\tcv_agg's l2: 0.143947 + 0.0464187\n",
      "[300]\tcv_agg's l2: 0.140238 + 0.0429359\n",
      "[400]\tcv_agg's l2: 0.139243 + 0.0432931\n"
     ]
    },
    {
     "name": "stderr",
     "output_type": "stream",
     "text": [
      "bagging, val_score: 0.138830: 100%|##########| 10/10 [01:58<00:00, 10.56s/it][I 2024-05-15 15:47:22,846] Trial 36 finished with value: 0.1388304404053523 and parameters: {'bagging_fraction': 0.6474147541955436, 'bagging_freq': 2}. Best is trial 36 with value: 0.1388304404053523.\n",
      "bagging, val_score: 0.138830: 100%|##########| 10/10 [01:58<00:00, 11.88s/it]\n"
     ]
    },
    {
     "name": "stdout",
     "output_type": "stream",
     "text": [
      "Early stopping, best iteration is:\n",
      "[338]\tcv_agg's l2: 0.13883 + 0.0427929\n"
     ]
    },
    {
     "name": "stderr",
     "output_type": "stream",
     "text": [
      "feature_fraction_stage2, val_score: 0.138830:   0%|          | 0/3 [00:00<?, ?it/s]"
     ]
    },
    {
     "name": "stdout",
     "output_type": "stream",
     "text": [
      "[100]\tcv_agg's l2: 0.153108 + 0.0472405\n",
      "[200]\tcv_agg's l2: 0.145392 + 0.0445516\n",
      "[300]\tcv_agg's l2: 0.141824 + 0.0418493\n",
      "[400]\tcv_agg's l2: 0.14149 + 0.0425927\n"
     ]
    },
    {
     "name": "stderr",
     "output_type": "stream",
     "text": [
      "feature_fraction_stage2, val_score: 0.138830:  33%|###3      | 1/3 [00:07<00:14,  7.50s/it][I 2024-05-15 15:47:30,355] Trial 37 finished with value: 0.1415899956201603 and parameters: {'feature_fraction': 0.41600000000000004}. Best is trial 37 with value: 0.1415899956201603.\n",
      "feature_fraction_stage2, val_score: 0.138830:  33%|###3      | 1/3 [00:07<00:14,  7.50s/it]"
     ]
    },
    {
     "name": "stdout",
     "output_type": "stream",
     "text": [
      "Early stopping, best iteration is:\n",
      "[338]\tcv_agg's l2: 0.13883 + 0.0427929\n",
      "[100]\tcv_agg's l2: 0.16612 + 0.0705733\n",
      "[200]\tcv_agg's l2: 0.159 + 0.0691934\n",
      "[300]\tcv_agg's l2: 0.154831 + 0.064859\n",
      "[400]\tcv_agg's l2: 0.153559 + 0.0647551\n"
     ]
    },
    {
     "name": "stderr",
     "output_type": "stream",
     "text": [
      "feature_fraction_stage2, val_score: 0.138830:  67%|######6   | 2/3 [00:14<00:07,  7.23s/it][I 2024-05-15 15:47:37,398] Trial 38 finished with value: 0.15484436925783973 and parameters: {'feature_fraction': 0.48000000000000004}. Best is trial 37 with value: 0.1415899956201603.\n",
      "feature_fraction_stage2, val_score: 0.138830:  67%|######6   | 2/3 [00:14<00:07,  7.23s/it]"
     ]
    },
    {
     "name": "stdout",
     "output_type": "stream",
     "text": [
      "Early stopping, best iteration is:\n",
      "[338]\tcv_agg's l2: 0.13883 + 0.0427929\n",
      "[100]\tcv_agg's l2: 0.164932 + 0.0637475\n",
      "[200]\tcv_agg's l2: 0.157975 + 0.062044\n",
      "[300]\tcv_agg's l2: 0.154425 + 0.0587875\n",
      "[400]\tcv_agg's l2: 0.153509 + 0.0575383\n"
     ]
    },
    {
     "name": "stderr",
     "output_type": "stream",
     "text": [
      "feature_fraction_stage2, val_score: 0.138830: 100%|##########| 3/3 [00:22<00:00,  7.37s/it][I 2024-05-15 15:47:44,938] Trial 39 finished with value: 0.15418392364760702 and parameters: {'feature_fraction': 0.44800000000000006}. Best is trial 37 with value: 0.1415899956201603.\n",
      "feature_fraction_stage2, val_score: 0.138830: 100%|##########| 3/3 [00:22<00:00,  7.36s/it]\n"
     ]
    },
    {
     "name": "stdout",
     "output_type": "stream",
     "text": [
      "Early stopping, best iteration is:\n",
      "[338]\tcv_agg's l2: 0.13883 + 0.0427929\n"
     ]
    },
    {
     "name": "stderr",
     "output_type": "stream",
     "text": [
      "regularization_factors, val_score: 0.138830:   0%|          | 0/20 [00:00<?, ?it/s]"
     ]
    },
    {
     "name": "stdout",
     "output_type": "stream",
     "text": [
      "[100]\tcv_agg's l2: 0.15002 + 0.0526714\n",
      "[200]\tcv_agg's l2: 0.143603 + 0.050097\n",
      "[300]\tcv_agg's l2: 0.14188 + 0.048249\n",
      "[400]\tcv_agg's l2: 0.141304 + 0.0470948\n"
     ]
    },
    {
     "name": "stderr",
     "output_type": "stream",
     "text": [
      "regularization_factors, val_score: 0.138830:   5%|5         | 1/20 [00:07<02:25,  7.65s/it][I 2024-05-15 15:47:52,601] Trial 40 finished with value: 0.141649108516954 and parameters: {'lambda_l1': 8.120780359670993e-06, 'lambda_l2': 0.055221677725809035}. Best is trial 40 with value: 0.141649108516954.\n",
      "regularization_factors, val_score: 0.138830:   5%|5         | 1/20 [00:07<02:25,  7.65s/it]"
     ]
    },
    {
     "name": "stdout",
     "output_type": "stream",
     "text": [
      "Early stopping, best iteration is:\n",
      "[338]\tcv_agg's l2: 0.13883 + 0.0427929\n",
      "[100]\tcv_agg's l2: 0.155533 + 0.048804\n",
      "[200]\tcv_agg's l2: 0.145881 + 0.0447209\n",
      "[300]\tcv_agg's l2: 0.142511 + 0.0427048\n",
      "[400]\tcv_agg's l2: 0.140869 + 0.0417239\n"
     ]
    },
    {
     "name": "stderr",
     "output_type": "stream",
     "text": [
      "regularization_factors, val_score: 0.138830:  10%|#         | 2/20 [00:12<01:52,  6.26s/it][I 2024-05-15 15:47:57,892] Trial 41 finished with value: 0.14191079970711212 and parameters: {'lambda_l1': 0.8764285890813275, 'lambda_l2': 1.817268444892458e-08}. Best is trial 40 with value: 0.141649108516954.\n",
      "regularization_factors, val_score: 0.138830:  10%|#         | 2/20 [00:12<01:52,  6.26s/it]"
     ]
    },
    {
     "name": "stdout",
     "output_type": "stream",
     "text": [
      "Early stopping, best iteration is:\n",
      "[338]\tcv_agg's l2: 0.13883 + 0.0427929\n",
      "[100]\tcv_agg's l2: 0.154508 + 0.0565838\n",
      "[200]\tcv_agg's l2: 0.147981 + 0.0546986\n",
      "[300]\tcv_agg's l2: 0.145725 + 0.0528915\n",
      "[400]\tcv_agg's l2: 0.144552 + 0.0518459\n"
     ]
    },
    {
     "name": "stderr",
     "output_type": "stream",
     "text": [
      "regularization_factors, val_score: 0.138830:  15%|#5        | 3/20 [00:19<01:51,  6.54s/it][I 2024-05-15 15:48:04,753] Trial 42 finished with value: 0.14567963764691846 and parameters: {'lambda_l1': 2.3024275395493116e-08, 'lambda_l2': 0.9944236070785981}. Best is trial 40 with value: 0.141649108516954.\n",
      "regularization_factors, val_score: 0.138830:  15%|#5        | 3/20 [00:19<01:51,  6.54s/it]"
     ]
    },
    {
     "name": "stdout",
     "output_type": "stream",
     "text": [
      "Early stopping, best iteration is:\n",
      "[338]\tcv_agg's l2: 0.13883 + 0.0427929\n",
      "[100]\tcv_agg's l2: 0.185505 + 0.0559812\n",
      "[200]\tcv_agg's l2: 0.169918 + 0.0479098\n",
      "[300]\tcv_agg's l2: 0.163764 + 0.0441593\n",
      "[400]\tcv_agg's l2: 0.160548 + 0.0425154\n"
     ]
    },
    {
     "name": "stderr",
     "output_type": "stream",
     "text": [
      "regularization_factors, val_score: 0.138830:  20%|##        | 4/20 [00:23<01:26,  5.38s/it][I 2024-05-15 15:48:08,356] Trial 43 finished with value: 0.16221218841663423 and parameters: {'lambda_l1': 4.356110349337956, 'lambda_l2': 1.056719757248369e-05}. Best is trial 40 with value: 0.141649108516954.\n",
      "regularization_factors, val_score: 0.138830:  20%|##        | 4/20 [00:23<01:26,  5.38s/it]"
     ]
    },
    {
     "name": "stdout",
     "output_type": "stream",
     "text": [
      "Early stopping, best iteration is:\n",
      "[338]\tcv_agg's l2: 0.13883 + 0.0427929\n",
      "[100]\tcv_agg's l2: 0.165034 + 0.0494392\n",
      "[200]\tcv_agg's l2: 0.149622 + 0.0429715\n",
      "[300]\tcv_agg's l2: 0.144579 + 0.039658\n",
      "[400]\tcv_agg's l2: 0.141706 + 0.0380314\n"
     ]
    },
    {
     "name": "stderr",
     "output_type": "stream",
     "text": [
      "regularization_factors, val_score: 0.138830:  25%|##5       | 5/20 [00:31<01:34,  6.27s/it][I 2024-05-15 15:48:16,218] Trial 44 finished with value: 0.14364304811195083 and parameters: {'lambda_l1': 0.005283084744932603, 'lambda_l2': 9.97012818136801}. Best is trial 40 with value: 0.141649108516954.\n",
      "regularization_factors, val_score: 0.138830:  25%|##5       | 5/20 [00:31<01:34,  6.27s/it]"
     ]
    },
    {
     "name": "stdout",
     "output_type": "stream",
     "text": [
      "Early stopping, best iteration is:\n",
      "[338]\tcv_agg's l2: 0.13883 + 0.0427929\n",
      "[100]\tcv_agg's l2: 0.148931 + 0.0464587\n",
      "[200]\tcv_agg's l2: 0.140299 + 0.0421258\n",
      "[300]\tcv_agg's l2: 0.138727 + 0.039394\n",
      "[400]\tcv_agg's l2: 0.138255 + 0.0393776\n",
      "[500]\tcv_agg's l2: 0.138009 + 0.0388272\n",
      "[600]\tcv_agg's l2: 0.137504 + 0.0379047\n",
      "[700]\tcv_agg's l2: 0.137957 + 0.0377448\n"
     ]
    },
    {
     "name": "stderr",
     "output_type": "stream",
     "text": [
      "regularization_factors, val_score: 0.137468:  30%|###       | 6/20 [00:44<02:02,  8.75s/it][I 2024-05-15 15:48:29,764] Trial 45 finished with value: 0.13746761712765312 and parameters: {'lambda_l1': 0.00019241387837987367, 'lambda_l2': 0.000634936238740613}. Best is trial 45 with value: 0.13746761712765312.\n",
      "regularization_factors, val_score: 0.137468:  30%|###       | 6/20 [00:44<02:02,  8.75s/it]"
     ]
    },
    {
     "name": "stdout",
     "output_type": "stream",
     "text": [
      "Early stopping, best iteration is:\n",
      "[641]\tcv_agg's l2: 0.137468 + 0.037474\n",
      "[100]\tcv_agg's l2: 0.148928 + 0.0457571\n",
      "[200]\tcv_agg's l2: 0.141207 + 0.0432893\n",
      "[300]\tcv_agg's l2: 0.138395 + 0.0388156\n",
      "[400]\tcv_agg's l2: 0.137925 + 0.0388166\n",
      "[500]\tcv_agg's l2: 0.137603 + 0.0381962\n",
      "[600]\tcv_agg's l2: 0.137151 + 0.0382184\n"
     ]
    },
    {
     "name": "stderr",
     "output_type": "stream",
     "text": [
      "regularization_factors, val_score: 0.136875:  35%|###5      | 7/20 [00:54<01:58,  9.09s/it][I 2024-05-15 15:48:39,550] Trial 46 finished with value: 0.13687502658345732 and parameters: {'lambda_l1': 0.000142248450763007, 'lambda_l2': 0.000741222223132038}. Best is trial 46 with value: 0.13687502658345732.\n",
      "regularization_factors, val_score: 0.136875:  35%|###5      | 7/20 [00:54<01:58,  9.09s/it]"
     ]
    },
    {
     "name": "stdout",
     "output_type": "stream",
     "text": [
      "Early stopping, best iteration is:\n",
      "[559]\tcv_agg's l2: 0.136875 + 0.0376179\n",
      "[100]\tcv_agg's l2: 0.148931 + 0.0464586\n",
      "[200]\tcv_agg's l2: 0.140299 + 0.0421258\n",
      "[300]\tcv_agg's l2: 0.138721 + 0.0394013\n",
      "[400]\tcv_agg's l2: 0.137996 + 0.0393375\n",
      "[500]\tcv_agg's l2: 0.137622 + 0.0386055\n",
      "[600]\tcv_agg's l2: 0.137108 + 0.0384089\n"
     ]
    },
    {
     "name": "stderr",
     "output_type": "stream",
     "text": [
      "regularization_factors, val_score: 0.136875:  40%|####      | 8/20 [01:04<01:50,  9.24s/it][I 2024-05-15 15:48:49,119] Trial 47 finished with value: 0.13711601130370327 and parameters: {'lambda_l1': 0.0001525759587060623, 'lambda_l2': 0.000618646941778734}. Best is trial 46 with value: 0.13687502658345732.\n",
      "regularization_factors, val_score: 0.136875:  40%|####      | 8/20 [01:04<01:50,  9.24s/it]"
     ]
    },
    {
     "name": "stdout",
     "output_type": "stream",
     "text": [
      "Early stopping, best iteration is:\n",
      "[559]\tcv_agg's l2: 0.136875 + 0.0376179\n",
      "[100]\tcv_agg's l2: 0.150802 + 0.0474483\n",
      "[200]\tcv_agg's l2: 0.143966 + 0.0434604\n",
      "[300]\tcv_agg's l2: 0.141428 + 0.0410628\n",
      "[400]\tcv_agg's l2: 0.140822 + 0.0422455\n",
      "[500]\tcv_agg's l2: 0.140538 + 0.0416659\n",
      "[600]\tcv_agg's l2: 0.140452 + 0.0414695\n"
     ]
    },
    {
     "name": "stderr",
     "output_type": "stream",
     "text": [
      "regularization_factors, val_score: 0.136875:  45%|####5     | 9/20 [01:13<01:42,  9.31s/it][I 2024-05-15 15:48:58,587] Trial 48 finished with value: 0.14052688689926165 and parameters: {'lambda_l1': 0.00015222450023038696, 'lambda_l2': 0.001515915528771818}. Best is trial 46 with value: 0.13687502658345732.\n",
      "regularization_factors, val_score: 0.136875:  45%|####5     | 9/20 [01:13<01:42,  9.31s/it]"
     ]
    },
    {
     "name": "stdout",
     "output_type": "stream",
     "text": [
      "Early stopping, best iteration is:\n",
      "[559]\tcv_agg's l2: 0.136875 + 0.0376179\n",
      "[100]\tcv_agg's l2: 0.149193 + 0.0469496\n",
      "[200]\tcv_agg's l2: 0.142146 + 0.0458077\n",
      "[300]\tcv_agg's l2: 0.14012 + 0.0416487\n",
      "[400]\tcv_agg's l2: 0.139733 + 0.0415747\n",
      "[500]\tcv_agg's l2: 0.139959 + 0.0414778\n",
      "[600]\tcv_agg's l2: 0.139532 + 0.0411747\n"
     ]
    },
    {
     "name": "stderr",
     "output_type": "stream",
     "text": [
      "regularization_factors, val_score: 0.136875:  50%|#####     | 10/20 [01:22<01:31,  9.18s/it][I 2024-05-15 15:49:07,496] Trial 49 finished with value: 0.1394924059245403 and parameters: {'lambda_l1': 0.00015096730375994572, 'lambda_l2': 0.00048404545366194287}. Best is trial 46 with value: 0.13687502658345732.\n",
      "regularization_factors, val_score: 0.136875:  50%|#####     | 10/20 [01:22<01:31,  9.18s/it]"
     ]
    },
    {
     "name": "stdout",
     "output_type": "stream",
     "text": [
      "Early stopping, best iteration is:\n",
      "[559]\tcv_agg's l2: 0.136875 + 0.0376179\n",
      "[100]\tcv_agg's l2: 0.14906 + 0.0481106\n",
      "[200]\tcv_agg's l2: 0.141854 + 0.0444601\n",
      "[300]\tcv_agg's l2: 0.140361 + 0.0429621\n",
      "[400]\tcv_agg's l2: 0.140306 + 0.0423102\n",
      "[500]\tcv_agg's l2: 0.140773 + 0.0421514\n",
      "[600]\tcv_agg's l2: 0.140653 + 0.0414699\n"
     ]
    },
    {
     "name": "stderr",
     "output_type": "stream",
     "text": [
      "regularization_factors, val_score: 0.136875:  55%|#####5    | 11/20 [01:31<01:21,  9.04s/it][I 2024-05-15 15:49:16,201] Trial 50 finished with value: 0.14042776424709644 and parameters: {'lambda_l1': 0.002102436067107802, 'lambda_l2': 0.00037034262183202523}. Best is trial 46 with value: 0.13687502658345732.\n",
      "regularization_factors, val_score: 0.136875:  55%|#####5    | 11/20 [01:31<01:21,  9.04s/it]"
     ]
    },
    {
     "name": "stdout",
     "output_type": "stream",
     "text": [
      "Early stopping, best iteration is:\n",
      "[559]\tcv_agg's l2: 0.136875 + 0.0376179\n",
      "[100]\tcv_agg's l2: 0.153552 + 0.0536422\n",
      "[200]\tcv_agg's l2: 0.14565 + 0.0491359\n",
      "[300]\tcv_agg's l2: 0.142252 + 0.0461278\n",
      "[400]\tcv_agg's l2: 0.14113 + 0.0457591\n",
      "[500]\tcv_agg's l2: 0.140888 + 0.0451003\n",
      "[600]\tcv_agg's l2: 0.140699 + 0.0447787\n"
     ]
    },
    {
     "name": "stderr",
     "output_type": "stream",
     "text": [
      "regularization_factors, val_score: 0.136875:  60%|######    | 12/20 [01:39<01:10,  8.87s/it][I 2024-05-15 15:49:24,681] Trial 51 finished with value: 0.14050995378913148 and parameters: {'lambda_l1': 1.3336995150404375e-05, 'lambda_l2': 0.01867251869009279}. Best is trial 46 with value: 0.13687502658345732.\n",
      "regularization_factors, val_score: 0.136875:  60%|######    | 12/20 [01:39<01:10,  8.87s/it]"
     ]
    },
    {
     "name": "stdout",
     "output_type": "stream",
     "text": [
      "Early stopping, best iteration is:\n",
      "[559]\tcv_agg's l2: 0.136875 + 0.0376179\n",
      "[100]\tcv_agg's l2: 0.153705 + 0.0555794\n",
      "[200]\tcv_agg's l2: 0.145737 + 0.0515323\n",
      "[300]\tcv_agg's l2: 0.143856 + 0.0495836\n",
      "[400]\tcv_agg's l2: 0.142767 + 0.049011\n",
      "[500]\tcv_agg's l2: 0.142454 + 0.0485174\n",
      "[600]\tcv_agg's l2: 0.142394 + 0.0478539\n"
     ]
    },
    {
     "name": "stderr",
     "output_type": "stream",
     "text": [
      "regularization_factors, val_score: 0.136875:  65%|######5   | 13/20 [01:48<01:01,  8.84s/it][I 2024-05-15 15:49:33,465] Trial 52 finished with value: 0.14219085129109071 and parameters: {'lambda_l1': 0.012653526844694379, 'lambda_l2': 1.1315918978111584e-05}. Best is trial 46 with value: 0.13687502658345732.\n",
      "regularization_factors, val_score: 0.136875:  65%|######5   | 13/20 [01:48<01:01,  8.84s/it]"
     ]
    },
    {
     "name": "stdout",
     "output_type": "stream",
     "text": [
      "Early stopping, best iteration is:\n",
      "[559]\tcv_agg's l2: 0.136875 + 0.0376179\n",
      "[100]\tcv_agg's l2: 0.149338 + 0.0464062\n",
      "[200]\tcv_agg's l2: 0.141568 + 0.0424255\n",
      "[300]\tcv_agg's l2: 0.139319 + 0.040963\n",
      "[400]\tcv_agg's l2: 0.138871 + 0.0414565\n",
      "[500]\tcv_agg's l2: 0.138903 + 0.0405655\n",
      "[600]\tcv_agg's l2: 0.13854 + 0.0392367\n"
     ]
    },
    {
     "name": "stderr",
     "output_type": "stream",
     "text": [
      "regularization_factors, val_score: 0.136875:  70%|#######   | 14/20 [01:56<00:52,  8.68s/it][I 2024-05-15 15:49:41,764] Trial 53 finished with value: 0.1385370921588522 and parameters: {'lambda_l1': 2.1657410292544124e-05, 'lambda_l2': 4.901273890153346e-05}. Best is trial 46 with value: 0.13687502658345732.\n",
      "regularization_factors, val_score: 0.136875:  70%|#######   | 14/20 [01:56<00:52,  8.68s/it]"
     ]
    },
    {
     "name": "stdout",
     "output_type": "stream",
     "text": [
      "Early stopping, best iteration is:\n",
      "[559]\tcv_agg's l2: 0.136875 + 0.0376179\n",
      "[100]\tcv_agg's l2: 0.149338 + 0.0464062\n",
      "[200]\tcv_agg's l2: 0.141568 + 0.0424255\n",
      "[300]\tcv_agg's l2: 0.139319 + 0.040963\n",
      "[400]\tcv_agg's l2: 0.138871 + 0.0414565\n",
      "[500]\tcv_agg's l2: 0.138903 + 0.0405655\n",
      "[600]\tcv_agg's l2: 0.138682 + 0.039218\n"
     ]
    },
    {
     "name": "stderr",
     "output_type": "stream",
     "text": [
      "regularization_factors, val_score: 0.136875:  75%|#######5  | 15/20 [02:05<00:42,  8.59s/it][I 2024-05-15 15:49:50,140] Trial 54 finished with value: 0.1385444303154065 and parameters: {'lambda_l1': 2.4435936068676607e-05, 'lambda_l2': 5.450009967922052e-05}. Best is trial 46 with value: 0.13687502658345732.\n",
      "regularization_factors, val_score: 0.136875:  75%|#######5  | 15/20 [02:05<00:42,  8.59s/it]"
     ]
    },
    {
     "name": "stdout",
     "output_type": "stream",
     "text": [
      "Early stopping, best iteration is:\n",
      "[559]\tcv_agg's l2: 0.136875 + 0.0376179\n",
      "[100]\tcv_agg's l2: 0.149338 + 0.0464062\n",
      "[200]\tcv_agg's l2: 0.141894 + 0.0424048\n",
      "[300]\tcv_agg's l2: 0.139309 + 0.0408514\n",
      "[400]\tcv_agg's l2: 0.138469 + 0.0410381\n",
      "[500]\tcv_agg's l2: 0.138564 + 0.0418468\n",
      "[600]\tcv_agg's l2: 0.138247 + 0.0407426\n"
     ]
    },
    {
     "name": "stderr",
     "output_type": "stream",
     "text": [
      "regularization_factors, val_score: 0.136875:  80%|########  | 16/20 [02:14<00:35,  8.80s/it][I 2024-05-15 15:49:59,444] Trial 55 finished with value: 0.1383358641323051 and parameters: {'lambda_l1': 3.1247492970188746e-05, 'lambda_l2': 4.782439639322176e-05}. Best is trial 46 with value: 0.13687502658345732.\n",
      "regularization_factors, val_score: 0.136875:  80%|########  | 16/20 [02:14<00:35,  8.80s/it]"
     ]
    },
    {
     "name": "stdout",
     "output_type": "stream",
     "text": [
      "Early stopping, best iteration is:\n",
      "[559]\tcv_agg's l2: 0.136875 + 0.0376179\n",
      "[100]\tcv_agg's l2: 0.149338 + 0.0464062\n",
      "[200]\tcv_agg's l2: 0.141533 + 0.0424293\n",
      "[300]\tcv_agg's l2: 0.139502 + 0.0409422\n",
      "[400]\tcv_agg's l2: 0.138772 + 0.0414687\n",
      "[500]\tcv_agg's l2: 0.138535 + 0.0406124\n",
      "[600]\tcv_agg's l2: 0.137902 + 0.0393053\n"
     ]
    },
    {
     "name": "stderr",
     "output_type": "stream",
     "text": [
      "regularization_factors, val_score: 0.136875:  85%|########5 | 17/20 [02:22<00:25,  8.63s/it][I 2024-05-15 15:50:07,659] Trial 56 finished with value: 0.13785131808826878 and parameters: {'lambda_l1': 2.0582217966216603e-05, 'lambda_l2': 5.556410914995401e-05}. Best is trial 46 with value: 0.13687502658345732.\n",
      "regularization_factors, val_score: 0.136875:  85%|########5 | 17/20 [02:22<00:25,  8.63s/it]"
     ]
    },
    {
     "name": "stdout",
     "output_type": "stream",
     "text": [
      "Early stopping, best iteration is:\n",
      "[559]\tcv_agg's l2: 0.136875 + 0.0376179\n",
      "[100]\tcv_agg's l2: 0.149001 + 0.0471079\n",
      "[200]\tcv_agg's l2: 0.142054 + 0.0456266\n",
      "[300]\tcv_agg's l2: 0.139706 + 0.0433516\n",
      "[400]\tcv_agg's l2: 0.138617 + 0.0445801\n",
      "[500]\tcv_agg's l2: 0.138272 + 0.0437399\n",
      "[600]\tcv_agg's l2: 0.138038 + 0.0429422\n"
     ]
    },
    {
     "name": "stderr",
     "output_type": "stream",
     "text": [
      "regularization_factors, val_score: 0.136875:  90%|######### | 18/20 [02:31<00:17,  8.77s/it][I 2024-05-15 15:50:16,750] Trial 57 finished with value: 0.13764821023208434 and parameters: {'lambda_l1': 6.181869782596076e-05, 'lambda_l2': 8.608798816842041e-05}. Best is trial 46 with value: 0.13687502658345732.\n",
      "regularization_factors, val_score: 0.136875:  90%|######### | 18/20 [02:31<00:17,  8.77s/it]"
     ]
    },
    {
     "name": "stdout",
     "output_type": "stream",
     "text": [
      "Early stopping, best iteration is:\n",
      "[559]\tcv_agg's l2: 0.136875 + 0.0376179\n",
      "[100]\tcv_agg's l2: 0.148713 + 0.0472335\n",
      "[200]\tcv_agg's l2: 0.141618 + 0.0460835\n",
      "[300]\tcv_agg's l2: 0.13932 + 0.04232\n",
      "[400]\tcv_agg's l2: 0.13865 + 0.0430706\n",
      "[500]\tcv_agg's l2: 0.138744 + 0.0423931\n",
      "[600]\tcv_agg's l2: 0.138597 + 0.0420261\n"
     ]
    },
    {
     "name": "stderr",
     "output_type": "stream",
     "text": [
      "regularization_factors, val_score: 0.136875:  95%|#########5| 19/20 [02:40<00:08,  8.72s/it][I 2024-05-15 15:50:25,366] Trial 58 finished with value: 0.13844522081592586 and parameters: {'lambda_l1': 0.00016982439026906214, 'lambda_l2': 0.0002866323229164496}. Best is trial 46 with value: 0.13687502658345732.\n",
      "regularization_factors, val_score: 0.136875:  95%|#########5| 19/20 [02:40<00:08,  8.72s/it]"
     ]
    },
    {
     "name": "stdout",
     "output_type": "stream",
     "text": [
      "Early stopping, best iteration is:\n",
      "[559]\tcv_agg's l2: 0.136875 + 0.0376179\n",
      "[100]\tcv_agg's l2: 0.150802 + 0.0474481\n",
      "[200]\tcv_agg's l2: 0.143341 + 0.0435538\n",
      "[300]\tcv_agg's l2: 0.141251 + 0.0416333\n",
      "[400]\tcv_agg's l2: 0.140705 + 0.0417329\n",
      "[500]\tcv_agg's l2: 0.140577 + 0.041308\n",
      "[600]\tcv_agg's l2: 0.1403 + 0.0406251\n"
     ]
    },
    {
     "name": "stderr",
     "output_type": "stream",
     "text": [
      "regularization_factors, val_score: 0.136875: 100%|##########| 20/20 [02:49<00:00,  8.72s/it][I 2024-05-15 15:50:34,070] Trial 59 finished with value: 0.140296618450307 and parameters: {'lambda_l1': 0.00011516510406090985, 'lambda_l2': 0.0014391114799758974}. Best is trial 46 with value: 0.13687502658345732.\n",
      "regularization_factors, val_score: 0.136875: 100%|##########| 20/20 [02:49<00:00,  8.46s/it]\n"
     ]
    },
    {
     "name": "stdout",
     "output_type": "stream",
     "text": [
      "Early stopping, best iteration is:\n",
      "[559]\tcv_agg's l2: 0.136875 + 0.0376179\n"
     ]
    },
    {
     "name": "stderr",
     "output_type": "stream",
     "text": [
      "min_data_in_leaf, val_score: 0.136875:   0%|          | 0/5 [00:00<?, ?it/s]"
     ]
    },
    {
     "name": "stdout",
     "output_type": "stream",
     "text": [
      "[100]\tcv_agg's l2: 0.143024 + 0.0445092\n",
      "[200]\tcv_agg's l2: 0.140309 + 0.0453693\n",
      "[300]\tcv_agg's l2: 0.138808 + 0.0439368\n",
      "[400]\tcv_agg's l2: 0.138752 + 0.0438204\n",
      "[500]\tcv_agg's l2: 0.138758 + 0.043743\n",
      "[600]\tcv_agg's l2: 0.138535 + 0.043441\n"
     ]
    },
    {
     "name": "stderr",
     "output_type": "stream",
     "text": [
      "min_data_in_leaf, val_score: 0.136875:  20%|##        | 1/5 [00:15<01:00, 15.11s/it][I 2024-05-15 15:50:49,189] Trial 60 finished with value: 0.13861437115066785 and parameters: {'min_child_samples': 10}. Best is trial 60 with value: 0.13861437115066785.\n",
      "min_data_in_leaf, val_score: 0.136875:  20%|##        | 1/5 [00:15<01:00, 15.11s/it]"
     ]
    },
    {
     "name": "stdout",
     "output_type": "stream",
     "text": [
      "Early stopping, best iteration is:\n",
      "[559]\tcv_agg's l2: 0.136875 + 0.0376179\n",
      "[100]\tcv_agg's l2: 0.269427 + 0.0709205\n",
      "[200]\tcv_agg's l2: 0.244023 + 0.0596727\n",
      "[300]\tcv_agg's l2: 0.233835 + 0.0537878\n",
      "[400]\tcv_agg's l2: 0.228401 + 0.0499084\n",
      "[500]\tcv_agg's l2: 0.223515 + 0.0494574\n",
      "[600]\tcv_agg's l2: 0.223975 + 0.0503059\n"
     ]
    },
    {
     "name": "stderr",
     "output_type": "stream",
     "text": [
      "min_data_in_leaf, val_score: 0.136875:  40%|####      | 2/5 [00:20<00:27,  9.11s/it][I 2024-05-15 15:50:54,097] Trial 61 finished with value: 0.22344173872251977 and parameters: {'min_child_samples': 50}. Best is trial 60 with value: 0.13861437115066785.\n",
      "min_data_in_leaf, val_score: 0.136875:  40%|####      | 2/5 [00:20<00:27,  9.11s/it]"
     ]
    },
    {
     "name": "stdout",
     "output_type": "stream",
     "text": [
      "Early stopping, best iteration is:\n",
      "[559]\tcv_agg's l2: 0.136875 + 0.0376179\n",
      "[100]\tcv_agg's l2: 0.160951 + 0.0470693\n",
      "[200]\tcv_agg's l2: 0.15888 + 0.0466947\n",
      "[300]\tcv_agg's l2: 0.158507 + 0.0462362\n",
      "[400]\tcv_agg's l2: 0.158527 + 0.0461617\n",
      "[500]\tcv_agg's l2: 0.15854 + 0.0461774\n",
      "[600]\tcv_agg's l2: 0.158563 + 0.0461268\n"
     ]
    },
    {
     "name": "stderr",
     "output_type": "stream",
     "text": [
      "min_data_in_leaf, val_score: 0.136875:  60%|######    | 3/5 [00:48<00:35, 17.74s/it][I 2024-05-15 15:51:22,115] Trial 62 finished with value: 0.15855642599874234 and parameters: {'min_child_samples': 5}. Best is trial 60 with value: 0.13861437115066785.\n",
      "min_data_in_leaf, val_score: 0.136875:  60%|######    | 3/5 [00:48<00:35, 17.74s/it]"
     ]
    },
    {
     "name": "stdout",
     "output_type": "stream",
     "text": [
      "Early stopping, best iteration is:\n",
      "[559]\tcv_agg's l2: 0.136875 + 0.0376179\n",
      "[100]\tcv_agg's l2: 0.159913 + 0.0449831\n",
      "[200]\tcv_agg's l2: 0.149768 + 0.0412865\n",
      "[300]\tcv_agg's l2: 0.146743 + 0.0387522\n",
      "[400]\tcv_agg's l2: 0.144713 + 0.0388154\n",
      "[500]\tcv_agg's l2: 0.144566 + 0.0384599\n",
      "[600]\tcv_agg's l2: 0.14415 + 0.0379716\n"
     ]
    },
    {
     "name": "stderr",
     "output_type": "stream",
     "text": [
      "min_data_in_leaf, val_score: 0.136875:  80%|########  | 4/5 [00:56<00:13, 13.94s/it][I 2024-05-15 15:51:30,222] Trial 63 finished with value: 0.14404115232054876 and parameters: {'min_child_samples': 25}. Best is trial 60 with value: 0.13861437115066785.\n",
      "min_data_in_leaf, val_score: 0.136875:  80%|########  | 4/5 [00:56<00:13, 13.94s/it]"
     ]
    },
    {
     "name": "stdout",
     "output_type": "stream",
     "text": [
      "Early stopping, best iteration is:\n",
      "[559]\tcv_agg's l2: 0.136875 + 0.0376179\n",
      "[100]\tcv_agg's l2: 0.77522 + 0.115677\n",
      "[200]\tcv_agg's l2: 0.73577 + 0.110739\n",
      "[300]\tcv_agg's l2: 0.706692 + 0.0955285\n",
      "[400]\tcv_agg's l2: 0.698346 + 0.094244\n",
      "[500]\tcv_agg's l2: 0.693898 + 0.0966602\n",
      "[600]\tcv_agg's l2: 0.681995 + 0.0917684\n"
     ]
    },
    {
     "name": "stderr",
     "output_type": "stream",
     "text": [
      "min_data_in_leaf, val_score: 0.136875: 100%|##########| 5/5 [00:59<00:00, 10.19s/it][I 2024-05-15 15:51:33,774] Trial 64 finished with value: 0.6870615376467712 and parameters: {'min_child_samples': 100}. Best is trial 60 with value: 0.13861437115066785.\n",
      "min_data_in_leaf, val_score: 0.136875: 100%|##########| 5/5 [00:59<00:00, 11.94s/it]"
     ]
    },
    {
     "name": "stdout",
     "output_type": "stream",
     "text": [
      "Early stopping, best iteration is:\n",
      "[559]\tcv_agg's l2: 0.136875 + 0.0376179\n"
     ]
    },
    {
     "name": "stderr",
     "output_type": "stream",
     "text": [
      "\n"
     ]
    },
    {
     "name": "stdout",
     "output_type": "stream",
     "text": [
      "==== lightgbm ====\n",
      "\t--> no_rounding\n",
      "\t\t--> train\n",
      "\t\t\t--> rmse: 0.0005011160591944612\n",
      "\t\t\t--> mae: 0.00011469314859472673\n",
      "\t\t--> test\n",
      "\t\t\t--> rmse: 0.6420068211739469\n",
      "\t\t\t--> mae: 0.4023865968897909\n",
      "\t--> round 0.5\n",
      "\t\t--> train\n",
      "\t\t\t--> rmse: 0.0\n",
      "\t\t\t--> mae: 0.0\n",
      "\t\t\t--> accuracy: 1.0\n",
      "\t\t--> test\n",
      "\t\t\t--> rmse: 0.6779076806833005\n",
      "\t\t\t--> mae: 0.2977941176470588\n",
      "\t\t\t--> accuracy: 0.7389705882352942\n",
      "\n"
     ]
    }
   ],
   "source": [
    "from training.train_and_evaluate_models import train_and_evaluate_models\n",
    "\n",
    "\n",
    "results = train_and_evaluate_models(\n",
    "    [\n",
    "        \"kernel_svm\",\n",
    "        \"knn\",\n",
    "        \"random_forest\",\n",
    "        \"lightgbm\",\n",
    "    ],\n",
    "    X_train,\n",
    "    y_train,\n",
    "    X_test,\n",
    "    y_test,\n",
    "    thresholds=[0.05 for i in range(1, 20)],\n",
    "    print_summary=False,\n",
    ")"
   ],
   "metadata": {
    "collapsed": false
   }
  },
  {
   "cell_type": "markdown",
   "source": [
    "### Train/Test results"
   ],
   "metadata": {
    "collapsed": false
   }
  },
  {
   "cell_type": "code",
   "execution_count": 15,
   "outputs": [
    {
     "data": {
      "text/plain": "<Figure size 600x2000 with 12 Axes>",
      "image/png": "[encoded data removed]"
     },
     "metadata": {},
     "output_type": "display_data"
    }
   ],
   "source": [
    "from training.results import plot_results\n",
    "\n",
    "\n",
    "plot_results(\n",
    "    results,\n",
    "    measure_types=[\"mae\", \"rmse\", \"accuracy\"],\n",
    "    figsize=(6, 20),\n",
    "    sets=[\n",
    "        \"train\",\n",
    "        \"test\",\n",
    "    ],\n",
    "    rounding_types=[\"no_rounding\", \"round 0.5\", \"best\"],\n",
    "    hspace=2,\n",
    "    wspace=0.5,\n",
    ")"
   ],
   "metadata": {
    "collapsed": false
   }
  },
  {
   "cell_type": "code",
   "execution_count": 16,
   "outputs": [
    {
     "name": "stdout",
     "output_type": "stream",
     "text": [
      "==== kernel_svm ====\n",
      "\t--> no_rounding\n",
      "\t\t--> train\n",
      "\t\t\t--> rmse: 0.2709546148033673\n",
      "\t\t\t--> mae: 0.17606718192161624\n",
      "\t\t--> test\n",
      "\t\t\t--> rmse: 1.0359407498545896\n",
      "\t\t\t--> mae: 0.564048215241779\n",
      "\t--> round 0.5\n",
      "\t\t--> train\n",
      "\t\t\t--> rmse: 0.28450284536598086\n",
      "\t\t\t--> mae: 0.07211184694628403\n",
      "\t\t\t--> accuracy: 0.9315673289183223\n",
      "\t\t--> test\n",
      "\t\t\t--> rmse: 1.0641207361838554\n",
      "\t\t\t--> mae: 0.47058823529411764\n",
      "\t\t\t--> accuracy: 0.6801470588235294\n",
      "\n",
      "==== knn ====\n",
      "\t--> no_rounding\n",
      "\t\t--> train\n",
      "\t\t\t--> rmse: 0.0\n",
      "\t\t\t--> mae: 0.0\n",
      "\t\t--> test\n",
      "\t\t\t--> rmse: 1.6856974326889738\n",
      "\t\t\t--> mae: 1.2415187239679515\n",
      "\t--> round 0.5\n",
      "\t\t--> train\n",
      "\t\t\t--> rmse: 0.0\n",
      "\t\t\t--> mae: 0.0\n",
      "\t\t\t--> accuracy: 1.0\n",
      "\t\t--> test\n",
      "\t\t\t--> rmse: 1.7160573828332404\n",
      "\t\t\t--> mae: 1.2095588235294117\n",
      "\t\t\t--> accuracy: 0.3088235294117647\n",
      "\n",
      "==== random_forest ====\n",
      "\t--> no_rounding\n",
      "\t\t--> train\n",
      "\t\t\t--> rmse: 0.13065726190419047\n",
      "\t\t\t--> mae: 0.08033701250919788\n",
      "\t\t--> test\n",
      "\t\t\t--> rmse: 0.712830903552044\n",
      "\t\t\t--> mae: 0.45099264705882347\n",
      "\t--> round 0.5\n",
      "\t\t--> train\n",
      "\t\t\t--> rmse: 0.07672471168645813\n",
      "\t\t\t--> mae: 0.005886681383370125\n",
      "\t\t\t--> accuracy: 0.9941133186166299\n",
      "\t\t--> test\n",
      "\t\t\t--> rmse: 0.7401311489506835\n",
      "\t\t\t--> mae: 0.3639705882352941\n",
      "\t\t\t--> accuracy: 0.7058823529411765\n",
      "\n",
      "==== lightgbm ====\n",
      "\t--> no_rounding\n",
      "\t\t--> train\n",
      "\t\t\t--> rmse: 0.0005011160591944612\n",
      "\t\t\t--> mae: 0.00011469314859472673\n",
      "\t\t--> test\n",
      "\t\t\t--> rmse: 0.6420068211739469\n",
      "\t\t\t--> mae: 0.4023865968897909\n",
      "\t--> round 0.5\n",
      "\t\t--> train\n",
      "\t\t\t--> rmse: 0.0\n",
      "\t\t\t--> mae: 0.0\n",
      "\t\t\t--> accuracy: 1.0\n",
      "\t\t--> test\n",
      "\t\t\t--> rmse: 0.6779076806833005\n",
      "\t\t\t--> mae: 0.2977941176470588\n",
      "\t\t\t--> accuracy: 0.7389705882352942\n",
      "\n"
     ]
    }
   ],
   "source": [
    "from training.train_and_evaluate_models import print_results\n",
    "\n",
    "for model_name, model in results.items():\n",
    "    print_results(model_name, model)"
   ],
   "metadata": {
    "collapsed": false
   }
  },
  {
   "cell_type": "code",
   "execution_count": null,
   "outputs": [],
   "source": [
    "results = train_and_evaluate_models(\n",
    "    [\n",
    "        \"kernel_svm\",\n",
    "        \"knn\",\n",
    "        \"random_forest\",\n",
    "        \"lightgbm\",\n",
    "    ],\n",
    "    X_train,\n",
    "    y_train,\n",
    "    X_test,\n",
    "    y_test,\n",
    "    thresholds=[0.05 for i in range(5, 16)],\n",
    ")"
   ],
   "metadata": {
    "collapsed": false
   }
  }
 ],
 "metadata": {
  "kernelspec": {
   "display_name": "Python 3",
   "language": "python",
   "name": "python3"
  },
  "language_info": {
   "codemirror_mode": {
    "name": "ipython",
    "version": 2
   },
   "file_extension": ".py",
   "mimetype": "text/x-python",
   "name": "python",
   "nbconvert_exporter": "python",
   "pygments_lexer": "ipython2",
   "version": "2.7.6"
  }
 },
 "nbformat": 4,
 "nbformat_minor": 0
}
