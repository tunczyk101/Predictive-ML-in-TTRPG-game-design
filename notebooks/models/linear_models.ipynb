{
 "cells": [
  {
   "cell_type": "markdown",
   "metadata": {
    "collapsed": false
   },
   "source": [
    "# Linear models\n",
    "* Linear regression\n",
    "* Ridge\n",
    "* Lasso\n",
    "* LAD regression\n",
    "* Huber regression\n",
    "* Linear SVM"
   ]
  },
  {
   "cell_type": "markdown",
   "source": [
    "## Load data"
   ],
   "metadata": {
    "collapsed": false
   }
  },
  {
   "cell_type": "code",
   "execution_count": 1,
   "metadata": {
    "collapsed": true
   },
   "outputs": [],
   "source": [
    "import numpy as np\n",
    "from sklearn.preprocessing import MinMaxScaler\n",
    "import pandas as pd\n",
    "from training.creating_dataset import load_and_preprocess_data\n",
    "from training.constants import FEATURES, DATASET_FILES, ORDERED_CHARACTERISTICS_FULL\n",
    "\n",
    "\n",
    "bestiaries = load_and_preprocess_data(\n",
    "    [f\"../../pathfinder_2e_remaster_data/{f}\" for f in DATASET_FILES], FEATURES\n",
    ")"
   ]
  },
  {
   "cell_type": "code",
   "execution_count": 2,
   "metadata": {
    "collapsed": false
   },
   "outputs": [
    {
     "data": {
      "text/plain": "   level                                  book  str  dex  con  int  wis  cha  \\\n0      8   Pathfinder #164: Hands of the Devil  5.0  5.0  3.0 -2.0  3.0  4.0   \n1      5  Pathfinder #163: Ruins of Gauntlight  5.0  2.0  4.0  4.0  2.0  2.0   \n2      3  Pathfinder #163: Ruins of Gauntlight  4.0  3.0  1.0  1.0  3.0  1.0   \n3      3   Pathfinder #164: Hands of the Devil  1.0  4.0  1.0  0.0  3.0  1.0   \n4      8   Pathfinder #164: Hands of the Devil  5.0  5.0  5.0  2.0  4.0  5.0   \n\n     ac   hp  ...  poison_resistance  slashing_resistance  \\\n0  28.0  152  ...                  0                    0   \n1  22.0   75  ...                  0                    0   \n2  18.0   48  ...                  0                    0   \n3  20.0   30  ...                  5                    0   \n4  27.0  120  ...                 10                    0   \n\n   area-damage_weakness  cold_weakness  cold-iron_weakness  evil_weakness  \\\n0                     0              0                   0              0   \n1                     0              0                   0              0   \n2                     0              0                   0              0   \n3                     0              0                   0              0   \n4                     0              0                   0              0   \n\n   fire_weakness  good_weakness  slashing_weakness  splash-damage_weakness  \n0              0              0                  0                       0  \n1              0              0                  0                       0  \n2              0              0                  0                       0  \n3              0              0                  0                       0  \n4              0              0                  0                       0  \n\n[5 rows x 52 columns]",
      "text/html": "<div>\n<style scoped>\n    .dataframe tbody tr th:only-of-type {\n        vertical-align: middle;\n    }\n\n    .dataframe tbody tr th {\n        vertical-align: top;\n    }\n\n    .dataframe thead th {\n        text-align: right;\n    }\n</style>\n<table border=\"1\" class=\"dataframe\">\n  <thead>\n    <tr style=\"text-align: right;\">\n      <th></th>\n      <th>level</th>\n      <th>book</th>\n      <th>str</th>\n      <th>dex</th>\n      <th>con</th>\n      <th>int</th>\n      <th>wis</th>\n      <th>cha</th>\n      <th>ac</th>\n      <th>hp</th>\n      <th>...</th>\n      <th>poison_resistance</th>\n      <th>slashing_resistance</th>\n      <th>area-damage_weakness</th>\n      <th>cold_weakness</th>\n      <th>cold-iron_weakness</th>\n      <th>evil_weakness</th>\n      <th>fire_weakness</th>\n      <th>good_weakness</th>\n      <th>slashing_weakness</th>\n      <th>splash-damage_weakness</th>\n    </tr>\n  </thead>\n  <tbody>\n    <tr>\n      <th>0</th>\n      <td>8</td>\n      <td>Pathfinder #164: Hands of the Devil</td>\n      <td>5.0</td>\n      <td>5.0</td>\n      <td>3.0</td>\n      <td>-2.0</td>\n      <td>3.0</td>\n      <td>4.0</td>\n      <td>28.0</td>\n      <td>152</td>\n      <td>...</td>\n      <td>0</td>\n      <td>0</td>\n      <td>0</td>\n      <td>0</td>\n      <td>0</td>\n      <td>0</td>\n      <td>0</td>\n      <td>0</td>\n      <td>0</td>\n      <td>0</td>\n    </tr>\n    <tr>\n      <th>1</th>\n      <td>5</td>\n      <td>Pathfinder #163: Ruins of Gauntlight</td>\n      <td>5.0</td>\n      <td>2.0</td>\n      <td>4.0</td>\n      <td>4.0</td>\n      <td>2.0</td>\n      <td>2.0</td>\n      <td>22.0</td>\n      <td>75</td>\n      <td>...</td>\n      <td>0</td>\n      <td>0</td>\n      <td>0</td>\n      <td>0</td>\n      <td>0</td>\n      <td>0</td>\n      <td>0</td>\n      <td>0</td>\n      <td>0</td>\n      <td>0</td>\n    </tr>\n    <tr>\n      <th>2</th>\n      <td>3</td>\n      <td>Pathfinder #163: Ruins of Gauntlight</td>\n      <td>4.0</td>\n      <td>3.0</td>\n      <td>1.0</td>\n      <td>1.0</td>\n      <td>3.0</td>\n      <td>1.0</td>\n      <td>18.0</td>\n      <td>48</td>\n      <td>...</td>\n      <td>0</td>\n      <td>0</td>\n      <td>0</td>\n      <td>0</td>\n      <td>0</td>\n      <td>0</td>\n      <td>0</td>\n      <td>0</td>\n      <td>0</td>\n      <td>0</td>\n    </tr>\n    <tr>\n      <th>3</th>\n      <td>3</td>\n      <td>Pathfinder #164: Hands of the Devil</td>\n      <td>1.0</td>\n      <td>4.0</td>\n      <td>1.0</td>\n      <td>0.0</td>\n      <td>3.0</td>\n      <td>1.0</td>\n      <td>20.0</td>\n      <td>30</td>\n      <td>...</td>\n      <td>5</td>\n      <td>0</td>\n      <td>0</td>\n      <td>0</td>\n      <td>0</td>\n      <td>0</td>\n      <td>0</td>\n      <td>0</td>\n      <td>0</td>\n      <td>0</td>\n    </tr>\n    <tr>\n      <th>4</th>\n      <td>8</td>\n      <td>Pathfinder #164: Hands of the Devil</td>\n      <td>5.0</td>\n      <td>5.0</td>\n      <td>5.0</td>\n      <td>2.0</td>\n      <td>4.0</td>\n      <td>5.0</td>\n      <td>27.0</td>\n      <td>120</td>\n      <td>...</td>\n      <td>10</td>\n      <td>0</td>\n      <td>0</td>\n      <td>0</td>\n      <td>0</td>\n      <td>0</td>\n      <td>0</td>\n      <td>0</td>\n      <td>0</td>\n      <td>0</td>\n    </tr>\n  </tbody>\n</table>\n<p>5 rows × 52 columns</p>\n</div>"
     },
     "execution_count": 2,
     "metadata": {},
     "output_type": "execute_result"
    }
   ],
   "source": [
    "bestiaries.head()"
   ]
  },
  {
   "cell_type": "code",
   "execution_count": 3,
   "metadata": {
    "collapsed": false
   },
   "outputs": [
    {
     "name": "stdout",
     "output_type": "stream",
     "text": [
      "<class 'pandas.core.frame.DataFrame'>\n",
      "Int64Index: 3833 entries, 0 to 4506\n",
      "Data columns (total 52 columns):\n",
      " #   Column                  Non-Null Count  Dtype  \n",
      "---  ------                  --------------  -----  \n",
      " 0   level                   3833 non-null   int64  \n",
      " 1   book                    3833 non-null   object \n",
      " 2   str                     3833 non-null   float64\n",
      " 3   dex                     3833 non-null   float64\n",
      " 4   con                     3833 non-null   float64\n",
      " 5   int                     3833 non-null   float64\n",
      " 6   wis                     3833 non-null   float64\n",
      " 7   cha                     3833 non-null   float64\n",
      " 8   ac                      3833 non-null   float64\n",
      " 9   hp                      3833 non-null   int32  \n",
      " 10  perception              3833 non-null   float64\n",
      " 11  fortitude               3833 non-null   float64\n",
      " 12  reflex                  3833 non-null   float64\n",
      " 13  will                    3833 non-null   float64\n",
      " 14  focus                   3833 non-null   int32  \n",
      " 15  num_immunities          3833 non-null   int64  \n",
      " 16  land_speed              3833 non-null   float64\n",
      " 17  fly                     3833 non-null   int64  \n",
      " 18  climb                   3833 non-null   int64  \n",
      " 19  swim                    3833 non-null   int64  \n",
      " 20  spells_nr_lvl_1         3833 non-null   int64  \n",
      " 21  spells_nr_lvl_2         3833 non-null   int64  \n",
      " 22  spells_nr_lvl_3         3833 non-null   int64  \n",
      " 23  spells_nr_lvl_4         3833 non-null   int64  \n",
      " 24  spells_nr_lvl_5         3833 non-null   int64  \n",
      " 25  spells_nr_lvl_6         3833 non-null   int64  \n",
      " 26  spells_nr_lvl_7         3833 non-null   int64  \n",
      " 27  spells_nr_lvl_8         3833 non-null   int64  \n",
      " 28  spells_nr_lvl_9         3833 non-null   int64  \n",
      " 29  melee_max_bonus         3833 non-null   int64  \n",
      " 30  avg_melee_dmg           3833 non-null   float64\n",
      " 31  ranged_max_bonus        3833 non-null   int64  \n",
      " 32  avg_ranged_dmg          3833 non-null   float64\n",
      " 33  acid_resistance         3833 non-null   int64  \n",
      " 34  all-damage_resistance   3833 non-null   int64  \n",
      " 35  bludgeoning_resistance  3833 non-null   int64  \n",
      " 36  cold_resistance         3833 non-null   int64  \n",
      " 37  electricity_resistance  3833 non-null   int64  \n",
      " 38  fire_resistance         3833 non-null   int64  \n",
      " 39  mental_resistance       3833 non-null   int64  \n",
      " 40  physical_resistance     3833 non-null   int64  \n",
      " 41  piercing_resistance     3833 non-null   int64  \n",
      " 42  poison_resistance       3833 non-null   int64  \n",
      " 43  slashing_resistance     3833 non-null   int64  \n",
      " 44  area-damage_weakness    3833 non-null   int64  \n",
      " 45  cold_weakness           3833 non-null   int64  \n",
      " 46  cold-iron_weakness      3833 non-null   int64  \n",
      " 47  evil_weakness           3833 non-null   int64  \n",
      " 48  fire_weakness           3833 non-null   int64  \n",
      " 49  good_weakness           3833 non-null   int64  \n",
      " 50  slashing_weakness       3833 non-null   int64  \n",
      " 51  splash-damage_weakness  3833 non-null   int64  \n",
      "dtypes: float64(14), int32(2), int64(35), object(1)\n",
      "memory usage: 1.5+ MB\n"
     ]
    }
   ],
   "source": [
    "bestiaries.info()"
   ]
  },
  {
   "cell_type": "markdown",
   "source": [
    "Scale data using MinMaxScaler"
   ],
   "metadata": {
    "collapsed": false
   }
  },
  {
   "cell_type": "code",
   "execution_count": 4,
   "metadata": {
    "collapsed": false
   },
   "outputs": [
    {
     "data": {
      "text/plain": "        str       dex       con       int       wis       cha        ac  \\\n0  0.588235  0.588235  0.357143  0.200000  0.470588  0.529412  0.509434   \n1  0.588235  0.411765  0.428571  0.600000  0.411765  0.411765  0.396226   \n2  0.529412  0.470588  0.214286  0.400000  0.470588  0.352941  0.320755   \n3  0.352941  0.529412  0.214286  0.333333  0.470588  0.352941  0.358491   \n4  0.588235  0.588235  0.500000  0.466667  0.529412  0.588235  0.490566   \n\n         hp  perception  fortitude  ...  area-damage_weakness  cold_weakness  \\\n0  0.252087    0.156522   0.425532  ...                   0.0            0.0   \n1  0.123539    0.130435   0.297872  ...                   0.0            0.0   \n2  0.078464    0.069565   0.170213  ...                   0.0            0.0   \n3  0.048414    0.104348   0.170213  ...                   0.0            0.0   \n4  0.198664    0.156522   0.361702  ...                   0.0            0.0   \n\n   cold-iron_weakness  evil_weakness  fire_weakness  good_weakness  \\\n0                 0.0            0.0            0.0            0.0   \n1                 0.0            0.0            0.0            0.0   \n2                 0.0            0.0            0.0            0.0   \n3                 0.0            0.0            0.0            0.0   \n4                 0.0            0.0            0.0            0.0   \n\n   slashing_weakness  splash-damage_weakness  \\\n0                0.0                     0.0   \n1                0.0                     0.0   \n2                0.0                     0.0   \n3                0.0                     0.0   \n4                0.0                     0.0   \n\n                                   book  level  \n0   Pathfinder #164: Hands of the Devil      8  \n1  Pathfinder #163: Ruins of Gauntlight      5  \n2  Pathfinder #163: Ruins of Gauntlight      3  \n3   Pathfinder #164: Hands of the Devil      3  \n4   Pathfinder #164: Hands of the Devil      8  \n\n[5 rows x 52 columns]",
      "text/html": "<div>\n<style scoped>\n    .dataframe tbody tr th:only-of-type {\n        vertical-align: middle;\n    }\n\n    .dataframe tbody tr th {\n        vertical-align: top;\n    }\n\n    .dataframe thead th {\n        text-align: right;\n    }\n</style>\n<table border=\"1\" class=\"dataframe\">\n  <thead>\n    <tr style=\"text-align: right;\">\n      <th></th>\n      <th>str</th>\n      <th>dex</th>\n      <th>con</th>\n      <th>int</th>\n      <th>wis</th>\n      <th>cha</th>\n      <th>ac</th>\n      <th>hp</th>\n      <th>perception</th>\n      <th>fortitude</th>\n      <th>...</th>\n      <th>area-damage_weakness</th>\n      <th>cold_weakness</th>\n      <th>cold-iron_weakness</th>\n      <th>evil_weakness</th>\n      <th>fire_weakness</th>\n      <th>good_weakness</th>\n      <th>slashing_weakness</th>\n      <th>splash-damage_weakness</th>\n      <th>book</th>\n      <th>level</th>\n    </tr>\n  </thead>\n  <tbody>\n    <tr>\n      <th>0</th>\n      <td>0.588235</td>\n      <td>0.588235</td>\n      <td>0.357143</td>\n      <td>0.200000</td>\n      <td>0.470588</td>\n      <td>0.529412</td>\n      <td>0.509434</td>\n      <td>0.252087</td>\n      <td>0.156522</td>\n      <td>0.425532</td>\n      <td>...</td>\n      <td>0.0</td>\n      <td>0.0</td>\n      <td>0.0</td>\n      <td>0.0</td>\n      <td>0.0</td>\n      <td>0.0</td>\n      <td>0.0</td>\n      <td>0.0</td>\n      <td>Pathfinder #164: Hands of the Devil</td>\n      <td>8</td>\n    </tr>\n    <tr>\n      <th>1</th>\n      <td>0.588235</td>\n      <td>0.411765</td>\n      <td>0.428571</td>\n      <td>0.600000</td>\n      <td>0.411765</td>\n      <td>0.411765</td>\n      <td>0.396226</td>\n      <td>0.123539</td>\n      <td>0.130435</td>\n      <td>0.297872</td>\n      <td>...</td>\n      <td>0.0</td>\n      <td>0.0</td>\n      <td>0.0</td>\n      <td>0.0</td>\n      <td>0.0</td>\n      <td>0.0</td>\n      <td>0.0</td>\n      <td>0.0</td>\n      <td>Pathfinder #163: Ruins of Gauntlight</td>\n      <td>5</td>\n    </tr>\n    <tr>\n      <th>2</th>\n      <td>0.529412</td>\n      <td>0.470588</td>\n      <td>0.214286</td>\n      <td>0.400000</td>\n      <td>0.470588</td>\n      <td>0.352941</td>\n      <td>0.320755</td>\n      <td>0.078464</td>\n      <td>0.069565</td>\n      <td>0.170213</td>\n      <td>...</td>\n      <td>0.0</td>\n      <td>0.0</td>\n      <td>0.0</td>\n      <td>0.0</td>\n      <td>0.0</td>\n      <td>0.0</td>\n      <td>0.0</td>\n      <td>0.0</td>\n      <td>Pathfinder #163: Ruins of Gauntlight</td>\n      <td>3</td>\n    </tr>\n    <tr>\n      <th>3</th>\n      <td>0.352941</td>\n      <td>0.529412</td>\n      <td>0.214286</td>\n      <td>0.333333</td>\n      <td>0.470588</td>\n      <td>0.352941</td>\n      <td>0.358491</td>\n      <td>0.048414</td>\n      <td>0.104348</td>\n      <td>0.170213</td>\n      <td>...</td>\n      <td>0.0</td>\n      <td>0.0</td>\n      <td>0.0</td>\n      <td>0.0</td>\n      <td>0.0</td>\n      <td>0.0</td>\n      <td>0.0</td>\n      <td>0.0</td>\n      <td>Pathfinder #164: Hands of the Devil</td>\n      <td>3</td>\n    </tr>\n    <tr>\n      <th>4</th>\n      <td>0.588235</td>\n      <td>0.588235</td>\n      <td>0.500000</td>\n      <td>0.466667</td>\n      <td>0.529412</td>\n      <td>0.588235</td>\n      <td>0.490566</td>\n      <td>0.198664</td>\n      <td>0.156522</td>\n      <td>0.361702</td>\n      <td>...</td>\n      <td>0.0</td>\n      <td>0.0</td>\n      <td>0.0</td>\n      <td>0.0</td>\n      <td>0.0</td>\n      <td>0.0</td>\n      <td>0.0</td>\n      <td>0.0</td>\n      <td>Pathfinder #164: Hands of the Devil</td>\n      <td>8</td>\n    </tr>\n  </tbody>\n</table>\n<p>5 rows × 52 columns</p>\n</div>"
     },
     "execution_count": 4,
     "metadata": {},
     "output_type": "execute_result"
    }
   ],
   "source": [
    "columns = [col for col in bestiaries.columns if col not in [\"book\", \"level\"]]\n",
    "scaler = MinMaxScaler()\n",
    "min_max_df = pd.DataFrame()\n",
    "min_max_df[columns] = pd.DataFrame(\n",
    "    scaler.fit_transform(bestiaries[columns]), index=bestiaries.index\n",
    ")\n",
    "min_max_df[\"book\"] = bestiaries[\"book\"]\n",
    "min_max_df[\"level\"] = bestiaries[\"level\"]\n",
    "bestiaries = min_max_df\n",
    "bestiaries = bestiaries[ORDERED_CHARACTERISTICS_FULL + [\"book\", \"level\"]]\n",
    "bestiaries.head()"
   ]
  },
  {
   "cell_type": "code",
   "execution_count": 5,
   "metadata": {
    "collapsed": false
   },
   "outputs": [
    {
     "data": {
      "text/plain": "(3833, 52)"
     },
     "execution_count": 5,
     "metadata": {},
     "output_type": "execute_result"
    }
   ],
   "source": [
    "bestiaries.shape"
   ]
  },
  {
   "cell_type": "code",
   "execution_count": 6,
   "outputs": [
    {
     "name": "stdout",
     "output_type": "stream",
     "text": [
      "<class 'pandas.core.frame.DataFrame'>\n",
      "Int64Index: 3833 entries, 0 to 4506\n",
      "Data columns (total 52 columns):\n",
      " #   Column                  Non-Null Count  Dtype  \n",
      "---  ------                  --------------  -----  \n",
      " 0   str                     3833 non-null   float64\n",
      " 1   dex                     3833 non-null   float64\n",
      " 2   con                     3833 non-null   float64\n",
      " 3   int                     3833 non-null   float64\n",
      " 4   wis                     3833 non-null   float64\n",
      " 5   cha                     3833 non-null   float64\n",
      " 6   ac                      3833 non-null   float64\n",
      " 7   hp                      3833 non-null   float64\n",
      " 8   perception              3833 non-null   float64\n",
      " 9   fortitude               3833 non-null   float64\n",
      " 10  reflex                  3833 non-null   float64\n",
      " 11  will                    3833 non-null   float64\n",
      " 12  focus                   3833 non-null   float64\n",
      " 13  num_immunities          3833 non-null   float64\n",
      " 14  land_speed              3833 non-null   float64\n",
      " 15  fly                     3833 non-null   float64\n",
      " 16  climb                   3833 non-null   float64\n",
      " 17  swim                    3833 non-null   float64\n",
      " 18  spells_nr_lvl_1         3833 non-null   float64\n",
      " 19  spells_nr_lvl_2         3833 non-null   float64\n",
      " 20  spells_nr_lvl_3         3833 non-null   float64\n",
      " 21  spells_nr_lvl_4         3833 non-null   float64\n",
      " 22  spells_nr_lvl_5         3833 non-null   float64\n",
      " 23  spells_nr_lvl_6         3833 non-null   float64\n",
      " 24  spells_nr_lvl_7         3833 non-null   float64\n",
      " 25  spells_nr_lvl_8         3833 non-null   float64\n",
      " 26  spells_nr_lvl_9         3833 non-null   float64\n",
      " 27  melee_max_bonus         3833 non-null   float64\n",
      " 28  avg_melee_dmg           3833 non-null   float64\n",
      " 29  ranged_max_bonus        3833 non-null   float64\n",
      " 30  avg_ranged_dmg          3833 non-null   float64\n",
      " 31  acid_resistance         3833 non-null   float64\n",
      " 32  all-damage_resistance   3833 non-null   float64\n",
      " 33  bludgeoning_resistance  3833 non-null   float64\n",
      " 34  cold_resistance         3833 non-null   float64\n",
      " 35  electricity_resistance  3833 non-null   float64\n",
      " 36  fire_resistance         3833 non-null   float64\n",
      " 37  mental_resistance       3833 non-null   float64\n",
      " 38  physical_resistance     3833 non-null   float64\n",
      " 39  piercing_resistance     3833 non-null   float64\n",
      " 40  poison_resistance       3833 non-null   float64\n",
      " 41  slashing_resistance     3833 non-null   float64\n",
      " 42  area-damage_weakness    3833 non-null   float64\n",
      " 43  cold_weakness           3833 non-null   float64\n",
      " 44  cold-iron_weakness      3833 non-null   float64\n",
      " 45  evil_weakness           3833 non-null   float64\n",
      " 46  fire_weakness           3833 non-null   float64\n",
      " 47  good_weakness           3833 non-null   float64\n",
      " 48  slashing_weakness       3833 non-null   float64\n",
      " 49  splash-damage_weakness  3833 non-null   float64\n",
      " 50  book                    3833 non-null   object \n",
      " 51  level                   3833 non-null   int64  \n",
      "dtypes: float64(50), int64(1), object(1)\n",
      "memory usage: 1.5+ MB\n"
     ]
    }
   ],
   "source": [
    "bestiaries.info()"
   ],
   "metadata": {
    "collapsed": false
   }
  },
  {
   "cell_type": "markdown",
   "source": [
    "## Filter: get only bestiaries"
   ],
   "metadata": {
    "collapsed": false
   }
  },
  {
   "cell_type": "code",
   "execution_count": 8,
   "metadata": {
    "collapsed": false
   },
   "outputs": [],
   "source": [
    "import os\n",
    "from training.splitting_dataset import split_dataframe, get_date_books_mapping\n",
    "\n",
    "\n",
    "os.chdir(\"../../training\")\n",
    "books_dates_map = get_date_books_mapping()\n",
    "os.chdir(\"../notebooks/models\")"
   ]
  },
  {
   "cell_type": "code",
   "execution_count": 9,
   "outputs": [],
   "source": [
    "books_to_include = [\n",
    "    book for _, row in books_dates_map[\"books\"].iteritems() for book in row\n",
    "]\n",
    "bestiaries = bestiaries[bestiaries[\"book\"].isin(books_to_include)]"
   ],
   "metadata": {
    "collapsed": false
   }
  },
  {
   "cell_type": "code",
   "execution_count": 10,
   "outputs": [],
   "source": [
    "os.chdir(\"../../training\")\n",
    "X_train, X_test, y_train, y_test = split_dataframe(bestiaries)\n",
    "os.chdir(\"../notebooks/models\")"
   ],
   "metadata": {
    "collapsed": false
   }
  },
  {
   "cell_type": "code",
   "execution_count": 11,
   "metadata": {
    "collapsed": false
   },
   "outputs": [
    {
     "data": {
      "text/plain": "81500"
     },
     "execution_count": 11,
     "metadata": {},
     "output_type": "execute_result"
    }
   ],
   "source": [
    "X_train.size + X_test.size"
   ]
  },
  {
   "cell_type": "code",
   "execution_count": 12,
   "metadata": {
    "collapsed": false
   },
   "outputs": [
    {
     "data": {
      "text/plain": "0"
     },
     "execution_count": 12,
     "metadata": {},
     "output_type": "execute_result"
    }
   ],
   "source": [
    "bestiaries[\n",
    "    bestiaries[\"book\"].str.contains(\"#\", regex=False)\n",
    "].size  # Adventure Paths have '#' in book/title"
   ]
  },
  {
   "cell_type": "code",
   "execution_count": 13,
   "metadata": {
    "collapsed": false
   },
   "outputs": [
    {
     "data": {
      "text/plain": "Pathfinder Bestiary                                    467\nPathfinder Bestiary 2                                  373\nPathfinder Bestiary 3                                  365\nPathfinder Kingmaker                                   181\nPathfinder Book of the Dead                             91\nPathfinder Gamemastery Guide                            83\nPathfinder Beginner Box                                 62\nPathfinder Abomination Vaults Hardcover Compilation      8\nName: book, dtype: int64"
     },
     "execution_count": 13,
     "metadata": {},
     "output_type": "execute_result"
    }
   ],
   "source": [
    "bestiaries.book.value_counts()"
   ]
  },
  {
   "cell_type": "code",
   "execution_count": 14,
   "metadata": {
    "collapsed": false
   },
   "outputs": [
    {
     "data": {
      "text/plain": "          str       dex       con       int       wis       cha        ac  \\\n651  0.588235  0.470588  0.428571  0.000000  0.411765  0.176471  0.452830   \n652  0.000000  0.705882  0.357143  0.666667  0.588235  0.705882  0.547170   \n656  0.411765  0.588235  0.285714  0.400000  0.411765  0.588235  0.396226   \n657  0.588235  0.647059  0.428571  0.533333  0.411765  0.529412  0.490566   \n659  0.647059  0.470588  0.428571  0.466667  0.647059  0.588235  0.490566   \n\n           hp  perception  fortitude  ...  poison_resistance  \\\n651  0.148581    0.104348   0.340426  ...                0.0   \n652  0.290484    0.191304   0.382979  ...                0.0   \n656  0.081803    0.095652   0.191489  ...                0.0   \n657  0.207012    0.139130   0.340426  ...                0.0   \n659  0.273790    0.156522   0.297872  ...                0.0   \n\n     slashing_resistance  area-damage_weakness  cold_weakness  \\\n651                 0.25                   0.0            0.0   \n652                 0.00                   0.0            0.0   \n656                 0.25                   0.0            0.0   \n657                 0.00                   0.0            0.0   \n659                 0.00                   0.0            0.0   \n\n     cold-iron_weakness  evil_weakness  fire_weakness  good_weakness  \\\n651                0.00            0.0            0.0            0.0   \n652                0.25            0.0            0.0            0.0   \n656                0.00            0.0            0.0            0.0   \n657                0.00            0.0            0.0            0.0   \n659                0.00            0.0            0.0            0.0   \n\n     slashing_weakness  splash-damage_weakness  \n651                0.0                     0.0  \n652                0.0                     0.0  \n656                0.0                     0.0  \n657                0.0                     0.0  \n659                0.0                     0.0  \n\n[5 rows x 50 columns]",
      "text/html": "<div>\n<style scoped>\n    .dataframe tbody tr th:only-of-type {\n        vertical-align: middle;\n    }\n\n    .dataframe tbody tr th {\n        vertical-align: top;\n    }\n\n    .dataframe thead th {\n        text-align: right;\n    }\n</style>\n<table border=\"1\" class=\"dataframe\">\n  <thead>\n    <tr style=\"text-align: right;\">\n      <th></th>\n      <th>str</th>\n      <th>dex</th>\n      <th>con</th>\n      <th>int</th>\n      <th>wis</th>\n      <th>cha</th>\n      <th>ac</th>\n      <th>hp</th>\n      <th>perception</th>\n      <th>fortitude</th>\n      <th>...</th>\n      <th>poison_resistance</th>\n      <th>slashing_resistance</th>\n      <th>area-damage_weakness</th>\n      <th>cold_weakness</th>\n      <th>cold-iron_weakness</th>\n      <th>evil_weakness</th>\n      <th>fire_weakness</th>\n      <th>good_weakness</th>\n      <th>slashing_weakness</th>\n      <th>splash-damage_weakness</th>\n    </tr>\n  </thead>\n  <tbody>\n    <tr>\n      <th>651</th>\n      <td>0.588235</td>\n      <td>0.470588</td>\n      <td>0.428571</td>\n      <td>0.000000</td>\n      <td>0.411765</td>\n      <td>0.176471</td>\n      <td>0.452830</td>\n      <td>0.148581</td>\n      <td>0.104348</td>\n      <td>0.340426</td>\n      <td>...</td>\n      <td>0.0</td>\n      <td>0.25</td>\n      <td>0.0</td>\n      <td>0.0</td>\n      <td>0.00</td>\n      <td>0.0</td>\n      <td>0.0</td>\n      <td>0.0</td>\n      <td>0.0</td>\n      <td>0.0</td>\n    </tr>\n    <tr>\n      <th>652</th>\n      <td>0.000000</td>\n      <td>0.705882</td>\n      <td>0.357143</td>\n      <td>0.666667</td>\n      <td>0.588235</td>\n      <td>0.705882</td>\n      <td>0.547170</td>\n      <td>0.290484</td>\n      <td>0.191304</td>\n      <td>0.382979</td>\n      <td>...</td>\n      <td>0.0</td>\n      <td>0.00</td>\n      <td>0.0</td>\n      <td>0.0</td>\n      <td>0.25</td>\n      <td>0.0</td>\n      <td>0.0</td>\n      <td>0.0</td>\n      <td>0.0</td>\n      <td>0.0</td>\n    </tr>\n    <tr>\n      <th>656</th>\n      <td>0.411765</td>\n      <td>0.588235</td>\n      <td>0.285714</td>\n      <td>0.400000</td>\n      <td>0.411765</td>\n      <td>0.588235</td>\n      <td>0.396226</td>\n      <td>0.081803</td>\n      <td>0.095652</td>\n      <td>0.191489</td>\n      <td>...</td>\n      <td>0.0</td>\n      <td>0.25</td>\n      <td>0.0</td>\n      <td>0.0</td>\n      <td>0.00</td>\n      <td>0.0</td>\n      <td>0.0</td>\n      <td>0.0</td>\n      <td>0.0</td>\n      <td>0.0</td>\n    </tr>\n    <tr>\n      <th>657</th>\n      <td>0.588235</td>\n      <td>0.647059</td>\n      <td>0.428571</td>\n      <td>0.533333</td>\n      <td>0.411765</td>\n      <td>0.529412</td>\n      <td>0.490566</td>\n      <td>0.207012</td>\n      <td>0.139130</td>\n      <td>0.340426</td>\n      <td>...</td>\n      <td>0.0</td>\n      <td>0.00</td>\n      <td>0.0</td>\n      <td>0.0</td>\n      <td>0.00</td>\n      <td>0.0</td>\n      <td>0.0</td>\n      <td>0.0</td>\n      <td>0.0</td>\n      <td>0.0</td>\n    </tr>\n    <tr>\n      <th>659</th>\n      <td>0.647059</td>\n      <td>0.470588</td>\n      <td>0.428571</td>\n      <td>0.466667</td>\n      <td>0.647059</td>\n      <td>0.588235</td>\n      <td>0.490566</td>\n      <td>0.273790</td>\n      <td>0.156522</td>\n      <td>0.297872</td>\n      <td>...</td>\n      <td>0.0</td>\n      <td>0.00</td>\n      <td>0.0</td>\n      <td>0.0</td>\n      <td>0.00</td>\n      <td>0.0</td>\n      <td>0.0</td>\n      <td>0.0</td>\n      <td>0.0</td>\n      <td>0.0</td>\n    </tr>\n  </tbody>\n</table>\n<p>5 rows × 50 columns</p>\n</div>"
     },
     "execution_count": 14,
     "metadata": {},
     "output_type": "execute_result"
    }
   ],
   "source": [
    "X_test.head()"
   ]
  },
  {
   "cell_type": "markdown",
   "source": [
    "## Train models"
   ],
   "metadata": {
    "collapsed": false
   }
  },
  {
   "cell_type": "code",
   "execution_count": 13,
   "metadata": {
    "collapsed": false
   },
   "outputs": [
    {
     "name": "stdout",
     "output_type": "stream",
     "text": [
      "==== linear_regression ====\n",
      "\t--> train\n",
      "\t\t--> rmse: 0.5004325629728289\n",
      "\t\t--> mse: 0.25043275008355437\n",
      "\t\t--> mae: 0.3499345034317349\n",
      "\t--> test\n",
      "\t\t--> rmse: 0.8119215019113485\n",
      "\t\t--> mse: 0.6592165252659798\n",
      "\t\t--> mae: 0.4872711651826509\n",
      "\n",
      "==== linear_regression_ridge ====\n",
      "\t--> train\n",
      "\t\t--> rmse: 0.5011735233513618\n",
      "\t\t--> mse: 0.251174900508418\n",
      "\t\t--> mae: 0.349536391320656\n",
      "\t--> test\n",
      "\t\t--> rmse: 0.81255791469997\n",
      "\t\t--> mse: 0.6602503647415636\n",
      "\t\t--> mae: 0.48108924910340406\n",
      "\n",
      "==== linear_regression_lasso ====\n",
      "\t--> train\n",
      "\t\t--> rmse: 0.5314264520482728\n",
      "\t\t--> mse: 0.28241407393661516\n",
      "\t\t--> mae: 0.36404349999218777\n",
      "\t--> test\n",
      "\t\t--> rmse: 0.824181797001593\n",
      "\t\t--> mse: 0.679275634508775\n",
      "\t\t--> mae: 0.4616051509633608\n",
      "\n",
      "Fitting 5 folds for each of 100 candidates, totalling 500 fits\n",
      "==== lad_regression ====\n",
      "\t--> train\n",
      "\t\t--> rmse: 0.5320593836402999\n",
      "\t\t--> mse: 0.2830871877196958\n",
      "\t\t--> mae: 0.3429493248909897\n",
      "\t--> test\n",
      "\t\t--> rmse: 0.7581056908889712\n",
      "\t\t--> mse: 0.5747242385582444\n",
      "\t\t--> mae: 0.4444084558174069\n",
      "\n",
      "Fitting 5 folds for each of 100 candidates, totalling 500 fits\n",
      "==== huber_regression ====\n",
      "\t--> train\n",
      "\t\t--> rmse: 0.5294729368492895\n",
      "\t\t--> mse: 0.2803415908558118\n",
      "\t\t--> mae: 0.3391303990643344\n",
      "\t--> test\n",
      "\t\t--> rmse: 0.7579568426133575\n",
      "\t\t--> mse: 0.5744985752644101\n",
      "\t\t--> mae: 0.44634803965435005\n",
      "\n"
     ]
    }
   ],
   "source": [
    "from training.train_and_evaluate_models import train_and_evaluate_models\n",
    "\n",
    "\n",
    "results = train_and_evaluate_models(\n",
    "    [\n",
    "        \"linear_regression\",\n",
    "        \"linear_regression_ridge\",\n",
    "        \"linear_regression_lasso\",\n",
    "        \"lad_regression\",\n",
    "        \"huber_regression\",\n",
    "    ],\n",
    "    X_train,\n",
    "    y_train,\n",
    "    X_test,\n",
    "    y_test,\n",
    ")"
   ]
  },
  {
   "cell_type": "code",
   "execution_count": 14,
   "metadata": {
    "collapsed": false
   },
   "outputs": [
    {
     "data": {
      "text/plain": "<Figure size 640x480 with 6 Axes>",
      "image/png": "[encoded data removed]"
     },
     "metadata": {},
     "output_type": "display_data"
    }
   ],
   "source": [
    "from training.results import plot_results\n",
    "\n",
    "\n",
    "plot_results(results, measure_types=[\"mae\", \"rmse\", \"mse\"])"
   ]
  },
  {
   "cell_type": "markdown",
   "source": [
    "##### Linear SVM"
   ],
   "metadata": {
    "collapsed": false
   }
  },
  {
   "cell_type": "code",
   "execution_count": 15,
   "metadata": {
    "collapsed": false
   },
   "outputs": [],
   "source": [
    "from sklearn.metrics import f1_score\n",
    "from sklearn.svm import LinearSVR\n",
    "\n",
    "\n",
    "clf_linear_svr = LinearSVR(loss=\"epsilon_insensitive\", max_iter=10000, random_state=0)\n",
    "clf_linear_svr.fit(X_train, y_train)\n",
    "\n",
    "y_pred = clf_linear_svr.predict(X_test)"
   ]
  },
  {
   "cell_type": "code",
   "execution_count": 16,
   "metadata": {
    "collapsed": false
   },
   "outputs": [
    {
     "data": {
      "text/plain": "0.44105963197069353"
     },
     "execution_count": 16,
     "metadata": {},
     "output_type": "execute_result"
    }
   ],
   "source": [
    "from sklearn.metrics import mean_absolute_error, mean_squared_error\n",
    "\n",
    "\n",
    "mean_absolute_error(y_test, y_pred)"
   ]
  },
  {
   "cell_type": "code",
   "execution_count": 17,
   "metadata": {
    "collapsed": false
   },
   "outputs": [
    {
     "data": {
      "text/plain": "0.5320555394583479"
     },
     "execution_count": 17,
     "metadata": {},
     "output_type": "execute_result"
    }
   ],
   "source": [
    "mean_squared_error(y_test, y_pred)"
   ]
  },
  {
   "cell_type": "code",
   "execution_count": 25,
   "metadata": {
    "collapsed": false
   },
   "outputs": [],
   "source": [
    "from sklearn.model_selection import RandomizedSearchCV, KFold, GridSearchCV\n",
    "from training.constants import RANDOM_STATE\n",
    "\n",
    "\n",
    "clf_linear_svr = LinearSVR(loss=\"epsilon_insensitive\", max_iter=10000, random_state=0)\n",
    "folds = KFold(n_splits=5, shuffle=True, random_state=0)\n",
    "hyper_params = {\"C\": [1e-3, 1e-2, 1e-1, 1, 1e1, 1e2, 1e3, 1e4, 1e5]}\n",
    "\n",
    "model = GridSearchCV(\n",
    "    estimator=clf_linear_svr,\n",
    "    param_grid=hyper_params,\n",
    "    scoring=\"neg_mean_squared_error\",\n",
    "    cv=5,\n",
    "    verbose=2,\n",
    "    return_train_score=True,\n",
    "    n_jobs=-1,\n",
    ")"
   ]
  },
  {
   "cell_type": "code",
   "execution_count": 26,
   "metadata": {
    "collapsed": false
   },
   "outputs": [
    {
     "name": "stdout",
     "output_type": "stream",
     "text": [
      "Fitting 5 folds for each of 9 candidates, totalling 45 fits\n"
     ]
    },
    {
     "data": {
      "text/plain": "GridSearchCV(cv=5, estimator=LinearSVR(max_iter=10000, random_state=0),\n             n_jobs=-1,\n             param_grid={'C': [0.001, 0.01, 0.1, 1, 10.0, 100.0, 1000.0,\n                               10000.0, 100000.0]},\n             return_train_score=True, scoring='neg_mean_squared_error',\n             verbose=2)",
      "text/html": "<style>#sk-container-id-3 {color: black;background-color: white;}#sk-container-id-3 pre{padding: 0;}#sk-container-id-3 div.sk-toggleable {background-color: white;}#sk-container-id-3 label.sk-toggleable__label {cursor: pointer;display: block;width: 100%;margin-bottom: 0;padding: 0.3em;box-sizing: border-box;text-align: center;}#sk-container-id-3 label.sk-toggleable__label-arrow:before {content: \"▸\";float: left;margin-right: 0.25em;color: #696969;}#sk-container-id-3 label.sk-toggleable__label-arrow:hover:before {color: black;}#sk-container-id-3 div.sk-estimator:hover label.sk-toggleable__label-arrow:before {color: black;}#sk-container-id-3 div.sk-toggleable__content {max-height: 0;max-width: 0;overflow: hidden;text-align: left;background-color: #f0f8ff;}#sk-container-id-3 div.sk-toggleable__content pre {margin: 0.2em;color: black;border-radius: 0.25em;background-color: #f0f8ff;}#sk-container-id-3 input.sk-toggleable__control:checked~div.sk-toggleable__content {max-height: 200px;max-width: 100%;overflow: auto;}#sk-container-id-3 input.sk-toggleable__control:checked~label.sk-toggleable__label-arrow:before {content: \"▾\";}#sk-container-id-3 div.sk-estimator input.sk-toggleable__control:checked~label.sk-toggleable__label {background-color: #d4ebff;}#sk-container-id-3 div.sk-label input.sk-toggleable__control:checked~label.sk-toggleable__label {background-color: #d4ebff;}#sk-container-id-3 input.sk-hidden--visually {border: 0;clip: rect(1px 1px 1px 1px);clip: rect(1px, 1px, 1px, 1px);height: 1px;margin: -1px;overflow: hidden;padding: 0;position: absolute;width: 1px;}#sk-container-id-3 div.sk-estimator {font-family: monospace;background-color: #f0f8ff;border: 1px dotted black;border-radius: 0.25em;box-sizing: border-box;margin-bottom: 0.5em;}#sk-container-id-3 div.sk-estimator:hover {background-color: #d4ebff;}#sk-container-id-3 div.sk-parallel-item::after {content: \"\";width: 100%;border-bottom: 1px solid gray;flex-grow: 1;}#sk-container-id-3 div.sk-label:hover label.sk-toggleable__label {background-color: #d4ebff;}#sk-container-id-3 div.sk-serial::before {content: \"\";position: absolute;border-left: 1px solid gray;box-sizing: border-box;top: 0;bottom: 0;left: 50%;z-index: 0;}#sk-container-id-3 div.sk-serial {display: flex;flex-direction: column;align-items: center;background-color: white;padding-right: 0.2em;padding-left: 0.2em;position: relative;}#sk-container-id-3 div.sk-item {position: relative;z-index: 1;}#sk-container-id-3 div.sk-parallel {display: flex;align-items: stretch;justify-content: center;background-color: white;position: relative;}#sk-container-id-3 div.sk-item::before, #sk-container-id-3 div.sk-parallel-item::before {content: \"\";position: absolute;border-left: 1px solid gray;box-sizing: border-box;top: 0;bottom: 0;left: 50%;z-index: -1;}#sk-container-id-3 div.sk-parallel-item {display: flex;flex-direction: column;z-index: 1;position: relative;background-color: white;}#sk-container-id-3 div.sk-parallel-item:first-child::after {align-self: flex-end;width: 50%;}#sk-container-id-3 div.sk-parallel-item:last-child::after {align-self: flex-start;width: 50%;}#sk-container-id-3 div.sk-parallel-item:only-child::after {width: 0;}#sk-container-id-3 div.sk-dashed-wrapped {border: 1px dashed gray;margin: 0 0.4em 0.5em 0.4em;box-sizing: border-box;padding-bottom: 0.4em;background-color: white;}#sk-container-id-3 div.sk-label label {font-family: monospace;font-weight: bold;display: inline-block;line-height: 1.2em;}#sk-container-id-3 div.sk-label-container {text-align: center;}#sk-container-id-3 div.sk-container {/* jupyter's `normalize.less` sets `[hidden] { display: none; }` but bootstrap.min.css set `[hidden] { display: none !important; }` so we also need the `!important` here to be able to override the default hidden behavior on the sphinx rendered scikit-learn.org. See: https://github.com/scikit-learn/scikit-learn/issues/21755 */display: inline-block !important;position: relative;}#sk-container-id-3 div.sk-text-repr-fallback {display: none;}</style><div id=\"sk-container-id-3\" class=\"sk-top-container\"><div class=\"sk-text-repr-fallback\"><pre>GridSearchCV(cv=5, estimator=LinearSVR(max_iter=10000, random_state=0),\n             n_jobs=-1,\n             param_grid={&#x27;C&#x27;: [0.001, 0.01, 0.1, 1, 10.0, 100.0, 1000.0,\n                               10000.0, 100000.0]},\n             return_train_score=True, scoring=&#x27;neg_mean_squared_error&#x27;,\n             verbose=2)</pre><b>In a Jupyter environment, please rerun this cell to show the HTML representation or trust the notebook. <br />On GitHub, the HTML representation is unable to render, please try loading this page with nbviewer.org.</b></div><div class=\"sk-container\" hidden><div class=\"sk-item sk-dashed-wrapped\"><div class=\"sk-label-container\"><div class=\"sk-label sk-toggleable\"><input class=\"sk-toggleable__control sk-hidden--visually\" id=\"sk-estimator-id-7\" type=\"checkbox\" ><label for=\"sk-estimator-id-7\" class=\"sk-toggleable__label sk-toggleable__label-arrow\">GridSearchCV</label><div class=\"sk-toggleable__content\"><pre>GridSearchCV(cv=5, estimator=LinearSVR(max_iter=10000, random_state=0),\n             n_jobs=-1,\n             param_grid={&#x27;C&#x27;: [0.001, 0.01, 0.1, 1, 10.0, 100.0, 1000.0,\n                               10000.0, 100000.0]},\n             return_train_score=True, scoring=&#x27;neg_mean_squared_error&#x27;,\n             verbose=2)</pre></div></div></div><div class=\"sk-parallel\"><div class=\"sk-parallel-item\"><div class=\"sk-item\"><div class=\"sk-label-container\"><div class=\"sk-label sk-toggleable\"><input class=\"sk-toggleable__control sk-hidden--visually\" id=\"sk-estimator-id-8\" type=\"checkbox\" ><label for=\"sk-estimator-id-8\" class=\"sk-toggleable__label sk-toggleable__label-arrow\">estimator: LinearSVR</label><div class=\"sk-toggleable__content\"><pre>LinearSVR(max_iter=10000, random_state=0)</pre></div></div></div><div class=\"sk-serial\"><div class=\"sk-item\"><div class=\"sk-estimator sk-toggleable\"><input class=\"sk-toggleable__control sk-hidden--visually\" id=\"sk-estimator-id-9\" type=\"checkbox\" ><label for=\"sk-estimator-id-9\" class=\"sk-toggleable__label sk-toggleable__label-arrow\">LinearSVR</label><div class=\"sk-toggleable__content\"><pre>LinearSVR(max_iter=10000, random_state=0)</pre></div></div></div></div></div></div></div></div></div></div>"
     },
     "execution_count": 26,
     "metadata": {},
     "output_type": "execute_result"
    }
   ],
   "source": [
    "model.fit(X_train, y_train)"
   ]
  },
  {
   "cell_type": "code",
   "execution_count": 27,
   "metadata": {
    "collapsed": false
   },
   "outputs": [
    {
     "data": {
      "text/plain": "{'C': 1}"
     },
     "execution_count": 27,
     "metadata": {},
     "output_type": "execute_result"
    }
   ],
   "source": [
    "model.best_params_"
   ]
  },
  {
   "cell_type": "code",
   "execution_count": 30,
   "metadata": {
    "collapsed": false
   },
   "outputs": [],
   "source": [
    "import numpy as np\n",
    "\n",
    "\n",
    "clf_linear_svr = LinearSVR(loss=\"epsilon_insensitive\", max_iter=10000, random_state=0)\n",
    "folds = KFold(n_splits=5, shuffle=True, random_state=0)\n",
    "hyper_params = {\"C\": np.linspace(0.1, 100, num=1000)}\n",
    "\n",
    "model = RandomizedSearchCV(\n",
    "    estimator=clf_linear_svr,\n",
    "    param_distributions=hyper_params,\n",
    "    scoring=\"neg_mean_squared_error\",\n",
    "    cv=folds,\n",
    "    verbose=2,\n",
    "    return_train_score=True,\n",
    "    n_iter=100,\n",
    "    random_state=RANDOM_STATE,\n",
    "    n_jobs=-1,\n",
    ")"
   ]
  },
  {
   "cell_type": "code",
   "execution_count": 31,
   "metadata": {
    "collapsed": false
   },
   "outputs": [
    {
     "name": "stdout",
     "output_type": "stream",
     "text": [
      "Fitting 5 folds for each of 100 candidates, totalling 500 fits\n"
     ]
    },
    {
     "name": "stderr",
     "output_type": "stream",
     "text": [
      "C:\\Users\\jolka\\OneDrive\\Dokumenty\\mgr\\Predictive-ML-in-TTRPG-game-design\\venv\\lib\\site-packages\\sklearn\\svm\\_base.py:1244: ConvergenceWarning: Liblinear failed to converge, increase the number of iterations.\n",
      "  warnings.warn(\n"
     ]
    },
    {
     "data": {
      "text/plain": "RandomizedSearchCV(cv=KFold(n_splits=5, random_state=0, shuffle=True),\n                   estimator=LinearSVR(max_iter=10000, random_state=0),\n                   n_iter=100, n_jobs=-1,\n                   param_distributions={'C': array([  0.1,   0.2,   0.3,   0.4,   0.5,   0.6,   0.7,   0.8,   0.9,\n         1. ,   1.1,   1.2,   1.3,   1.4,   1.5,   1.6,   1.7,   1.8,\n         1.9,   2. ,   2.1,   2.2,   2.3,   2.4,   2.5,   2.6,   2.7,\n         2.8,   2.9,   3. ,   3.1,   3.2,   3.3,   3.4,   3.5,   3.6,\n         3.7,   3.8,   3.9,   4. ,   4.1,   4.2,   4.3,   4.4,   4.5,\n         4....\n        94.6,  94.7,  94.8,  94.9,  95. ,  95.1,  95.2,  95.3,  95.4,\n        95.5,  95.6,  95.7,  95.8,  95.9,  96. ,  96.1,  96.2,  96.3,\n        96.4,  96.5,  96.6,  96.7,  96.8,  96.9,  97. ,  97.1,  97.2,\n        97.3,  97.4,  97.5,  97.6,  97.7,  97.8,  97.9,  98. ,  98.1,\n        98.2,  98.3,  98.4,  98.5,  98.6,  98.7,  98.8,  98.9,  99. ,\n        99.1,  99.2,  99.3,  99.4,  99.5,  99.6,  99.7,  99.8,  99.9,\n       100. ])},\n                   random_state=42, return_train_score=True,\n                   scoring='neg_mean_squared_error', verbose=2)",
      "text/html": "<style>#sk-container-id-5 {color: black;background-color: white;}#sk-container-id-5 pre{padding: 0;}#sk-container-id-5 div.sk-toggleable {background-color: white;}#sk-container-id-5 label.sk-toggleable__label {cursor: pointer;display: block;width: 100%;margin-bottom: 0;padding: 0.3em;box-sizing: border-box;text-align: center;}#sk-container-id-5 label.sk-toggleable__label-arrow:before {content: \"▸\";float: left;margin-right: 0.25em;color: #696969;}#sk-container-id-5 label.sk-toggleable__label-arrow:hover:before {color: black;}#sk-container-id-5 div.sk-estimator:hover label.sk-toggleable__label-arrow:before {color: black;}#sk-container-id-5 div.sk-toggleable__content {max-height: 0;max-width: 0;overflow: hidden;text-align: left;background-color: #f0f8ff;}#sk-container-id-5 div.sk-toggleable__content pre {margin: 0.2em;color: black;border-radius: 0.25em;background-color: #f0f8ff;}#sk-container-id-5 input.sk-toggleable__control:checked~div.sk-toggleable__content {max-height: 200px;max-width: 100%;overflow: auto;}#sk-container-id-5 input.sk-toggleable__control:checked~label.sk-toggleable__label-arrow:before {content: \"▾\";}#sk-container-id-5 div.sk-estimator input.sk-toggleable__control:checked~label.sk-toggleable__label {background-color: #d4ebff;}#sk-container-id-5 div.sk-label input.sk-toggleable__control:checked~label.sk-toggleable__label {background-color: #d4ebff;}#sk-container-id-5 input.sk-hidden--visually {border: 0;clip: rect(1px 1px 1px 1px);clip: rect(1px, 1px, 1px, 1px);height: 1px;margin: -1px;overflow: hidden;padding: 0;position: absolute;width: 1px;}#sk-container-id-5 div.sk-estimator {font-family: monospace;background-color: #f0f8ff;border: 1px dotted black;border-radius: 0.25em;box-sizing: border-box;margin-bottom: 0.5em;}#sk-container-id-5 div.sk-estimator:hover {background-color: #d4ebff;}#sk-container-id-5 div.sk-parallel-item::after {content: \"\";width: 100%;border-bottom: 1px solid gray;flex-grow: 1;}#sk-container-id-5 div.sk-label:hover label.sk-toggleable__label {background-color: #d4ebff;}#sk-container-id-5 div.sk-serial::before {content: \"\";position: absolute;border-left: 1px solid gray;box-sizing: border-box;top: 0;bottom: 0;left: 50%;z-index: 0;}#sk-container-id-5 div.sk-serial {display: flex;flex-direction: column;align-items: center;background-color: white;padding-right: 0.2em;padding-left: 0.2em;position: relative;}#sk-container-id-5 div.sk-item {position: relative;z-index: 1;}#sk-container-id-5 div.sk-parallel {display: flex;align-items: stretch;justify-content: center;background-color: white;position: relative;}#sk-container-id-5 div.sk-item::before, #sk-container-id-5 div.sk-parallel-item::before {content: \"\";position: absolute;border-left: 1px solid gray;box-sizing: border-box;top: 0;bottom: 0;left: 50%;z-index: -1;}#sk-container-id-5 div.sk-parallel-item {display: flex;flex-direction: column;z-index: 1;position: relative;background-color: white;}#sk-container-id-5 div.sk-parallel-item:first-child::after {align-self: flex-end;width: 50%;}#sk-container-id-5 div.sk-parallel-item:last-child::after {align-self: flex-start;width: 50%;}#sk-container-id-5 div.sk-parallel-item:only-child::after {width: 0;}#sk-container-id-5 div.sk-dashed-wrapped {border: 1px dashed gray;margin: 0 0.4em 0.5em 0.4em;box-sizing: border-box;padding-bottom: 0.4em;background-color: white;}#sk-container-id-5 div.sk-label label {font-family: monospace;font-weight: bold;display: inline-block;line-height: 1.2em;}#sk-container-id-5 div.sk-label-container {text-align: center;}#sk-container-id-5 div.sk-container {/* jupyter's `normalize.less` sets `[hidden] { display: none; }` but bootstrap.min.css set `[hidden] { display: none !important; }` so we also need the `!important` here to be able to override the default hidden behavior on the sphinx rendered scikit-learn.org. See: https://github.com/scikit-learn/scikit-learn/issues/21755 */display: inline-block !important;position: relative;}#sk-container-id-5 div.sk-text-repr-fallback {display: none;}</style><div id=\"sk-container-id-5\" class=\"sk-top-container\"><div class=\"sk-text-repr-fallback\"><pre>RandomizedSearchCV(cv=KFold(n_splits=5, random_state=0, shuffle=True),\n                   estimator=LinearSVR(max_iter=10000, random_state=0),\n                   n_iter=100, n_jobs=-1,\n                   param_distributions={&#x27;C&#x27;: array([  0.1,   0.2,   0.3,   0.4,   0.5,   0.6,   0.7,   0.8,   0.9,\n         1. ,   1.1,   1.2,   1.3,   1.4,   1.5,   1.6,   1.7,   1.8,\n         1.9,   2. ,   2.1,   2.2,   2.3,   2.4,   2.5,   2.6,   2.7,\n         2.8,   2.9,   3. ,   3.1,   3.2,   3.3,   3.4,   3.5,   3.6,\n         3.7,   3.8,   3.9,   4. ,   4.1,   4.2,   4.3,   4.4,   4.5,\n         4....\n        94.6,  94.7,  94.8,  94.9,  95. ,  95.1,  95.2,  95.3,  95.4,\n        95.5,  95.6,  95.7,  95.8,  95.9,  96. ,  96.1,  96.2,  96.3,\n        96.4,  96.5,  96.6,  96.7,  96.8,  96.9,  97. ,  97.1,  97.2,\n        97.3,  97.4,  97.5,  97.6,  97.7,  97.8,  97.9,  98. ,  98.1,\n        98.2,  98.3,  98.4,  98.5,  98.6,  98.7,  98.8,  98.9,  99. ,\n        99.1,  99.2,  99.3,  99.4,  99.5,  99.6,  99.7,  99.8,  99.9,\n       100. ])},\n                   random_state=42, return_train_score=True,\n                   scoring=&#x27;neg_mean_squared_error&#x27;, verbose=2)</pre><b>In a Jupyter environment, please rerun this cell to show the HTML representation or trust the notebook. <br />On GitHub, the HTML representation is unable to render, please try loading this page with nbviewer.org.</b></div><div class=\"sk-container\" hidden><div class=\"sk-item sk-dashed-wrapped\"><div class=\"sk-label-container\"><div class=\"sk-label sk-toggleable\"><input class=\"sk-toggleable__control sk-hidden--visually\" id=\"sk-estimator-id-13\" type=\"checkbox\" ><label for=\"sk-estimator-id-13\" class=\"sk-toggleable__label sk-toggleable__label-arrow\">RandomizedSearchCV</label><div class=\"sk-toggleable__content\"><pre>RandomizedSearchCV(cv=KFold(n_splits=5, random_state=0, shuffle=True),\n                   estimator=LinearSVR(max_iter=10000, random_state=0),\n                   n_iter=100, n_jobs=-1,\n                   param_distributions={&#x27;C&#x27;: array([  0.1,   0.2,   0.3,   0.4,   0.5,   0.6,   0.7,   0.8,   0.9,\n         1. ,   1.1,   1.2,   1.3,   1.4,   1.5,   1.6,   1.7,   1.8,\n         1.9,   2. ,   2.1,   2.2,   2.3,   2.4,   2.5,   2.6,   2.7,\n         2.8,   2.9,   3. ,   3.1,   3.2,   3.3,   3.4,   3.5,   3.6,\n         3.7,   3.8,   3.9,   4. ,   4.1,   4.2,   4.3,   4.4,   4.5,\n         4....\n        94.6,  94.7,  94.8,  94.9,  95. ,  95.1,  95.2,  95.3,  95.4,\n        95.5,  95.6,  95.7,  95.8,  95.9,  96. ,  96.1,  96.2,  96.3,\n        96.4,  96.5,  96.6,  96.7,  96.8,  96.9,  97. ,  97.1,  97.2,\n        97.3,  97.4,  97.5,  97.6,  97.7,  97.8,  97.9,  98. ,  98.1,\n        98.2,  98.3,  98.4,  98.5,  98.6,  98.7,  98.8,  98.9,  99. ,\n        99.1,  99.2,  99.3,  99.4,  99.5,  99.6,  99.7,  99.8,  99.9,\n       100. ])},\n                   random_state=42, return_train_score=True,\n                   scoring=&#x27;neg_mean_squared_error&#x27;, verbose=2)</pre></div></div></div><div class=\"sk-parallel\"><div class=\"sk-parallel-item\"><div class=\"sk-item\"><div class=\"sk-label-container\"><div class=\"sk-label sk-toggleable\"><input class=\"sk-toggleable__control sk-hidden--visually\" id=\"sk-estimator-id-14\" type=\"checkbox\" ><label for=\"sk-estimator-id-14\" class=\"sk-toggleable__label sk-toggleable__label-arrow\">estimator: LinearSVR</label><div class=\"sk-toggleable__content\"><pre>LinearSVR(max_iter=10000, random_state=0)</pre></div></div></div><div class=\"sk-serial\"><div class=\"sk-item\"><div class=\"sk-estimator sk-toggleable\"><input class=\"sk-toggleable__control sk-hidden--visually\" id=\"sk-estimator-id-15\" type=\"checkbox\" ><label for=\"sk-estimator-id-15\" class=\"sk-toggleable__label sk-toggleable__label-arrow\">LinearSVR</label><div class=\"sk-toggleable__content\"><pre>LinearSVR(max_iter=10000, random_state=0)</pre></div></div></div></div></div></div></div></div></div></div>"
     },
     "execution_count": 31,
     "metadata": {},
     "output_type": "execute_result"
    }
   ],
   "source": [
    "model.fit(X_train, y_train)"
   ]
  },
  {
   "cell_type": "code",
   "execution_count": 32,
   "metadata": {
    "collapsed": false
   },
   "outputs": [
    {
     "data": {
      "text/plain": "{'C': 99.9}"
     },
     "execution_count": 32,
     "metadata": {},
     "output_type": "execute_result"
    }
   ],
   "source": [
    "model.best_params_"
   ]
  },
  {
   "cell_type": "code",
   "execution_count": 41,
   "metadata": {
    "collapsed": false
   },
   "outputs": [
    {
     "name": "stdout",
     "output_type": "stream",
     "text": [
      "Fitting 5 folds for each of 120 candidates, totalling 600 fits\n"
     ]
    },
    {
     "name": "stderr",
     "output_type": "stream",
     "text": [
      "C:\\Users\\jolka\\OneDrive\\Dokumenty\\mgr\\Predictive-ML-in-TTRPG-game-design\\venv\\lib\\site-packages\\sklearn\\svm\\_base.py:1244: ConvergenceWarning: Liblinear failed to converge, increase the number of iterations.\n",
      "  warnings.warn(\n"
     ]
    },
    {
     "data": {
      "text/plain": "GridSearchCV(cv=KFold(n_splits=5, random_state=0, shuffle=True),\n             estimator=LinearSVR(max_iter=10000, random_state=0), n_jobs=-1,\n             param_grid={'C': array([ 90.        ,  90.50420168,  91.00840336,  91.51260504,\n        92.01680672,  92.5210084 ,  93.02521008,  93.52941176,\n        94.03361345,  94.53781513,  95.04201681,  95.54621849,\n        96.05042017,  96.55462185,  97.05882353,  97.56302521,\n        98.06722689,  98.571428...\n       138.40336134, 138.90756303, 139.41176471, 139.91596639,\n       140.42016807, 140.92436975, 141.42857143, 141.93277311,\n       142.43697479, 142.94117647, 143.44537815, 143.94957983,\n       144.45378151, 144.95798319, 145.46218487, 145.96638655,\n       146.47058824, 146.97478992, 147.4789916 , 147.98319328,\n       148.48739496, 148.99159664, 149.49579832, 150.        ])},\n             return_train_score=True, scoring='neg_mean_squared_error',\n             verbose=2)",
      "text/html": "<style>#sk-container-id-6 {color: black;background-color: white;}#sk-container-id-6 pre{padding: 0;}#sk-container-id-6 div.sk-toggleable {background-color: white;}#sk-container-id-6 label.sk-toggleable__label {cursor: pointer;display: block;width: 100%;margin-bottom: 0;padding: 0.3em;box-sizing: border-box;text-align: center;}#sk-container-id-6 label.sk-toggleable__label-arrow:before {content: \"▸\";float: left;margin-right: 0.25em;color: #696969;}#sk-container-id-6 label.sk-toggleable__label-arrow:hover:before {color: black;}#sk-container-id-6 div.sk-estimator:hover label.sk-toggleable__label-arrow:before {color: black;}#sk-container-id-6 div.sk-toggleable__content {max-height: 0;max-width: 0;overflow: hidden;text-align: left;background-color: #f0f8ff;}#sk-container-id-6 div.sk-toggleable__content pre {margin: 0.2em;color: black;border-radius: 0.25em;background-color: #f0f8ff;}#sk-container-id-6 input.sk-toggleable__control:checked~div.sk-toggleable__content {max-height: 200px;max-width: 100%;overflow: auto;}#sk-container-id-6 input.sk-toggleable__control:checked~label.sk-toggleable__label-arrow:before {content: \"▾\";}#sk-container-id-6 div.sk-estimator input.sk-toggleable__control:checked~label.sk-toggleable__label {background-color: #d4ebff;}#sk-container-id-6 div.sk-label input.sk-toggleable__control:checked~label.sk-toggleable__label {background-color: #d4ebff;}#sk-container-id-6 input.sk-hidden--visually {border: 0;clip: rect(1px 1px 1px 1px);clip: rect(1px, 1px, 1px, 1px);height: 1px;margin: -1px;overflow: hidden;padding: 0;position: absolute;width: 1px;}#sk-container-id-6 div.sk-estimator {font-family: monospace;background-color: #f0f8ff;border: 1px dotted black;border-radius: 0.25em;box-sizing: border-box;margin-bottom: 0.5em;}#sk-container-id-6 div.sk-estimator:hover {background-color: #d4ebff;}#sk-container-id-6 div.sk-parallel-item::after {content: \"\";width: 100%;border-bottom: 1px solid gray;flex-grow: 1;}#sk-container-id-6 div.sk-label:hover label.sk-toggleable__label {background-color: #d4ebff;}#sk-container-id-6 div.sk-serial::before {content: \"\";position: absolute;border-left: 1px solid gray;box-sizing: border-box;top: 0;bottom: 0;left: 50%;z-index: 0;}#sk-container-id-6 div.sk-serial {display: flex;flex-direction: column;align-items: center;background-color: white;padding-right: 0.2em;padding-left: 0.2em;position: relative;}#sk-container-id-6 div.sk-item {position: relative;z-index: 1;}#sk-container-id-6 div.sk-parallel {display: flex;align-items: stretch;justify-content: center;background-color: white;position: relative;}#sk-container-id-6 div.sk-item::before, #sk-container-id-6 div.sk-parallel-item::before {content: \"\";position: absolute;border-left: 1px solid gray;box-sizing: border-box;top: 0;bottom: 0;left: 50%;z-index: -1;}#sk-container-id-6 div.sk-parallel-item {display: flex;flex-direction: column;z-index: 1;position: relative;background-color: white;}#sk-container-id-6 div.sk-parallel-item:first-child::after {align-self: flex-end;width: 50%;}#sk-container-id-6 div.sk-parallel-item:last-child::after {align-self: flex-start;width: 50%;}#sk-container-id-6 div.sk-parallel-item:only-child::after {width: 0;}#sk-container-id-6 div.sk-dashed-wrapped {border: 1px dashed gray;margin: 0 0.4em 0.5em 0.4em;box-sizing: border-box;padding-bottom: 0.4em;background-color: white;}#sk-container-id-6 div.sk-label label {font-family: monospace;font-weight: bold;display: inline-block;line-height: 1.2em;}#sk-container-id-6 div.sk-label-container {text-align: center;}#sk-container-id-6 div.sk-container {/* jupyter's `normalize.less` sets `[hidden] { display: none; }` but bootstrap.min.css set `[hidden] { display: none !important; }` so we also need the `!important` here to be able to override the default hidden behavior on the sphinx rendered scikit-learn.org. See: https://github.com/scikit-learn/scikit-learn/issues/21755 */display: inline-block !important;position: relative;}#sk-container-id-6 div.sk-text-repr-fallback {display: none;}</style><div id=\"sk-container-id-6\" class=\"sk-top-container\"><div class=\"sk-text-repr-fallback\"><pre>GridSearchCV(cv=KFold(n_splits=5, random_state=0, shuffle=True),\n             estimator=LinearSVR(max_iter=10000, random_state=0), n_jobs=-1,\n             param_grid={&#x27;C&#x27;: array([ 90.        ,  90.50420168,  91.00840336,  91.51260504,\n        92.01680672,  92.5210084 ,  93.02521008,  93.52941176,\n        94.03361345,  94.53781513,  95.04201681,  95.54621849,\n        96.05042017,  96.55462185,  97.05882353,  97.56302521,\n        98.06722689,  98.571428...\n       138.40336134, 138.90756303, 139.41176471, 139.91596639,\n       140.42016807, 140.92436975, 141.42857143, 141.93277311,\n       142.43697479, 142.94117647, 143.44537815, 143.94957983,\n       144.45378151, 144.95798319, 145.46218487, 145.96638655,\n       146.47058824, 146.97478992, 147.4789916 , 147.98319328,\n       148.48739496, 148.99159664, 149.49579832, 150.        ])},\n             return_train_score=True, scoring=&#x27;neg_mean_squared_error&#x27;,\n             verbose=2)</pre><b>In a Jupyter environment, please rerun this cell to show the HTML representation or trust the notebook. <br />On GitHub, the HTML representation is unable to render, please try loading this page with nbviewer.org.</b></div><div class=\"sk-container\" hidden><div class=\"sk-item sk-dashed-wrapped\"><div class=\"sk-label-container\"><div class=\"sk-label sk-toggleable\"><input class=\"sk-toggleable__control sk-hidden--visually\" id=\"sk-estimator-id-16\" type=\"checkbox\" ><label for=\"sk-estimator-id-16\" class=\"sk-toggleable__label sk-toggleable__label-arrow\">GridSearchCV</label><div class=\"sk-toggleable__content\"><pre>GridSearchCV(cv=KFold(n_splits=5, random_state=0, shuffle=True),\n             estimator=LinearSVR(max_iter=10000, random_state=0), n_jobs=-1,\n             param_grid={&#x27;C&#x27;: array([ 90.        ,  90.50420168,  91.00840336,  91.51260504,\n        92.01680672,  92.5210084 ,  93.02521008,  93.52941176,\n        94.03361345,  94.53781513,  95.04201681,  95.54621849,\n        96.05042017,  96.55462185,  97.05882353,  97.56302521,\n        98.06722689,  98.571428...\n       138.40336134, 138.90756303, 139.41176471, 139.91596639,\n       140.42016807, 140.92436975, 141.42857143, 141.93277311,\n       142.43697479, 142.94117647, 143.44537815, 143.94957983,\n       144.45378151, 144.95798319, 145.46218487, 145.96638655,\n       146.47058824, 146.97478992, 147.4789916 , 147.98319328,\n       148.48739496, 148.99159664, 149.49579832, 150.        ])},\n             return_train_score=True, scoring=&#x27;neg_mean_squared_error&#x27;,\n             verbose=2)</pre></div></div></div><div class=\"sk-parallel\"><div class=\"sk-parallel-item\"><div class=\"sk-item\"><div class=\"sk-label-container\"><div class=\"sk-label sk-toggleable\"><input class=\"sk-toggleable__control sk-hidden--visually\" id=\"sk-estimator-id-17\" type=\"checkbox\" ><label for=\"sk-estimator-id-17\" class=\"sk-toggleable__label sk-toggleable__label-arrow\">estimator: LinearSVR</label><div class=\"sk-toggleable__content\"><pre>LinearSVR(max_iter=10000, random_state=0)</pre></div></div></div><div class=\"sk-serial\"><div class=\"sk-item\"><div class=\"sk-estimator sk-toggleable\"><input class=\"sk-toggleable__control sk-hidden--visually\" id=\"sk-estimator-id-18\" type=\"checkbox\" ><label for=\"sk-estimator-id-18\" class=\"sk-toggleable__label sk-toggleable__label-arrow\">LinearSVR</label><div class=\"sk-toggleable__content\"><pre>LinearSVR(max_iter=10000, random_state=0)</pre></div></div></div></div></div></div></div></div></div></div>"
     },
     "execution_count": 41,
     "metadata": {},
     "output_type": "execute_result"
    }
   ],
   "source": [
    "clf_linear_svr = LinearSVR(loss=\"epsilon_insensitive\", max_iter=10000, random_state=0)\n",
    "folds = KFold(n_splits=5, shuffle=True, random_state=0)\n",
    "hyper_params = {\"C\": np.linspace(90, 150, num=120)}\n",
    "\n",
    "model = GridSearchCV(\n",
    "    estimator=clf_linear_svr,\n",
    "    param_grid=hyper_params,\n",
    "    scoring=\"neg_mean_squared_error\",\n",
    "    cv=folds,\n",
    "    verbose=2,\n",
    "    return_train_score=True,\n",
    "    n_jobs=-1,\n",
    ")\n",
    "model.fit(X_train, y_train)"
   ]
  },
  {
   "cell_type": "code",
   "execution_count": 43,
   "metadata": {
    "collapsed": false
   },
   "outputs": [
    {
     "data": {
      "text/plain": "{'C': 107.64705882352942}"
     },
     "execution_count": 43,
     "metadata": {},
     "output_type": "execute_result"
    }
   ],
   "source": [
    "model.best_params_"
   ]
  },
  {
   "cell_type": "code",
   "execution_count": 44,
   "metadata": {
    "collapsed": false
   },
   "outputs": [
    {
     "data": {
      "text/plain": "0.44618034018281366"
     },
     "execution_count": 44,
     "metadata": {},
     "output_type": "execute_result"
    }
   ],
   "source": [
    "y_pred = model.predict(X_test)\n",
    "\n",
    "mean_absolute_error(y_test, y_pred)"
   ]
  },
  {
   "cell_type": "code",
   "execution_count": 45,
   "metadata": {
    "collapsed": false
   },
   "outputs": [
    {
     "data": {
      "text/plain": "0.5126827317161153"
     },
     "execution_count": 45,
     "metadata": {},
     "output_type": "execute_result"
    }
   ],
   "source": [
    "mean_squared_error(y_test, y_pred)"
   ]
  },
  {
   "cell_type": "code",
   "execution_count": 9,
   "metadata": {
    "collapsed": false
   },
   "outputs": [
    {
     "name": "stdout",
     "output_type": "stream",
     "text": [
      "==== linear_regression ====\n",
      "\t--> train\n",
      "\t\t--> rmse: 0.5004325629728289\n",
      "\t\t--> mse: 0.25043275008355437\n",
      "\t\t--> mae: 0.3499345034317349\n",
      "\t--> test\n",
      "\t\t--> rmse: 0.8119215019113485\n",
      "\t\t--> mse: 0.6592165252659798\n",
      "\t\t--> mae: 0.4872711651826509\n",
      "\n",
      "==== linear_regression_ridge ====\n",
      "\t--> train\n",
      "\t\t--> rmse: 0.5011735233513618\n",
      "\t\t--> mse: 0.251174900508418\n",
      "\t\t--> mae: 0.349536391320656\n",
      "\t--> test\n",
      "\t\t--> rmse: 0.81255791469997\n",
      "\t\t--> mse: 0.6602503647415636\n",
      "\t\t--> mae: 0.48108924910340406\n",
      "\n",
      "==== linear_regression_lasso ====\n",
      "\t--> train\n",
      "\t\t--> rmse: 0.5314264520482728\n",
      "\t\t--> mse: 0.28241407393661516\n",
      "\t\t--> mae: 0.36404349999218777\n",
      "\t--> test\n",
      "\t\t--> rmse: 0.824181797001593\n",
      "\t\t--> mse: 0.679275634508775\n",
      "\t\t--> mae: 0.4616051509633608\n",
      "\n",
      "Fitting 5 folds for each of 100 candidates, totalling 500 fits\n",
      "==== lad_regression ====\n",
      "\t--> train\n",
      "\t\t--> rmse: 0.5320593836402999\n",
      "\t\t--> mse: 0.2830871877196958\n",
      "\t\t--> mae: 0.3429493248909897\n",
      "\t--> test\n",
      "\t\t--> rmse: 0.7581056908889712\n",
      "\t\t--> mse: 0.5747242385582444\n",
      "\t\t--> mae: 0.4444084558174069\n",
      "\n",
      "Fitting 5 folds for each of 100 candidates, totalling 500 fits\n",
      "==== huber_regression ====\n",
      "\t--> train\n",
      "\t\t--> rmse: 0.5294729368492895\n",
      "\t\t--> mse: 0.2803415908558118\n",
      "\t\t--> mae: 0.3391303990643344\n",
      "\t--> test\n",
      "\t\t--> rmse: 0.7579568426133575\n",
      "\t\t--> mse: 0.5744985752644101\n",
      "\t\t--> mae: 0.44634803965435005\n",
      "\n",
      "Fitting 5 folds for each of 120 candidates, totalling 600 fits\n",
      "==== linear_svm ====\n",
      "\t--> train\n",
      "\t\t--> rmse: 0.5327806584864551\n",
      "\t\t--> mse: 0.2838552300572607\n",
      "\t\t--> mae: 0.33527950495445247\n",
      "\t--> test\n",
      "\t\t--> rmse: 0.716018667156182\n",
      "\t\t--> mse: 0.5126827317161153\n",
      "\t\t--> mae: 0.44618034018281366\n",
      "\n"
     ]
    },
    {
     "name": "stderr",
     "output_type": "stream",
     "text": [
      "C:\\Users\\jolka\\OneDrive\\Dokumenty\\mgr\\Predictive-ML-in-TTRPG-game-design\\venv\\lib\\site-packages\\sklearn\\svm\\_base.py:1244: ConvergenceWarning: Liblinear failed to converge, increase the number of iterations.\n",
      "  warnings.warn(\n"
     ]
    }
   ],
   "source": [
    "from training.train_and_evaluate_models import train_and_evaluate_models\n",
    "\n",
    "results = train_and_evaluate_models(\n",
    "    [\n",
    "        \"linear_regression\",\n",
    "        \"linear_regression_ridge\",\n",
    "        \"linear_regression_lasso\",\n",
    "        \"lad_regression\",\n",
    "        \"huber_regression\",\n",
    "        \"linear_svm\",\n",
    "    ],\n",
    "    X_train,\n",
    "    y_train,\n",
    "    X_test,\n",
    "    y_test,\n",
    ")"
   ]
  },
  {
   "cell_type": "code",
   "execution_count": 11,
   "outputs": [
    {
     "data": {
      "text/plain": "{'linear_regression': {'train': {'rmse': 0.5004325629728289,\n   'mse': 0.25043275008355437,\n   'mae': 0.3499345034317349},\n  'test': {'rmse': 0.8119215019113485,\n   'mse': 0.6592165252659798,\n   'mae': 0.4872711651826509}},\n 'linear_regression_ridge': {'train': {'rmse': 0.5011735233513618,\n   'mse': 0.251174900508418,\n   'mae': 0.349536391320656},\n  'test': {'rmse': 0.81255791469997,\n   'mse': 0.6602503647415636,\n   'mae': 0.48108924910340406}},\n 'linear_regression_lasso': {'train': {'rmse': 0.5314264520482728,\n   'mse': 0.28241407393661516,\n   'mae': 0.36404349999218777},\n  'test': {'rmse': 0.824181797001593,\n   'mse': 0.679275634508775,\n   'mae': 0.4616051509633608}},\n 'lad_regression': {'train': {'rmse': 0.5320593836402999,\n   'mse': 0.2830871877196958,\n   'mae': 0.3429493248909897},\n  'test': {'rmse': 0.7581056908889712,\n   'mse': 0.5747242385582444,\n   'mae': 0.4444084558174069}},\n 'huber_regression': {'train': {'rmse': 0.5294729368492895,\n   'mse': 0.2803415908558118,\n   'mae': 0.3391303990643344},\n  'test': {'rmse': 0.7579568426133575,\n   'mse': 0.5744985752644101,\n   'mae': 0.44634803965435005}},\n 'linear_svm': {'train': {'rmse': 0.5327806584864551,\n   'mse': 0.2838552300572607,\n   'mae': 0.33527950495445247},\n  'test': {'rmse': 0.716018667156182,\n   'mse': 0.5126827317161153,\n   'mae': 0.44618034018281366}}}"
     },
     "execution_count": 11,
     "metadata": {},
     "output_type": "execute_result"
    }
   ],
   "source": [
    "results"
   ],
   "metadata": {
    "collapsed": false
   }
  },
  {
   "cell_type": "code",
   "execution_count": 17,
   "outputs": [
    {
     "data": {
      "text/plain": "<Figure size 640x480 with 6 Axes>",
      "image/png": "[encoded data removed]"
     },
     "metadata": {},
     "output_type": "display_data"
    }
   ],
   "source": [
    "from training.results import plot_results\n",
    "\n",
    "plot_results(results, measure_types=[\"mae\", \"rmse\", \"mse\"])"
   ],
   "metadata": {
    "collapsed": false
   }
  },
  {
   "cell_type": "code",
   "execution_count": null,
   "outputs": [],
   "source": [],
   "metadata": {
    "collapsed": false
   }
  }
 ],
 "metadata": {
  "kernelspec": {
   "display_name": "Python 3",
   "language": "python",
   "name": "python3"
  },
  "language_info": {
   "codemirror_mode": {
    "name": "ipython",
    "version": 3
   },
   "file_extension": ".py",
   "mimetype": "text/x-python",
   "name": "python",
   "nbconvert_exporter": "python",
   "pygments_lexer": "ipython3",
   "version": "3.10.8"
  }
 },
 "nbformat": 4,
 "nbformat_minor": 0
}
