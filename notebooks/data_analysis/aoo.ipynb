{
 "cells": [
  {
   "cell_type": "code",
   "execution_count": 1,
   "metadata": {
    "collapsed": true
   },
   "outputs": [
    {
     "data": {
      "text/plain": "                _id                                       img  \\\n0  gDMPUL0UiOHrUUd3  systems/pf2e/icons/default-icons/npc.svg   \n1  keCgklXcy4HZgQIL  systems/pf2e/icons/default-icons/npc.svg   \n2  AQwxOoYBwDUAwvfh  systems/pf2e/icons/default-icons/npc.svg   \n3  irrXrWxJ0LYSUCQB  systems/pf2e/icons/default-icons/npc.svg   \n4  Dp6dq9Jd0TanufdU  systems/pf2e/icons/default-icons/npc.svg   \n\n                                               items  \\\n0  [{'_id': 'bthV65bmBiFxafJ6', 'img': 'systems/p...   \n1  [{'_id': '3RchvgPIdNc2KUu9', 'img': 'systems/p...   \n2  [{'_id': '0lokdD3KSOzhNMOi', 'img': 'systems/p...   \n3  [{'_id': 'cndA0H7XPHDhDL2I', 'img': 'systems/p...   \n4  [{'_id': 'Q3WxbSH9pxgZ7vKf', 'img': 'systems/p...   \n\n                               name type  system.abilities.cha.mod  \\\n0                  Aasimar Redeemer  npc                         3   \n1                  Adamantine Golem  npc                        -5   \n2  Adult Black Dragon (Spellcaster)  npc                         3   \n3                Adult Black Dragon  npc                         3   \n4   Adult Blue Dragon (Spellcaster)  npc                         5   \n\n   system.abilities.con.mod  system.abilities.dex.mod  \\\n0                         3                         1   \n1                         9                        -1   \n2                         5                         3   \n3                         5                         3   \n4                         4                         3   \n\n   system.abilities.int.mod  system.abilities.str.mod  ...  \\\n0                         0                         4  ...   \n1                        -5                         9  ...   \n2                         2                         7  ...   \n3                         2                         7  ...   \n4                         4                         6  ...   \n\n                         system.traits.value  \\\n0          [good, human, humanoid, nephilim]   \n1               [construct, golem, mindless]   \n2  [acid, amphibious, chaotic, dragon, evil]   \n3  [acid, amphibious, chaotic, dragon, evil]   \n4        [dragon, electricity, evil, lawful]   \n\n                        system.attributes.immunities  \\\n0                                                NaN   \n1                                 [{'type': 'fire'}]   \n2  [{'type': 'acid'}, {'type': 'paralyzed'}, {'ty...   \n3  [{'type': 'acid'}, {'type': 'paralyzed'}, {'ty...   \n4  [{'type': 'electricity'}, {'type': 'paralyzed'...   \n\n                       system.attributes.resistances prototypeToken.name  \\\n0                                                NaN                 NaN   \n1  [{'exceptions': ['vorpal-adamantine'], 'type':...                 NaN   \n2                                                NaN  Adult Black Dragon   \n3                                                NaN                 NaN   \n4                                                NaN   Adult Blue Dragon   \n\n  system.attributes.speed.details  system.attributes.weaknesses  \\\n0                             NaN                           NaN   \n1                             NaN                           NaN   \n2                             NaN                           NaN   \n3                             NaN                           NaN   \n4                             NaN                           NaN   \n\n   system.attributes.hardness.value  system.spellcasting.rituals.dc  \\\n0                               NaN                             NaN   \n1                               NaN                             NaN   \n2                               NaN                             NaN   \n3                               NaN                             NaN   \n4                               NaN                             NaN   \n\n  system.perception.vision  system.attributes.adjustment  \n0                      NaN                           NaN  \n1                      NaN                           NaN  \n2                      NaN                           NaN  \n3                      NaN                           NaN  \n4                      NaN                           NaN  \n\n[5 rows x 53 columns]",
      "text/html": "<div>\n<style scoped>\n    .dataframe tbody tr th:only-of-type {\n        vertical-align: middle;\n    }\n\n    .dataframe tbody tr th {\n        vertical-align: top;\n    }\n\n    .dataframe thead th {\n        text-align: right;\n    }\n</style>\n<table border=\"1\" class=\"dataframe\">\n  <thead>\n    <tr style=\"text-align: right;\">\n      <th></th>\n      <th>_id</th>\n      <th>img</th>\n      <th>items</th>\n      <th>name</th>\n      <th>type</th>\n      <th>system.abilities.cha.mod</th>\n      <th>system.abilities.con.mod</th>\n      <th>system.abilities.dex.mod</th>\n      <th>system.abilities.int.mod</th>\n      <th>system.abilities.str.mod</th>\n      <th>...</th>\n      <th>system.traits.value</th>\n      <th>system.attributes.immunities</th>\n      <th>system.attributes.resistances</th>\n      <th>prototypeToken.name</th>\n      <th>system.attributes.speed.details</th>\n      <th>system.attributes.weaknesses</th>\n      <th>system.attributes.hardness.value</th>\n      <th>system.spellcasting.rituals.dc</th>\n      <th>system.perception.vision</th>\n      <th>system.attributes.adjustment</th>\n    </tr>\n  </thead>\n  <tbody>\n    <tr>\n      <th>0</th>\n      <td>gDMPUL0UiOHrUUd3</td>\n      <td>systems/pf2e/icons/default-icons/npc.svg</td>\n      <td>[{'_id': 'bthV65bmBiFxafJ6', 'img': 'systems/p...</td>\n      <td>Aasimar Redeemer</td>\n      <td>npc</td>\n      <td>3</td>\n      <td>3</td>\n      <td>1</td>\n      <td>0</td>\n      <td>4</td>\n      <td>...</td>\n      <td>[good, human, humanoid, nephilim]</td>\n      <td>NaN</td>\n      <td>NaN</td>\n      <td>NaN</td>\n      <td>NaN</td>\n      <td>NaN</td>\n      <td>NaN</td>\n      <td>NaN</td>\n      <td>NaN</td>\n      <td>NaN</td>\n    </tr>\n    <tr>\n      <th>1</th>\n      <td>keCgklXcy4HZgQIL</td>\n      <td>systems/pf2e/icons/default-icons/npc.svg</td>\n      <td>[{'_id': '3RchvgPIdNc2KUu9', 'img': 'systems/p...</td>\n      <td>Adamantine Golem</td>\n      <td>npc</td>\n      <td>-5</td>\n      <td>9</td>\n      <td>-1</td>\n      <td>-5</td>\n      <td>9</td>\n      <td>...</td>\n      <td>[construct, golem, mindless]</td>\n      <td>[{'type': 'fire'}]</td>\n      <td>[{'exceptions': ['vorpal-adamantine'], 'type':...</td>\n      <td>NaN</td>\n      <td>NaN</td>\n      <td>NaN</td>\n      <td>NaN</td>\n      <td>NaN</td>\n      <td>NaN</td>\n      <td>NaN</td>\n    </tr>\n    <tr>\n      <th>2</th>\n      <td>AQwxOoYBwDUAwvfh</td>\n      <td>systems/pf2e/icons/default-icons/npc.svg</td>\n      <td>[{'_id': '0lokdD3KSOzhNMOi', 'img': 'systems/p...</td>\n      <td>Adult Black Dragon (Spellcaster)</td>\n      <td>npc</td>\n      <td>3</td>\n      <td>5</td>\n      <td>3</td>\n      <td>2</td>\n      <td>7</td>\n      <td>...</td>\n      <td>[acid, amphibious, chaotic, dragon, evil]</td>\n      <td>[{'type': 'acid'}, {'type': 'paralyzed'}, {'ty...</td>\n      <td>NaN</td>\n      <td>Adult Black Dragon</td>\n      <td>NaN</td>\n      <td>NaN</td>\n      <td>NaN</td>\n      <td>NaN</td>\n      <td>NaN</td>\n      <td>NaN</td>\n    </tr>\n    <tr>\n      <th>3</th>\n      <td>irrXrWxJ0LYSUCQB</td>\n      <td>systems/pf2e/icons/default-icons/npc.svg</td>\n      <td>[{'_id': 'cndA0H7XPHDhDL2I', 'img': 'systems/p...</td>\n      <td>Adult Black Dragon</td>\n      <td>npc</td>\n      <td>3</td>\n      <td>5</td>\n      <td>3</td>\n      <td>2</td>\n      <td>7</td>\n      <td>...</td>\n      <td>[acid, amphibious, chaotic, dragon, evil]</td>\n      <td>[{'type': 'acid'}, {'type': 'paralyzed'}, {'ty...</td>\n      <td>NaN</td>\n      <td>NaN</td>\n      <td>NaN</td>\n      <td>NaN</td>\n      <td>NaN</td>\n      <td>NaN</td>\n      <td>NaN</td>\n      <td>NaN</td>\n    </tr>\n    <tr>\n      <th>4</th>\n      <td>Dp6dq9Jd0TanufdU</td>\n      <td>systems/pf2e/icons/default-icons/npc.svg</td>\n      <td>[{'_id': 'Q3WxbSH9pxgZ7vKf', 'img': 'systems/p...</td>\n      <td>Adult Blue Dragon (Spellcaster)</td>\n      <td>npc</td>\n      <td>5</td>\n      <td>4</td>\n      <td>3</td>\n      <td>4</td>\n      <td>6</td>\n      <td>...</td>\n      <td>[dragon, electricity, evil, lawful]</td>\n      <td>[{'type': 'electricity'}, {'type': 'paralyzed'...</td>\n      <td>NaN</td>\n      <td>Adult Blue Dragon</td>\n      <td>NaN</td>\n      <td>NaN</td>\n      <td>NaN</td>\n      <td>NaN</td>\n      <td>NaN</td>\n      <td>NaN</td>\n    </tr>\n  </tbody>\n</table>\n<p>5 rows × 53 columns</p>\n</div>"
     },
     "execution_count": 1,
     "metadata": {},
     "output_type": "execute_result"
    }
   ],
   "source": [
    "from training.creating_dataset import load_data\n",
    "\n",
    "\n",
    "bestiaries = load_data(\n",
    "    [f\"../../pathfinder_2e_remaster_data/pathfinder-bestiary.json\"],\n",
    ")\n",
    "\n",
    "bestiaries.head()"
   ]
  },
  {
   "cell_type": "code",
   "execution_count": 2,
   "outputs": [],
   "source": [
    "orc_warrior = bestiaries[bestiaries[\"name\"] == \"Orc Warrior\"]"
   ],
   "metadata": {
    "collapsed": false
   }
  },
  {
   "cell_type": "code",
   "execution_count": 3,
   "outputs": [
    {
     "data": {
      "text/plain": "                  _id                                       img  \\\n310  iA9lbwH0qROTjCva  systems/pf2e/icons/default-icons/npc.svg   \n\n                                                 items         name type  \\\n310  [{'_id': '7N81J13tH9opZBPI', 'flags': {'core':...  Orc Warrior  npc   \n\n     system.abilities.cha.mod  system.abilities.con.mod  \\\n310                         0                         3   \n\n     system.abilities.dex.mod  system.abilities.int.mod  \\\n310                         2                        -1   \n\n     system.abilities.str.mod  ...             system.traits.value  \\\n310                         4  ...  [chaotic, evil, humanoid, orc]   \n\n    system.attributes.immunities  system.attributes.resistances  \\\n310                          NaN                            NaN   \n\n    prototypeToken.name system.attributes.speed.details  \\\n310                 NaN                             NaN   \n\n     system.attributes.weaknesses  system.attributes.hardness.value  \\\n310                           NaN                               NaN   \n\n     system.spellcasting.rituals.dc system.perception.vision  \\\n310                             NaN                      NaN   \n\n     system.attributes.adjustment  \n310                           NaN  \n\n[1 rows x 53 columns]",
      "text/html": "<div>\n<style scoped>\n    .dataframe tbody tr th:only-of-type {\n        vertical-align: middle;\n    }\n\n    .dataframe tbody tr th {\n        vertical-align: top;\n    }\n\n    .dataframe thead th {\n        text-align: right;\n    }\n</style>\n<table border=\"1\" class=\"dataframe\">\n  <thead>\n    <tr style=\"text-align: right;\">\n      <th></th>\n      <th>_id</th>\n      <th>img</th>\n      <th>items</th>\n      <th>name</th>\n      <th>type</th>\n      <th>system.abilities.cha.mod</th>\n      <th>system.abilities.con.mod</th>\n      <th>system.abilities.dex.mod</th>\n      <th>system.abilities.int.mod</th>\n      <th>system.abilities.str.mod</th>\n      <th>...</th>\n      <th>system.traits.value</th>\n      <th>system.attributes.immunities</th>\n      <th>system.attributes.resistances</th>\n      <th>prototypeToken.name</th>\n      <th>system.attributes.speed.details</th>\n      <th>system.attributes.weaknesses</th>\n      <th>system.attributes.hardness.value</th>\n      <th>system.spellcasting.rituals.dc</th>\n      <th>system.perception.vision</th>\n      <th>system.attributes.adjustment</th>\n    </tr>\n  </thead>\n  <tbody>\n    <tr>\n      <th>310</th>\n      <td>iA9lbwH0qROTjCva</td>\n      <td>systems/pf2e/icons/default-icons/npc.svg</td>\n      <td>[{'_id': '7N81J13tH9opZBPI', 'flags': {'core':...</td>\n      <td>Orc Warrior</td>\n      <td>npc</td>\n      <td>0</td>\n      <td>3</td>\n      <td>2</td>\n      <td>-1</td>\n      <td>4</td>\n      <td>...</td>\n      <td>[chaotic, evil, humanoid, orc]</td>\n      <td>NaN</td>\n      <td>NaN</td>\n      <td>NaN</td>\n      <td>NaN</td>\n      <td>NaN</td>\n      <td>NaN</td>\n      <td>NaN</td>\n      <td>NaN</td>\n      <td>NaN</td>\n    </tr>\n  </tbody>\n</table>\n<p>1 rows × 53 columns</p>\n</div>"
     },
     "execution_count": 3,
     "metadata": {},
     "output_type": "execute_result"
    }
   ],
   "source": [
    "orc_warrior"
   ],
   "metadata": {
    "collapsed": false
   }
  },
  {
   "cell_type": "code",
   "execution_count": 4,
   "outputs": [],
   "source": [
    "import pandas as pd\n",
    "\n",
    "\n",
    "items_data = []\n",
    "for _, val in orc_warrior[\"items\"].iteritems():\n",
    "    items_data += val\n",
    "\n",
    "items = pd.DataFrame.from_dict(data=items_data)"
   ],
   "metadata": {
    "collapsed": false
   }
  },
  {
   "cell_type": "code",
   "execution_count": 5,
   "outputs": [
    {
     "data": {
      "text/plain": "                _id                                              flags  \\\n0  7N81J13tH9opZBPI  {'core': {'sourceId': 'Compendium.pf2e.equipme...   \n1  JHfMmaXNeMW7jIqG  {'core': {'sourceId': 'Compendium.pf2e.equipme...   \n2  lomadIB0iDyESztp  {'core': {'sourceId': 'Compendium.pf2e.equipme...   \n3  4D2PeMPJfrwdbJ3e  {'core': {'sourceId': 'Compendium.pf2e.equipme...   \n4  mHS7Uj0GKGKhQiNo     {'pf2e': {'linkedWeapon': 'JHfMmaXNeMW7jIqG'}}   \n\n                                                 img              name  \\\n0  systems/pf2e/icons/equipment/weapons/javelin.webp           Javelin   \n1  systems/pf2e/icons/equipment/weapons/orc-necks...  Orc Necksplitter   \n2       icons/weapons/swords/sword-guard-purple.webp        Shortsword   \n3  icons/equipment/chest/breastplate-collared-ste...       Breastplate   \n4         systems/pf2e/icons/default-icons/melee.svg  Orc Necksplitter   \n\n     sort                                             system    type  \n0  100000  {'baseItem': 'javelin', 'bonus': {'value': 0},...  weapon  \n1  200000  {'baseItem': 'orc-necksplitter', 'bonus': {'va...  weapon  \n2  300000  {'baseItem': 'shortsword', 'bonus': {'value': ...  weapon  \n3  400000  {'acBonus': 4, 'baseItem': 'breastplate', 'bul...   armor  \n4  500000  {'attack': {'value': ''}, 'attackEffects': {'c...   melee  ",
      "text/html": "<div>\n<style scoped>\n    .dataframe tbody tr th:only-of-type {\n        vertical-align: middle;\n    }\n\n    .dataframe tbody tr th {\n        vertical-align: top;\n    }\n\n    .dataframe thead th {\n        text-align: right;\n    }\n</style>\n<table border=\"1\" class=\"dataframe\">\n  <thead>\n    <tr style=\"text-align: right;\">\n      <th></th>\n      <th>_id</th>\n      <th>flags</th>\n      <th>img</th>\n      <th>name</th>\n      <th>sort</th>\n      <th>system</th>\n      <th>type</th>\n    </tr>\n  </thead>\n  <tbody>\n    <tr>\n      <th>0</th>\n      <td>7N81J13tH9opZBPI</td>\n      <td>{'core': {'sourceId': 'Compendium.pf2e.equipme...</td>\n      <td>systems/pf2e/icons/equipment/weapons/javelin.webp</td>\n      <td>Javelin</td>\n      <td>100000</td>\n      <td>{'baseItem': 'javelin', 'bonus': {'value': 0},...</td>\n      <td>weapon</td>\n    </tr>\n    <tr>\n      <th>1</th>\n      <td>JHfMmaXNeMW7jIqG</td>\n      <td>{'core': {'sourceId': 'Compendium.pf2e.equipme...</td>\n      <td>systems/pf2e/icons/equipment/weapons/orc-necks...</td>\n      <td>Orc Necksplitter</td>\n      <td>200000</td>\n      <td>{'baseItem': 'orc-necksplitter', 'bonus': {'va...</td>\n      <td>weapon</td>\n    </tr>\n    <tr>\n      <th>2</th>\n      <td>lomadIB0iDyESztp</td>\n      <td>{'core': {'sourceId': 'Compendium.pf2e.equipme...</td>\n      <td>icons/weapons/swords/sword-guard-purple.webp</td>\n      <td>Shortsword</td>\n      <td>300000</td>\n      <td>{'baseItem': 'shortsword', 'bonus': {'value': ...</td>\n      <td>weapon</td>\n    </tr>\n    <tr>\n      <th>3</th>\n      <td>4D2PeMPJfrwdbJ3e</td>\n      <td>{'core': {'sourceId': 'Compendium.pf2e.equipme...</td>\n      <td>icons/equipment/chest/breastplate-collared-ste...</td>\n      <td>Breastplate</td>\n      <td>400000</td>\n      <td>{'acBonus': 4, 'baseItem': 'breastplate', 'bul...</td>\n      <td>armor</td>\n    </tr>\n    <tr>\n      <th>4</th>\n      <td>mHS7Uj0GKGKhQiNo</td>\n      <td>{'pf2e': {'linkedWeapon': 'JHfMmaXNeMW7jIqG'}}</td>\n      <td>systems/pf2e/icons/default-icons/melee.svg</td>\n      <td>Orc Necksplitter</td>\n      <td>500000</td>\n      <td>{'attack': {'value': ''}, 'attackEffects': {'c...</td>\n      <td>melee</td>\n    </tr>\n  </tbody>\n</table>\n</div>"
     },
     "execution_count": 5,
     "metadata": {},
     "output_type": "execute_result"
    }
   ],
   "source": [
    "items.head()"
   ],
   "metadata": {
    "collapsed": false
   }
  },
  {
   "cell_type": "code",
   "execution_count": 6,
   "outputs": [
    {
     "data": {
      "text/plain": "0                   Javelin\n1          Orc Necksplitter\n2                Shortsword\n3               Breastplate\n4          Orc Necksplitter\n5                Shortsword\n6                      Fist\n7                   Javelin\n8     Attack of Opportunity\n9                  Ferocity\n10                Athletics\n11             Intimidation\n12                 Survival\nName: name, dtype: object"
     },
     "execution_count": 6,
     "metadata": {},
     "output_type": "execute_result"
    }
   ],
   "source": [
    "items[\"name\"]"
   ],
   "metadata": {
    "collapsed": false
   }
  },
  {
   "cell_type": "code",
   "execution_count": 7,
   "outputs": [],
   "source": [
    "aoo = items[items[\"name\"] == \"Attack of Opportunity\"]"
   ],
   "metadata": {
    "collapsed": false
   }
  },
  {
   "cell_type": "code",
   "execution_count": 8,
   "outputs": [
    {
     "data": {
      "text/plain": "                _id                                              flags  \\\n8  AsGPSfdLJ7pQhwZZ  {'core': {'sourceId': 'Compendium.pf2e.bestiar...   \n\n                                        img                   name    sort  \\\n8  systems/pf2e/icons/actions/Reaction.webp  Attack of Opportunity  900000   \n\n                                              system    type  \n8  {'actionType': {'value': 'reaction'}, 'actions...  action  ",
      "text/html": "<div>\n<style scoped>\n    .dataframe tbody tr th:only-of-type {\n        vertical-align: middle;\n    }\n\n    .dataframe tbody tr th {\n        vertical-align: top;\n    }\n\n    .dataframe thead th {\n        text-align: right;\n    }\n</style>\n<table border=\"1\" class=\"dataframe\">\n  <thead>\n    <tr style=\"text-align: right;\">\n      <th></th>\n      <th>_id</th>\n      <th>flags</th>\n      <th>img</th>\n      <th>name</th>\n      <th>sort</th>\n      <th>system</th>\n      <th>type</th>\n    </tr>\n  </thead>\n  <tbody>\n    <tr>\n      <th>8</th>\n      <td>AsGPSfdLJ7pQhwZZ</td>\n      <td>{'core': {'sourceId': 'Compendium.pf2e.bestiar...</td>\n      <td>systems/pf2e/icons/actions/Reaction.webp</td>\n      <td>Attack of Opportunity</td>\n      <td>900000</td>\n      <td>{'actionType': {'value': 'reaction'}, 'actions...</td>\n      <td>action</td>\n    </tr>\n  </tbody>\n</table>\n</div>"
     },
     "execution_count": 8,
     "metadata": {},
     "output_type": "execute_result"
    }
   ],
   "source": [
    "aoo"
   ],
   "metadata": {
    "collapsed": false
   }
  },
  {
   "cell_type": "code",
   "execution_count": 11,
   "outputs": [],
   "source": [
    "from training.analysis_functions import unpack_column\n",
    "\n",
    "\n",
    "system = unpack_column(aoo, column_name=\"system\")"
   ],
   "metadata": {
    "collapsed": false
   }
  },
  {
   "cell_type": "code",
   "execution_count": 12,
   "outputs": [
    {
     "data": {
      "text/plain": "              actionType          actions   category  \\\n8  {'value': 'reaction'}  {'value': None}  defensive   \n\n                                         description  \\\n8  {'value': '<p>@Localize[PF2E.NPC.Abilities.Glo...   \n\n                                         publication rules  \\\n8  {'license': 'OGL', 'remaster': False, 'title':...    []   \n\n                    slug                             traits  \n8  attack-of-opportunity  {'rarity': 'common', 'value': []}  ",
      "text/html": "<div>\n<style scoped>\n    .dataframe tbody tr th:only-of-type {\n        vertical-align: middle;\n    }\n\n    .dataframe tbody tr th {\n        vertical-align: top;\n    }\n\n    .dataframe thead th {\n        text-align: right;\n    }\n</style>\n<table border=\"1\" class=\"dataframe\">\n  <thead>\n    <tr style=\"text-align: right;\">\n      <th></th>\n      <th>actionType</th>\n      <th>actions</th>\n      <th>category</th>\n      <th>description</th>\n      <th>publication</th>\n      <th>rules</th>\n      <th>slug</th>\n      <th>traits</th>\n    </tr>\n  </thead>\n  <tbody>\n    <tr>\n      <th>8</th>\n      <td>{'value': 'reaction'}</td>\n      <td>{'value': None}</td>\n      <td>defensive</td>\n      <td>{'value': '&lt;p&gt;@Localize[PF2E.NPC.Abilities.Glo...</td>\n      <td>{'license': 'OGL', 'remaster': False, 'title':...</td>\n      <td>[]</td>\n      <td>attack-of-opportunity</td>\n      <td>{'rarity': 'common', 'value': []}</td>\n    </tr>\n  </tbody>\n</table>\n</div>"
     },
     "execution_count": 12,
     "metadata": {},
     "output_type": "execute_result"
    }
   ],
   "source": [
    "system"
   ],
   "metadata": {
    "collapsed": false
   }
  },
  {
   "cell_type": "code",
   "execution_count": 21,
   "outputs": [],
   "source": [
    "def get_aoo(items_list: list[dict]):\n",
    "    reactions = [i[\"name\"] for i in items_list if i[\"name\"] == \"Attack of Opportunity\"]\n",
    "\n",
    "    return len(reactions)"
   ],
   "metadata": {
    "collapsed": false
   }
  },
  {
   "cell_type": "code",
   "execution_count": 22,
   "outputs": [
    {
     "data": {
      "text/plain": "310    1\nName: items, dtype: int64"
     },
     "execution_count": 22,
     "metadata": {},
     "output_type": "execute_result"
    }
   ],
   "source": [
    "orc_warrior[\"items\"].apply(lambda x: get_aoo(x))"
   ],
   "metadata": {
    "collapsed": false
   }
  },
  {
   "cell_type": "code",
   "execution_count": 23,
   "outputs": [],
   "source": [
    "bestiaries[\"aoo\"] = bestiaries[\"items\"].apply(lambda x: get_aoo(x))"
   ],
   "metadata": {
    "collapsed": false
   }
  },
  {
   "cell_type": "code",
   "execution_count": 26,
   "outputs": [
    {
     "data": {
      "text/plain": "50"
     },
     "execution_count": 26,
     "metadata": {},
     "output_type": "execute_result"
    }
   ],
   "source": [
    "bestiaries[\"aoo\"][bestiaries[\"aoo\"] > 0].size"
   ],
   "metadata": {
    "collapsed": false
   }
  },
  {
   "cell_type": "code",
   "execution_count": null,
   "outputs": [],
   "source": [],
   "metadata": {
    "collapsed": false
   }
  }
 ],
 "metadata": {
  "kernelspec": {
   "display_name": "Python 3",
   "language": "python",
   "name": "python3"
  },
  "language_info": {
   "codemirror_mode": {
    "name": "ipython",
    "version": 2
   },
   "file_extension": ".py",
   "mimetype": "text/x-python",
   "name": "python",
   "nbconvert_exporter": "python",
   "pygments_lexer": "ipython2",
   "version": "2.7.6"
  }
 },
 "nbformat": 4,
 "nbformat_minor": 0
}
