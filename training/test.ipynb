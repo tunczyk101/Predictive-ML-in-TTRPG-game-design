{
 "cells": [
  {
   "cell_type": "code",
   "execution_count": 1,
   "metadata": {
    "pycharm": {
     "is_executing": true
    }
   },
   "outputs": [],
   "source": [
    "import os\n",
    "\n",
    "import pandas as pd\n",
    "\n",
    "from dataset.creating_dataset import min_max_scale_data\n",
    "from dataset.splitting_dataset import split_dataframe\n",
    "from training.train_and_evaluate_models import train_and_evaluate_models\n",
    "\n",
    "\n",
    "PATH_TO_DATASET = os.path.join(\"..\", \"preprocessed_bestiaries\", \"bestiaries_basic.csv\")\n",
    "TEST_RESULT_FILE = os.path.join(\"results\", \"results_test_scenarios_probit.xlsx\")\n",
    "TRAIN_RESULT_FILE = os.path.join(\"results\", \"results_train_scenarios_probit.xlsx\")\n",
    "\n",
    "\n",
    "bestiaries = pd.read_csv(PATH_TO_DATASET, index_col=0)\n",
    "bestiaries = min_max_scale_data(bestiaries)\n",
    "\n",
    "X_train, X_test, y_train, y_test = split_dataframe(bestiaries)\n",
    "\n",
    "# results_test, results_train = train_and_evaluate_models(\n",
    "#     [\n",
    "#         # \"linear_regression\",\n",
    "#         # \"linear_regression_ridge\",\n",
    "#         # \"linear_regression_lasso\",\n",
    "#         # \"lad_regression\",\n",
    "#         # \"huber_regression\",\n",
    "#         # \"linear_svm\",\n",
    "#         # \"kernel_svm\",\n",
    "#         # \"knn\",\n",
    "#         # \"random_forest\",\n",
    "#         # \"lightgbm\",\n",
    "#         \"linear_ordinal_model_probit\",\n",
    "#         # \"linear_ordinal_model_logit\",\n",
    "#         # \"ordered_random_forest\",\n",
    "#         # \"logisticAT\",\n",
    "#         # \"logisticIT\",\n",
    "#     ],\n",
    "#     X_train,\n",
    "#     y_train,\n",
    "#     X_test,\n",
    "#     y_test,\n",
    "thresholds = ([[0.05 * i for i in range(1, 20)], [0.05 * i for i in range(5, 16)]],)\n",
    "#     save_files=(TRAIN_RESULT_FILE, TEST_RESULT_FILE),\n",
    "# )"
   ]
  },
  {
   "cell_type": "code",
   "execution_count": 8,
   "metadata": {
    "collapsed": false,
    "jupyter": {
     "outputs_hidden": false
    }
   },
   "outputs": [
    {
     "name": "stdout",
     "output_type": "stream",
     "text": [
      "Fitting 5 folds for each of 3 candidates, totalling 15 fits\n"
     ]
    },
    {
     "name": "stderr",
     "output_type": "stream",
     "text": [
      "C:\\Users\\jolka\\OneDrive\\Dokumenty\\mgr\\Predictive-ML-in-TTRPG-game-design\\venv\\lib\\site-packages\\sklearn\\model_selection\\_search.py:979: UserWarning: One or more of the test scores are non-finite: [nan nan nan]\n",
      "C:\\Users\\jolka\\OneDrive\\Dokumenty\\mgr\\Predictive-ML-in-TTRPG-game-design\\venv\\lib\\site-packages\\sklearn\\model_selection\\_search.py:979: UserWarning: One or more of the train scores are non-finite: [nan nan nan]\n",
      "C:\\Users\\jolka\\OneDrive\\Dokumenty\\mgr\\Predictive-ML-in-TTRPG-game-design\\venv\\lib\\site-packages\\statsmodels\\base\\model.py:595: HessianInversionWarning: Inverting hessian failed, no bse or cov_params available\n"
     ]
    }
   ],
   "source": [
    "from training.create_model import get_fitted_model\n",
    "\n",
    "\n",
    "model = get_fitted_model(\"linear_ordinal_model_logit\", X_train, y_train)"
   ]
  },
  {
   "cell_type": "code",
   "execution_count": 11,
   "metadata": {},
   "outputs": [
    {
     "data": {
      "text/plain": [
       "132      3\n",
       "215      4\n",
       "201      4\n",
       "125      2\n",
       "127      4\n",
       "        ..\n",
       "1326    13\n",
       "1327     0\n",
       "1329     5\n",
       "1480    13\n",
       "1349    19\n",
       "Length: 2973, dtype: int64"
      ]
     },
     "execution_count": 11,
     "metadata": {},
     "output_type": "execute_result"
    }
   ],
   "source": [
    "model.predict(X_train)"
   ]
  },
  {
   "cell_type": "code",
   "execution_count": 12,
   "metadata": {},
   "outputs": [
    {
     "data": {
      "text/plain": [
       "132      2\n",
       "215      3\n",
       "201      5\n",
       "125      2\n",
       "127      4\n",
       "        ..\n",
       "1326    13\n",
       "1327     1\n",
       "1329     6\n",
       "1480    13\n",
       "1349    20\n",
       "Name: level, Length: 2973, dtype: int64"
      ]
     },
     "execution_count": 12,
     "metadata": {},
     "output_type": "execute_result"
    }
   ],
   "source": [
    "y_train + 1"
   ]
  },
  {
   "cell_type": "code",
   "execution_count": 48,
   "metadata": {},
   "outputs": [],
   "source": [
    "from training.ordered_models import LinearOrdinalModel\n",
    "\n",
    "\n",
    "model = LinearOrdinalModel(offset=0.5)"
   ]
  },
  {
   "cell_type": "code",
   "execution_count": 49,
   "metadata": {},
   "outputs": [
    {
     "name": "stderr",
     "output_type": "stream",
     "text": [
      "C:\\Users\\jolka\\OneDrive\\Dokumenty\\mgr\\Predictive-ML-in-TTRPG-game-design\\venv\\lib\\site-packages\\statsmodels\\base\\model.py:595: HessianInversionWarning: Inverting hessian failed, no bse or cov_params available\n"
     ]
    }
   ],
   "source": [
    "model.fit(X_train, y_train + 1)"
   ]
  },
  {
   "cell_type": "code",
   "execution_count": 50,
   "metadata": {},
   "outputs": [
    {
     "data": {
      "text/plain": [
       "428      5\n",
       "429      3\n",
       "430      2\n",
       "431     10\n",
       "432      4\n",
       "        ..\n",
       "4201     2\n",
       "4202     0\n",
       "4203     2\n",
       "4204     0\n",
       "4205     2\n",
       "Length: 840, dtype: int64"
      ]
     },
     "execution_count": 50,
     "metadata": {},
     "output_type": "execute_result"
    }
   ],
   "source": [
    "model.predict(X_test)"
   ]
  },
  {
   "cell_type": "code",
   "execution_count": 46,
   "metadata": {},
   "outputs": [
    {
     "data": {
      "text/plain": [
       "428      6\n",
       "429      3\n",
       "430      2\n",
       "431     10\n",
       "432      4\n",
       "        ..\n",
       "4201     2\n",
       "4202     1\n",
       "4203     3\n",
       "4204     0\n",
       "4205     2\n",
       "Name: level, Length: 840, dtype: int64"
      ]
     },
     "execution_count": 46,
     "metadata": {},
     "output_type": "execute_result"
    }
   ],
   "source": [
    "y_test + 1"
   ]
  },
  {
   "cell_type": "code",
   "execution_count": 51,
   "metadata": {},
   "outputs": [
    {
     "data": {
      "text/plain": [
       "-190"
      ]
     },
     "execution_count": 51,
     "metadata": {},
     "output_type": "execute_result"
    }
   ],
   "source": [
    "# -254\n",
    "sum(model.predict(X_test) - (y_test + 1))"
   ]
  },
  {
   "cell_type": "code",
   "execution_count": 57,
   "metadata": {},
   "outputs": [
    {
     "data": {
      "text/plain": [
       "array([0.25, 0.35, 0.45, 0.55, 0.65, 0.75, 0.85, 0.95, 1.05, 1.15, 1.25])"
      ]
     },
     "execution_count": 57,
     "metadata": {},
     "output_type": "execute_result"
    }
   ],
   "source": [
    "import numpy as np\n",
    "\n",
    "np.linspace(0.25, 1.25, 11)"
   ]
  },
  {
   "cell_type": "code",
   "execution_count": null,
   "metadata": {},
   "outputs": [],
   "source": []
  }
 ],
 "metadata": {
  "kernelspec": {
   "display_name": "Python 3 (ipykernel)",
   "language": "python",
   "name": "python3"
  },
  "language_info": {
   "codemirror_mode": {
    "name": "ipython",
    "version": 3
   },
   "file_extension": ".py",
   "mimetype": "text/x-python",
   "name": "python",
   "nbconvert_exporter": "python",
   "pygments_lexer": "ipython3",
   "version": "3.10.8"
  }
 },
 "nbformat": 4,
 "nbformat_minor": 4
}
