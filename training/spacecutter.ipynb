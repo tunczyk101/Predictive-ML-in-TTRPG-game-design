{
 "cells": [
  {
   "cell_type": "code",
   "id": "initial_id",
   "metadata": {
    "collapsed": true,
    "ExecuteTime": {
     "end_time": "2025-03-15T19:43:47.409176Z",
     "start_time": "2025-03-15T19:43:47.390267Z"
    }
   },
   "source": [
    "from torch import nn\n",
    "\n",
    "from training.metrics import accuracy_at_k\n",
    "\n",
    "\n",
    "def get_spacecutter_predictor(input_size: int):\n",
    "    network = nn.Sequential(\n",
    "        nn.Linear(input_size, 128),\n",
    "        nn.ReLU(),\n",
    "        nn.Linear(128, 64),\n",
    "        nn.ReLU(),\n",
    "        nn.Linear(64, 1, bias=False),\n",
    "    )\n",
    "\n",
    "    return network"
   ],
   "outputs": [],
   "execution_count": 27
  },
  {
   "metadata": {
    "ExecuteTime": {
     "end_time": "2025-03-15T20:01:37.983194Z",
     "start_time": "2025-03-15T20:01:37.269621Z"
    }
   },
   "cell_type": "code",
   "source": [
    "from dataset.splitting_dataset import split_dataframe\n",
    "from dataset.creating_dataset import min_max_scale_data\n",
    "import pandas as pd\n",
    "import os\n",
    "\n",
    "PATH_TO_DATASET = os.path.join(\n",
    "    \"..\", \"preprocessed_bestiaries\", \"bestiaries_reduced.csv\"\n",
    ")\n",
    "TEST_RESULT_FILE = os.path.join(\"results\", \"results_tests.xlsx\")\n",
    "TRAIN_RESULT_FILE = os.path.join(\"results\", \"results_trains.xlsx\")\n",
    "\n",
    "\n",
    "bestiaries = pd.read_csv(PATH_TO_DATASET, index_col=0)\n",
    "bestiaries = min_max_scale_data(bestiaries)\n",
    "\n",
    "X_train, X_test, y_train, y_test = split_dataframe(bestiaries)\n",
    "y_train += 1\n",
    "y_test += 1"
   ],
   "id": "98c1d73a96532ec2",
   "outputs": [],
   "execution_count": 68
  },
  {
   "metadata": {
    "ExecuteTime": {
     "end_time": "2025-03-15T19:43:53.767844Z",
     "start_time": "2025-03-15T19:43:53.759752Z"
    }
   },
   "cell_type": "code",
   "source": [
    "num_features = X_train.shape[1]\n",
    "\n",
    "predictor = nn.Sequential(\n",
    "    nn.Linear(num_features, num_features),\n",
    "    nn.ReLU(inplace=True),\n",
    "    nn.Linear(num_features, num_features),\n",
    "    nn.ReLU(inplace=True),\n",
    "    nn.Linear(num_features, 1, bias=False),\n",
    ")"
   ],
   "id": "8d349db26e4c555d",
   "outputs": [],
   "execution_count": 30
  },
  {
   "metadata": {
    "ExecuteTime": {
     "end_time": "2025-03-15T19:33:54.492813Z",
     "start_time": "2025-03-15T19:33:54.477120Z"
    }
   },
   "cell_type": "code",
   "source": [
    "from sklearn.metrics import mean_absolute_error, make_scorer\n",
    "\n",
    "\n",
    "def mae_scorer(y_true, y_pred):\n",
    "    return mean_absolute_error(y_true, y_pred.argmax(axis=1))\n",
    "\n",
    "\n",
    "scoring = make_scorer(mae_scorer, greater_is_better=False, needs_proba=True)"
   ],
   "id": "e47b462a7bc6b4fa",
   "outputs": [],
   "execution_count": 19
  },
  {
   "metadata": {
    "ExecuteTime": {
     "end_time": "2025-03-15T19:35:08.365012Z",
     "start_time": "2025-03-15T19:35:08.335060Z"
    }
   },
   "cell_type": "code",
   "source": [
    "import numpy as np\n",
    "import torch\n",
    "from torch import nn\n",
    "\n",
    "from spacecutter.models import OrdinalLogisticModel\n",
    "\n",
    "\n",
    "X = np.array([[0.5, 0.1, -0.1], [1.0, 0.2, 0.6], [-2.0, 0.4, 0.8]], dtype=np.float32)\n",
    "\n",
    "y = np.array([0, 1, 2]).reshape(-1, 1)\n",
    "\n",
    "num_features = X.shape[1]\n",
    "num_classes = len(np.unique(y))\n",
    "\n",
    "predictor = nn.Sequential(\n",
    "    nn.Linear(num_features, num_features), nn.ReLU(), nn.Linear(num_features, 1)\n",
    ")\n",
    "\n",
    "model = OrdinalLogisticModel(predictor, num_classes)\n",
    "\n",
    "y_pred = model(torch.as_tensor(X))\n",
    "\n",
    "print(y_pred)\n",
    "\n",
    "# tensor([[0.2325, 0.2191, 0.5485],\n",
    "#         [0.2324, 0.2191, 0.5485],\n",
    "#         [0.2607, 0.2287, 0.5106]], grad_fn=<CatBackward>)"
   ],
   "id": "1f0e35eb1f687f48",
   "outputs": [
    {
     "name": "stdout",
     "output_type": "stream",
     "text": [
      "tensor([[0.2747, 0.2326, 0.4927],\n",
      "        [0.2747, 0.2326, 0.4927],\n",
      "        [0.1705, 0.1880, 0.6415]], grad_fn=<CatBackward0>)\n"
     ]
    }
   ],
   "execution_count": 22
  },
  {
   "metadata": {
    "ExecuteTime": {
     "end_time": "2025-03-15T19:35:15.683246Z",
     "start_time": "2025-03-15T19:35:14.896926Z"
    }
   },
   "cell_type": "code",
   "source": [
    "from skorch import NeuralNet\n",
    "\n",
    "from spacecutter.callbacks import AscensionCallback\n",
    "\n",
    "\n",
    "skorch_model = NeuralNet(\n",
    "    module=OrdinalLogisticModel,\n",
    "    module__predictor=predictor,\n",
    "    module__num_classes=num_classes,\n",
    "    criterion=CumulativeLinkLoss,\n",
    "    train_split=None,\n",
    "    callbacks=[\n",
    "        (\"ascension\", AscensionCallback()),\n",
    "    ],\n",
    ")\n",
    "\n",
    "skorch_model.fit(X, y)"
   ],
   "id": "bdf1740ed385c29",
   "outputs": [
    {
     "ename": "RuntimeError",
     "evalue": "gather(): Expected dtype int64 for index",
     "output_type": "error",
     "traceback": [
      "\u001b[1;31m---------------------------------------------------------------------------\u001b[0m",
      "\u001b[1;31mRuntimeError\u001b[0m                              Traceback (most recent call last)",
      "Cell \u001b[1;32mIn[23], line 17\u001b[0m\n\u001b[0;32m      4\u001b[0m \u001b[38;5;28;01mfrom\u001b[39;00m \u001b[38;5;21;01mspacecutter\u001b[39;00m\u001b[38;5;21;01m.\u001b[39;00m\u001b[38;5;21;01mlosses\u001b[39;00m \u001b[38;5;28;01mimport\u001b[39;00m CumulativeLinkLoss\n\u001b[0;32m      6\u001b[0m skorch_model \u001b[38;5;241m=\u001b[39m NeuralNet(\n\u001b[0;32m      7\u001b[0m     module\u001b[38;5;241m=\u001b[39mOrdinalLogisticModel,\n\u001b[0;32m      8\u001b[0m     module__predictor\u001b[38;5;241m=\u001b[39mpredictor,\n\u001b[1;32m   (...)\u001b[0m\n\u001b[0;32m     14\u001b[0m     ],\n\u001b[0;32m     15\u001b[0m )\n\u001b[1;32m---> 17\u001b[0m \u001b[43mskorch_model\u001b[49m\u001b[38;5;241;43m.\u001b[39;49m\u001b[43mfit\u001b[49m\u001b[43m(\u001b[49m\u001b[43mX\u001b[49m\u001b[43m,\u001b[49m\u001b[43m \u001b[49m\u001b[43my\u001b[49m\u001b[43m)\u001b[49m\n",
      "File \u001b[1;32m~\\OneDrive\\Dokumenty\\mgr\\Predictive-ML-in-TTRPG-game-design\\venv\\lib\\site-packages\\skorch\\net.py:1349\u001b[0m, in \u001b[0;36mNeuralNet.fit\u001b[1;34m(self, X, y, **fit_params)\u001b[0m\n\u001b[0;32m   1346\u001b[0m \u001b[38;5;28;01mif\u001b[39;00m \u001b[38;5;129;01mnot\u001b[39;00m \u001b[38;5;28mself\u001b[39m\u001b[38;5;241m.\u001b[39mwarm_start \u001b[38;5;129;01mor\u001b[39;00m \u001b[38;5;129;01mnot\u001b[39;00m \u001b[38;5;28mself\u001b[39m\u001b[38;5;241m.\u001b[39minitialized_:\n\u001b[0;32m   1347\u001b[0m     \u001b[38;5;28mself\u001b[39m\u001b[38;5;241m.\u001b[39minitialize()\n\u001b[1;32m-> 1349\u001b[0m \u001b[38;5;28mself\u001b[39m\u001b[38;5;241m.\u001b[39mpartial_fit(X, y, \u001b[38;5;241m*\u001b[39m\u001b[38;5;241m*\u001b[39mfit_params)\n\u001b[0;32m   1350\u001b[0m \u001b[38;5;28;01mreturn\u001b[39;00m \u001b[38;5;28mself\u001b[39m\n",
      "File \u001b[1;32m~\\OneDrive\\Dokumenty\\mgr\\Predictive-ML-in-TTRPG-game-design\\venv\\lib\\site-packages\\skorch\\net.py:1308\u001b[0m, in \u001b[0;36mNeuralNet.partial_fit\u001b[1;34m(self, X, y, classes, **fit_params)\u001b[0m\n\u001b[0;32m   1306\u001b[0m \u001b[38;5;28mself\u001b[39m\u001b[38;5;241m.\u001b[39mnotify(\u001b[38;5;124m'\u001b[39m\u001b[38;5;124mon_train_begin\u001b[39m\u001b[38;5;124m'\u001b[39m, X\u001b[38;5;241m=\u001b[39mX, y\u001b[38;5;241m=\u001b[39my)\n\u001b[0;32m   1307\u001b[0m \u001b[38;5;28;01mtry\u001b[39;00m:\n\u001b[1;32m-> 1308\u001b[0m     \u001b[38;5;28mself\u001b[39m\u001b[38;5;241m.\u001b[39mfit_loop(X, y, \u001b[38;5;241m*\u001b[39m\u001b[38;5;241m*\u001b[39mfit_params)\n\u001b[0;32m   1309\u001b[0m \u001b[38;5;28;01mexcept\u001b[39;00m \u001b[38;5;167;01mKeyboardInterrupt\u001b[39;00m:\n\u001b[0;32m   1310\u001b[0m     \u001b[38;5;28;01mpass\u001b[39;00m\n",
      "File \u001b[1;32m~\\OneDrive\\Dokumenty\\mgr\\Predictive-ML-in-TTRPG-game-design\\venv\\lib\\site-packages\\skorch\\net.py:1220\u001b[0m, in \u001b[0;36mNeuralNet.fit_loop\u001b[1;34m(self, X, y, epochs, **fit_params)\u001b[0m\n\u001b[0;32m   1217\u001b[0m \u001b[38;5;28;01mfor\u001b[39;00m _ \u001b[38;5;129;01min\u001b[39;00m \u001b[38;5;28mrange\u001b[39m(epochs):\n\u001b[0;32m   1218\u001b[0m     \u001b[38;5;28mself\u001b[39m\u001b[38;5;241m.\u001b[39mnotify(\u001b[38;5;124m'\u001b[39m\u001b[38;5;124mon_epoch_begin\u001b[39m\u001b[38;5;124m'\u001b[39m, \u001b[38;5;241m*\u001b[39m\u001b[38;5;241m*\u001b[39mon_epoch_kwargs)\n\u001b[1;32m-> 1220\u001b[0m     \u001b[38;5;28mself\u001b[39m\u001b[38;5;241m.\u001b[39mrun_single_epoch(iterator_train, training\u001b[38;5;241m=\u001b[39m\u001b[38;5;28;01mTrue\u001b[39;00m, prefix\u001b[38;5;241m=\u001b[39m\u001b[38;5;124m\"\u001b[39m\u001b[38;5;124mtrain\u001b[39m\u001b[38;5;124m\"\u001b[39m,\n\u001b[0;32m   1221\u001b[0m                           step_fn\u001b[38;5;241m=\u001b[39m\u001b[38;5;28mself\u001b[39m\u001b[38;5;241m.\u001b[39mtrain_step, \u001b[38;5;241m*\u001b[39m\u001b[38;5;241m*\u001b[39mfit_params)\n\u001b[0;32m   1223\u001b[0m     \u001b[38;5;28mself\u001b[39m\u001b[38;5;241m.\u001b[39mrun_single_epoch(iterator_valid, training\u001b[38;5;241m=\u001b[39m\u001b[38;5;28;01mFalse\u001b[39;00m, prefix\u001b[38;5;241m=\u001b[39m\u001b[38;5;124m\"\u001b[39m\u001b[38;5;124mvalid\u001b[39m\u001b[38;5;124m\"\u001b[39m,\n\u001b[0;32m   1224\u001b[0m                           step_fn\u001b[38;5;241m=\u001b[39m\u001b[38;5;28mself\u001b[39m\u001b[38;5;241m.\u001b[39mvalidation_step, \u001b[38;5;241m*\u001b[39m\u001b[38;5;241m*\u001b[39mfit_params)\n\u001b[0;32m   1226\u001b[0m     \u001b[38;5;28mself\u001b[39m\u001b[38;5;241m.\u001b[39mnotify(\u001b[38;5;124m\"\u001b[39m\u001b[38;5;124mon_epoch_end\u001b[39m\u001b[38;5;124m\"\u001b[39m, \u001b[38;5;241m*\u001b[39m\u001b[38;5;241m*\u001b[39mon_epoch_kwargs)\n",
      "File \u001b[1;32m~\\OneDrive\\Dokumenty\\mgr\\Predictive-ML-in-TTRPG-game-design\\venv\\lib\\site-packages\\skorch\\net.py:1256\u001b[0m, in \u001b[0;36mNeuralNet.run_single_epoch\u001b[1;34m(self, iterator, training, prefix, step_fn, **fit_params)\u001b[0m\n\u001b[0;32m   1254\u001b[0m \u001b[38;5;28;01mfor\u001b[39;00m batch \u001b[38;5;129;01min\u001b[39;00m iterator:\n\u001b[0;32m   1255\u001b[0m     \u001b[38;5;28mself\u001b[39m\u001b[38;5;241m.\u001b[39mnotify(\u001b[38;5;124m\"\u001b[39m\u001b[38;5;124mon_batch_begin\u001b[39m\u001b[38;5;124m\"\u001b[39m, batch\u001b[38;5;241m=\u001b[39mbatch, training\u001b[38;5;241m=\u001b[39mtraining)\n\u001b[1;32m-> 1256\u001b[0m     step \u001b[38;5;241m=\u001b[39m step_fn(batch, \u001b[38;5;241m*\u001b[39m\u001b[38;5;241m*\u001b[39mfit_params)\n\u001b[0;32m   1257\u001b[0m     \u001b[38;5;28mself\u001b[39m\u001b[38;5;241m.\u001b[39mhistory\u001b[38;5;241m.\u001b[39mrecord_batch(prefix \u001b[38;5;241m+\u001b[39m \u001b[38;5;124m\"\u001b[39m\u001b[38;5;124m_loss\u001b[39m\u001b[38;5;124m\"\u001b[39m, step[\u001b[38;5;124m\"\u001b[39m\u001b[38;5;124mloss\u001b[39m\u001b[38;5;124m\"\u001b[39m]\u001b[38;5;241m.\u001b[39mitem())\n\u001b[0;32m   1258\u001b[0m     batch_size \u001b[38;5;241m=\u001b[39m (get_len(batch[\u001b[38;5;241m0\u001b[39m]) \u001b[38;5;28;01mif\u001b[39;00m \u001b[38;5;28misinstance\u001b[39m(batch, (\u001b[38;5;28mtuple\u001b[39m, \u001b[38;5;28mlist\u001b[39m))\n\u001b[0;32m   1259\u001b[0m                   \u001b[38;5;28;01melse\u001b[39;00m get_len(batch))\n",
      "File \u001b[1;32m~\\OneDrive\\Dokumenty\\mgr\\Predictive-ML-in-TTRPG-game-design\\venv\\lib\\site-packages\\skorch\\net.py:1135\u001b[0m, in \u001b[0;36mNeuralNet.train_step\u001b[1;34m(self, batch, **fit_params)\u001b[0m\n\u001b[0;32m   1127\u001b[0m     \u001b[38;5;28mself\u001b[39m\u001b[38;5;241m.\u001b[39mnotify(\n\u001b[0;32m   1128\u001b[0m         \u001b[38;5;124m'\u001b[39m\u001b[38;5;124mon_grad_computed\u001b[39m\u001b[38;5;124m'\u001b[39m,\n\u001b[0;32m   1129\u001b[0m         named_parameters\u001b[38;5;241m=\u001b[39mTeeGenerator(\u001b[38;5;28mself\u001b[39m\u001b[38;5;241m.\u001b[39mget_all_learnable_params()),\n\u001b[0;32m   1130\u001b[0m         batch\u001b[38;5;241m=\u001b[39mbatch,\n\u001b[0;32m   1131\u001b[0m         training\u001b[38;5;241m=\u001b[39m\u001b[38;5;28;01mTrue\u001b[39;00m,\n\u001b[0;32m   1132\u001b[0m     )\n\u001b[0;32m   1133\u001b[0m     \u001b[38;5;28;01mreturn\u001b[39;00m step[\u001b[38;5;124m'\u001b[39m\u001b[38;5;124mloss\u001b[39m\u001b[38;5;124m'\u001b[39m]\n\u001b[1;32m-> 1135\u001b[0m \u001b[38;5;28;43mself\u001b[39;49m\u001b[38;5;241;43m.\u001b[39;49m\u001b[43m_step_optimizer\u001b[49m\u001b[43m(\u001b[49m\u001b[43mstep_fn\u001b[49m\u001b[43m)\u001b[49m\n\u001b[0;32m   1136\u001b[0m \u001b[38;5;28;01mreturn\u001b[39;00m step_accumulator\u001b[38;5;241m.\u001b[39mget_step()\n",
      "File \u001b[1;32m~\\OneDrive\\Dokumenty\\mgr\\Predictive-ML-in-TTRPG-game-design\\venv\\lib\\site-packages\\skorch\\net.py:1090\u001b[0m, in \u001b[0;36mNeuralNet._step_optimizer\u001b[1;34m(self, step_fn)\u001b[0m\n\u001b[0;32m   1088\u001b[0m     optimizer\u001b[38;5;241m.\u001b[39mstep()\n\u001b[0;32m   1089\u001b[0m \u001b[38;5;28;01melse\u001b[39;00m:\n\u001b[1;32m-> 1090\u001b[0m     \u001b[43moptimizer\u001b[49m\u001b[38;5;241;43m.\u001b[39;49m\u001b[43mstep\u001b[49m\u001b[43m(\u001b[49m\u001b[43mstep_fn\u001b[49m\u001b[43m)\u001b[49m\n",
      "File \u001b[1;32m~\\OneDrive\\Dokumenty\\mgr\\Predictive-ML-in-TTRPG-game-design\\venv\\lib\\site-packages\\torch\\optim\\optimizer.py:391\u001b[0m, in \u001b[0;36mOptimizer.profile_hook_step.<locals>.wrapper\u001b[1;34m(*args, **kwargs)\u001b[0m\n\u001b[0;32m    386\u001b[0m         \u001b[38;5;28;01melse\u001b[39;00m:\n\u001b[0;32m    387\u001b[0m             \u001b[38;5;28;01mraise\u001b[39;00m \u001b[38;5;167;01mRuntimeError\u001b[39;00m(\n\u001b[0;32m    388\u001b[0m                 \u001b[38;5;124mf\u001b[39m\u001b[38;5;124m\"\u001b[39m\u001b[38;5;132;01m{\u001b[39;00mfunc\u001b[38;5;132;01m}\u001b[39;00m\u001b[38;5;124m must return None or a tuple of (new_args, new_kwargs), but got \u001b[39m\u001b[38;5;132;01m{\u001b[39;00mresult\u001b[38;5;132;01m}\u001b[39;00m\u001b[38;5;124m.\u001b[39m\u001b[38;5;124m\"\u001b[39m\n\u001b[0;32m    389\u001b[0m             )\n\u001b[1;32m--> 391\u001b[0m out \u001b[38;5;241m=\u001b[39m func(\u001b[38;5;241m*\u001b[39margs, \u001b[38;5;241m*\u001b[39m\u001b[38;5;241m*\u001b[39mkwargs)\n\u001b[0;32m    392\u001b[0m \u001b[38;5;28mself\u001b[39m\u001b[38;5;241m.\u001b[39m_optimizer_step_code()\n\u001b[0;32m    394\u001b[0m \u001b[38;5;66;03m# call optimizer step post hooks\u001b[39;00m\n",
      "File \u001b[1;32m~\\OneDrive\\Dokumenty\\mgr\\Predictive-ML-in-TTRPG-game-design\\venv\\lib\\site-packages\\torch\\optim\\optimizer.py:76\u001b[0m, in \u001b[0;36m_use_grad_for_differentiable.<locals>._use_grad\u001b[1;34m(self, *args, **kwargs)\u001b[0m\n\u001b[0;32m     74\u001b[0m     torch\u001b[38;5;241m.\u001b[39mset_grad_enabled(\u001b[38;5;28mself\u001b[39m\u001b[38;5;241m.\u001b[39mdefaults[\u001b[38;5;124m'\u001b[39m\u001b[38;5;124mdifferentiable\u001b[39m\u001b[38;5;124m'\u001b[39m])\n\u001b[0;32m     75\u001b[0m     torch\u001b[38;5;241m.\u001b[39m_dynamo\u001b[38;5;241m.\u001b[39mgraph_break()\n\u001b[1;32m---> 76\u001b[0m     ret \u001b[38;5;241m=\u001b[39m func(\u001b[38;5;28mself\u001b[39m, \u001b[38;5;241m*\u001b[39margs, \u001b[38;5;241m*\u001b[39m\u001b[38;5;241m*\u001b[39mkwargs)\n\u001b[0;32m     77\u001b[0m \u001b[38;5;28;01mfinally\u001b[39;00m:\n\u001b[0;32m     78\u001b[0m     torch\u001b[38;5;241m.\u001b[39m_dynamo\u001b[38;5;241m.\u001b[39mgraph_break()\n",
      "File \u001b[1;32m~\\OneDrive\\Dokumenty\\mgr\\Predictive-ML-in-TTRPG-game-design\\venv\\lib\\site-packages\\torch\\optim\\sgd.py:71\u001b[0m, in \u001b[0;36mSGD.step\u001b[1;34m(self, closure)\u001b[0m\n\u001b[0;32m     69\u001b[0m \u001b[38;5;28;01mif\u001b[39;00m closure \u001b[38;5;129;01mis\u001b[39;00m \u001b[38;5;129;01mnot\u001b[39;00m \u001b[38;5;28;01mNone\u001b[39;00m:\n\u001b[0;32m     70\u001b[0m     \u001b[38;5;28;01mwith\u001b[39;00m torch\u001b[38;5;241m.\u001b[39menable_grad():\n\u001b[1;32m---> 71\u001b[0m         loss \u001b[38;5;241m=\u001b[39m \u001b[43mclosure\u001b[49m\u001b[43m(\u001b[49m\u001b[43m)\u001b[49m\n\u001b[0;32m     73\u001b[0m \u001b[38;5;28;01mfor\u001b[39;00m group \u001b[38;5;129;01min\u001b[39;00m \u001b[38;5;28mself\u001b[39m\u001b[38;5;241m.\u001b[39mparam_groups:\n\u001b[0;32m     74\u001b[0m     params_with_grad \u001b[38;5;241m=\u001b[39m []\n",
      "File \u001b[1;32m~\\OneDrive\\Dokumenty\\mgr\\Predictive-ML-in-TTRPG-game-design\\venv\\lib\\site-packages\\skorch\\net.py:1124\u001b[0m, in \u001b[0;36mNeuralNet.train_step.<locals>.step_fn\u001b[1;34m()\u001b[0m\n\u001b[0;32m   1122\u001b[0m \u001b[38;5;28;01mdef\u001b[39;00m \u001b[38;5;21mstep_fn\u001b[39m():\n\u001b[0;32m   1123\u001b[0m     \u001b[38;5;28mself\u001b[39m\u001b[38;5;241m.\u001b[39m_zero_grad_optimizer()\n\u001b[1;32m-> 1124\u001b[0m     step \u001b[38;5;241m=\u001b[39m \u001b[38;5;28mself\u001b[39m\u001b[38;5;241m.\u001b[39mtrain_step_single(batch, \u001b[38;5;241m*\u001b[39m\u001b[38;5;241m*\u001b[39mfit_params)\n\u001b[0;32m   1125\u001b[0m     step_accumulator\u001b[38;5;241m.\u001b[39mstore_step(step)\n\u001b[0;32m   1127\u001b[0m     \u001b[38;5;28mself\u001b[39m\u001b[38;5;241m.\u001b[39mnotify(\n\u001b[0;32m   1128\u001b[0m         \u001b[38;5;124m'\u001b[39m\u001b[38;5;124mon_grad_computed\u001b[39m\u001b[38;5;124m'\u001b[39m,\n\u001b[0;32m   1129\u001b[0m         named_parameters\u001b[38;5;241m=\u001b[39mTeeGenerator(\u001b[38;5;28mself\u001b[39m\u001b[38;5;241m.\u001b[39mget_all_learnable_params()),\n\u001b[0;32m   1130\u001b[0m         batch\u001b[38;5;241m=\u001b[39mbatch,\n\u001b[0;32m   1131\u001b[0m         training\u001b[38;5;241m=\u001b[39m\u001b[38;5;28;01mTrue\u001b[39;00m,\n\u001b[0;32m   1132\u001b[0m     )\n",
      "File \u001b[1;32m~\\OneDrive\\Dokumenty\\mgr\\Predictive-ML-in-TTRPG-game-design\\venv\\lib\\site-packages\\skorch\\net.py:1024\u001b[0m, in \u001b[0;36mNeuralNet.train_step_single\u001b[1;34m(self, batch, **fit_params)\u001b[0m\n\u001b[0;32m   1022\u001b[0m Xi, yi \u001b[38;5;241m=\u001b[39m unpack_data(batch)\n\u001b[0;32m   1023\u001b[0m y_pred \u001b[38;5;241m=\u001b[39m \u001b[38;5;28mself\u001b[39m\u001b[38;5;241m.\u001b[39minfer(Xi, \u001b[38;5;241m*\u001b[39m\u001b[38;5;241m*\u001b[39mfit_params)\n\u001b[1;32m-> 1024\u001b[0m loss \u001b[38;5;241m=\u001b[39m \u001b[38;5;28;43mself\u001b[39;49m\u001b[38;5;241;43m.\u001b[39;49m\u001b[43mget_loss\u001b[49m\u001b[43m(\u001b[49m\u001b[43my_pred\u001b[49m\u001b[43m,\u001b[49m\u001b[43m \u001b[49m\u001b[43myi\u001b[49m\u001b[43m,\u001b[49m\u001b[43m \u001b[49m\u001b[43mX\u001b[49m\u001b[38;5;241;43m=\u001b[39;49m\u001b[43mXi\u001b[49m\u001b[43m,\u001b[49m\u001b[43m \u001b[49m\u001b[43mtraining\u001b[49m\u001b[38;5;241;43m=\u001b[39;49m\u001b[38;5;28;43;01mTrue\u001b[39;49;00m\u001b[43m)\u001b[49m\n\u001b[0;32m   1025\u001b[0m loss\u001b[38;5;241m.\u001b[39mbackward()\n\u001b[0;32m   1026\u001b[0m \u001b[38;5;28;01mreturn\u001b[39;00m {\n\u001b[0;32m   1027\u001b[0m     \u001b[38;5;124m'\u001b[39m\u001b[38;5;124mloss\u001b[39m\u001b[38;5;124m'\u001b[39m: loss,\n\u001b[0;32m   1028\u001b[0m     \u001b[38;5;124m'\u001b[39m\u001b[38;5;124my_pred\u001b[39m\u001b[38;5;124m'\u001b[39m: y_pred,\n\u001b[0;32m   1029\u001b[0m }\n",
      "File \u001b[1;32m~\\OneDrive\\Dokumenty\\mgr\\Predictive-ML-in-TTRPG-game-design\\venv\\lib\\site-packages\\skorch\\net.py:1695\u001b[0m, in \u001b[0;36mNeuralNet.get_loss\u001b[1;34m(self, y_pred, y_true, X, training)\u001b[0m\n\u001b[0;32m   1666\u001b[0m \u001b[38;5;250m\u001b[39m\u001b[38;5;124;03m\"\"\"Return the loss for this batch.\u001b[39;00m\n\u001b[0;32m   1667\u001b[0m \n\u001b[0;32m   1668\u001b[0m \u001b[38;5;124;03mParameters\u001b[39;00m\n\u001b[1;32m   (...)\u001b[0m\n\u001b[0;32m   1692\u001b[0m \n\u001b[0;32m   1693\u001b[0m \u001b[38;5;124;03m\"\"\"\u001b[39;00m\n\u001b[0;32m   1694\u001b[0m y_true \u001b[38;5;241m=\u001b[39m to_tensor(y_true, device\u001b[38;5;241m=\u001b[39m\u001b[38;5;28mself\u001b[39m\u001b[38;5;241m.\u001b[39mdevice)\n\u001b[1;32m-> 1695\u001b[0m \u001b[38;5;28;01mreturn\u001b[39;00m \u001b[38;5;28;43mself\u001b[39;49m\u001b[38;5;241;43m.\u001b[39;49m\u001b[43mcriterion_\u001b[49m\u001b[43m(\u001b[49m\u001b[43my_pred\u001b[49m\u001b[43m,\u001b[49m\u001b[43m \u001b[49m\u001b[43my_true\u001b[49m\u001b[43m)\u001b[49m\n",
      "File \u001b[1;32m~\\OneDrive\\Dokumenty\\mgr\\Predictive-ML-in-TTRPG-game-design\\venv\\lib\\site-packages\\torch\\nn\\modules\\module.py:1532\u001b[0m, in \u001b[0;36mModule._wrapped_call_impl\u001b[1;34m(self, *args, **kwargs)\u001b[0m\n\u001b[0;32m   1530\u001b[0m     \u001b[38;5;28;01mreturn\u001b[39;00m \u001b[38;5;28mself\u001b[39m\u001b[38;5;241m.\u001b[39m_compiled_call_impl(\u001b[38;5;241m*\u001b[39margs, \u001b[38;5;241m*\u001b[39m\u001b[38;5;241m*\u001b[39mkwargs)  \u001b[38;5;66;03m# type: ignore[misc]\u001b[39;00m\n\u001b[0;32m   1531\u001b[0m \u001b[38;5;28;01melse\u001b[39;00m:\n\u001b[1;32m-> 1532\u001b[0m     \u001b[38;5;28;01mreturn\u001b[39;00m \u001b[38;5;28mself\u001b[39m\u001b[38;5;241m.\u001b[39m_call_impl(\u001b[38;5;241m*\u001b[39margs, \u001b[38;5;241m*\u001b[39m\u001b[38;5;241m*\u001b[39mkwargs)\n",
      "File \u001b[1;32m~\\OneDrive\\Dokumenty\\mgr\\Predictive-ML-in-TTRPG-game-design\\venv\\lib\\site-packages\\torch\\nn\\modules\\module.py:1541\u001b[0m, in \u001b[0;36mModule._call_impl\u001b[1;34m(self, *args, **kwargs)\u001b[0m\n\u001b[0;32m   1536\u001b[0m \u001b[38;5;66;03m# If we don't have any hooks, we want to skip the rest of the logic in\u001b[39;00m\n\u001b[0;32m   1537\u001b[0m \u001b[38;5;66;03m# this function, and just call forward.\u001b[39;00m\n\u001b[0;32m   1538\u001b[0m \u001b[38;5;28;01mif\u001b[39;00m \u001b[38;5;129;01mnot\u001b[39;00m (\u001b[38;5;28mself\u001b[39m\u001b[38;5;241m.\u001b[39m_backward_hooks \u001b[38;5;129;01mor\u001b[39;00m \u001b[38;5;28mself\u001b[39m\u001b[38;5;241m.\u001b[39m_backward_pre_hooks \u001b[38;5;129;01mor\u001b[39;00m \u001b[38;5;28mself\u001b[39m\u001b[38;5;241m.\u001b[39m_forward_hooks \u001b[38;5;129;01mor\u001b[39;00m \u001b[38;5;28mself\u001b[39m\u001b[38;5;241m.\u001b[39m_forward_pre_hooks\n\u001b[0;32m   1539\u001b[0m         \u001b[38;5;129;01mor\u001b[39;00m _global_backward_pre_hooks \u001b[38;5;129;01mor\u001b[39;00m _global_backward_hooks\n\u001b[0;32m   1540\u001b[0m         \u001b[38;5;129;01mor\u001b[39;00m _global_forward_hooks \u001b[38;5;129;01mor\u001b[39;00m _global_forward_pre_hooks):\n\u001b[1;32m-> 1541\u001b[0m     \u001b[38;5;28;01mreturn\u001b[39;00m forward_call(\u001b[38;5;241m*\u001b[39margs, \u001b[38;5;241m*\u001b[39m\u001b[38;5;241m*\u001b[39mkwargs)\n\u001b[0;32m   1543\u001b[0m \u001b[38;5;28;01mtry\u001b[39;00m:\n\u001b[0;32m   1544\u001b[0m     result \u001b[38;5;241m=\u001b[39m \u001b[38;5;28;01mNone\u001b[39;00m\n",
      "File \u001b[1;32m~\\OneDrive\\Dokumenty\\mgr\\Predictive-ML-in-TTRPG-game-design\\venv\\lib\\site-packages\\spacecutter\\losses.py:106\u001b[0m, in \u001b[0;36mCumulativeLinkLoss.forward\u001b[1;34m(self, y_pred, y_true)\u001b[0m\n\u001b[0;32m    104\u001b[0m \u001b[38;5;28;01mdef\u001b[39;00m \u001b[38;5;21mforward\u001b[39m(\u001b[38;5;28mself\u001b[39m, y_pred: torch\u001b[38;5;241m.\u001b[39mTensor,\n\u001b[0;32m    105\u001b[0m             y_true: torch\u001b[38;5;241m.\u001b[39mTensor) \u001b[38;5;241m-\u001b[39m\u001b[38;5;241m>\u001b[39m torch\u001b[38;5;241m.\u001b[39mTensor:\n\u001b[1;32m--> 106\u001b[0m     \u001b[38;5;28;01mreturn\u001b[39;00m \u001b[43mcumulative_link_loss\u001b[49m\u001b[43m(\u001b[49m\u001b[43my_pred\u001b[49m\u001b[43m,\u001b[49m\u001b[43m \u001b[49m\u001b[43my_true\u001b[49m\u001b[43m,\u001b[49m\n\u001b[0;32m    107\u001b[0m \u001b[43m                                \u001b[49m\u001b[43mreduction\u001b[49m\u001b[38;5;241;43m=\u001b[39;49m\u001b[38;5;28;43mself\u001b[39;49m\u001b[38;5;241;43m.\u001b[39;49m\u001b[43mreduction\u001b[49m\u001b[43m,\u001b[49m\n\u001b[0;32m    108\u001b[0m \u001b[43m                                \u001b[49m\u001b[43mclass_weights\u001b[49m\u001b[38;5;241;43m=\u001b[39;49m\u001b[38;5;28;43mself\u001b[39;49m\u001b[38;5;241;43m.\u001b[39;49m\u001b[43mclass_weights\u001b[49m\u001b[43m)\u001b[49m\n",
      "File \u001b[1;32m~\\OneDrive\\Dokumenty\\mgr\\Predictive-ML-in-TTRPG-game-design\\venv\\lib\\site-packages\\spacecutter\\losses.py:68\u001b[0m, in \u001b[0;36mcumulative_link_loss\u001b[1;34m(y_pred, y_true, reduction, class_weights)\u001b[0m\n\u001b[0;32m     39\u001b[0m \u001b[38;5;250m\u001b[39m\u001b[38;5;124;03m\"\"\"\u001b[39;00m\n\u001b[0;32m     40\u001b[0m \u001b[38;5;124;03mCalculates the negative log likelihood using the logistic cumulative link\u001b[39;00m\n\u001b[0;32m     41\u001b[0m \u001b[38;5;124;03mfunction.\u001b[39;00m\n\u001b[1;32m   (...)\u001b[0m\n\u001b[0;32m     65\u001b[0m \n\u001b[0;32m     66\u001b[0m \u001b[38;5;124;03m\"\"\"\u001b[39;00m\n\u001b[0;32m     67\u001b[0m eps \u001b[38;5;241m=\u001b[39m \u001b[38;5;241m1e-15\u001b[39m\n\u001b[1;32m---> 68\u001b[0m likelihoods \u001b[38;5;241m=\u001b[39m torch\u001b[38;5;241m.\u001b[39mclamp(\u001b[43mtorch\u001b[49m\u001b[38;5;241;43m.\u001b[39;49m\u001b[43mgather\u001b[49m\u001b[43m(\u001b[49m\u001b[43my_pred\u001b[49m\u001b[43m,\u001b[49m\u001b[43m \u001b[49m\u001b[38;5;241;43m1\u001b[39;49m\u001b[43m,\u001b[49m\u001b[43m \u001b[49m\u001b[43my_true\u001b[49m\u001b[43m)\u001b[49m, eps, \u001b[38;5;241m1\u001b[39m \u001b[38;5;241m-\u001b[39m eps)\n\u001b[0;32m     69\u001b[0m neg_log_likelihood \u001b[38;5;241m=\u001b[39m \u001b[38;5;241m-\u001b[39mtorch\u001b[38;5;241m.\u001b[39mlog(likelihoods)\n\u001b[0;32m     71\u001b[0m \u001b[38;5;28;01mif\u001b[39;00m class_weights \u001b[38;5;129;01mis\u001b[39;00m \u001b[38;5;129;01mnot\u001b[39;00m \u001b[38;5;28;01mNone\u001b[39;00m:\n\u001b[0;32m     72\u001b[0m     \u001b[38;5;66;03m# Make sure it's on the same device as neg_log_likelihood\u001b[39;00m\n",
      "\u001b[1;31mRuntimeError\u001b[0m: gather(): Expected dtype int64 for index"
     ]
    }
   ],
   "execution_count": 23
  },
  {
   "metadata": {
    "ExecuteTime": {
     "end_time": "2025-03-15T20:47:40.001345Z",
     "start_time": "2025-03-15T20:47:39.974806Z"
    }
   },
   "cell_type": "code",
   "source": [
    "from copy import deepcopy\n",
    "\n",
    "import torch\n",
    "from torch import nn\n",
    "\n",
    "\n",
    "class LogisticCumulativeLink(nn.Module):\n",
    "    \"\"\"\n",
    "    Converts a single number to the proportional odds of belonging to a class.\n",
    "\n",
    "    Parameters\n",
    "    ----------\n",
    "    num_classes : int\n",
    "        Number of ordered classes to partition the odds into.\n",
    "    init_cutpoints : str (default='ordered')\n",
    "        How to initialize the cutpoints of the model. Valid values are\n",
    "        - ordered : cutpoints are initialized to halfway between each class.\n",
    "        - random : cutpoints are initialized with random values.\n",
    "    \"\"\"\n",
    "\n",
    "    def __init__(self, num_classes: int, init_cutpoints: str = \"ordered\") -> None:\n",
    "        assert num_classes > 2, \"Only use this model if you have 3 or more classes\"\n",
    "        super().__init__()\n",
    "        self.num_classes = num_classes\n",
    "        self.init_cutpoints = init_cutpoints\n",
    "        if init_cutpoints == \"ordered\":\n",
    "            num_cutpoints = self.num_classes - 1\n",
    "            cutpoints = torch.arange(num_cutpoints).float() - num_cutpoints / 2\n",
    "            self.cutpoints = nn.Parameter(cutpoints)\n",
    "        elif init_cutpoints == \"random\":\n",
    "            cutpoints = torch.rand(self.num_classes - 1).sort()[0]\n",
    "            self.cutpoints = nn.Parameter(cutpoints)\n",
    "        else:\n",
    "            raise ValueError(f\"{init_cutpoints} is not a valid init_cutpoints \" f\"type\")\n",
    "\n",
    "    def forward(self, X: torch.Tensor) -> torch.Tensor:\n",
    "        \"\"\"\n",
    "        Equation (11) from\n",
    "        \"On the consistency of ordinal regression methods\", Pedregosa et. al.\n",
    "        \"\"\"\n",
    "        sigmoids = torch.sigmoid(self.cutpoints - X)\n",
    "        link_mat = sigmoids[:, 1:] - sigmoids[:, :-1]\n",
    "        link_mat = torch.cat(\n",
    "            (sigmoids[:, [0]], link_mat, (1 - sigmoids[:, [-1]])), dim=1\n",
    "        )\n",
    "        return link_mat\n",
    "\n",
    "\n",
    "class OrdinalLogisticModel(nn.Module):\n",
    "    \"\"\"\n",
    "    \"Wrapper\" model for outputting proportional odds of ordinal classes.\n",
    "    Pass in any model that outputs a single prediction value, and this module\n",
    "    will then pass that model through the LogisticCumulativeLink module.\n",
    "\n",
    "    Parameters\n",
    "    ----------\n",
    "    predictor : nn.Module\n",
    "        When called, must return a torch.FloatTensor with shape [batch_size, 1]\n",
    "    init_cutpoints : str (default='ordered')\n",
    "        How to initialize the cutpoints of the model. Valid values are\n",
    "        - ordered : cutpoints are initialized to halfway between each class.\n",
    "        - random : cutpoints are initialized with random values.\n",
    "    \"\"\"\n",
    "\n",
    "    def __init__(\n",
    "        self, predictor: nn.Module, num_classes: int, init_cutpoints: str = \"ordered\"\n",
    "    ) -> None:\n",
    "        super().__init__()\n",
    "        self.num_classes = num_classes\n",
    "        self.predictor = deepcopy(predictor)\n",
    "        self.link = LogisticCumulativeLink(\n",
    "            self.num_classes, init_cutpoints=init_cutpoints\n",
    "        )\n",
    "\n",
    "    # def fit(self, ):\n",
    "\n",
    "    def forward(self, *args, **kwargs) -> torch.Tensor:\n",
    "        return self.link(self.predictor(*args, **kwargs))"
   ],
   "id": "507141271da71fb",
   "outputs": [],
   "execution_count": 91
  },
  {
   "metadata": {
    "ExecuteTime": {
     "end_time": "2025-03-15T20:47:40.881779Z",
     "start_time": "2025-03-15T20:47:40.866355Z"
    }
   },
   "cell_type": "code",
   "source": [
    "from skorch.callbacks import Callback\n",
    "from torch.nn import Module\n",
    "\n",
    "from spacecutter.models import LogisticCumulativeLink\n",
    "\n",
    "\n",
    "class AscensionCallback(Callback):\n",
    "    \"\"\"\n",
    "    Ensure that each cutpoint is ordered in ascending value.\n",
    "    e.g.\n",
    "\n",
    "    .. < cutpoint[i - 1] < cutpoint[i] < cutpoint[i + 1] < ...\n",
    "\n",
    "    This is done by clipping the cutpoint values at the end of a batch gradient\n",
    "    update. By no means is this an efficient way to do things, but it works out\n",
    "    of the box with stochastic gradient descent.\n",
    "\n",
    "    Parameters\n",
    "    ----------\n",
    "    margin : float, (default=0.0)\n",
    "        The minimum value between any two adjacent cutpoints.\n",
    "        e.g. enforce that cutpoint[i - 1] + margin < cutpoint[i]\n",
    "    min_val : float, (default=-1e6)\n",
    "        Minimum value that the smallest cutpoint may take.\n",
    "    \"\"\"\n",
    "\n",
    "    def __init__(self, margin: float = 0.0, min_val: float = -1.0e6) -> None:\n",
    "        super().__init__()\n",
    "        self.margin = margin\n",
    "        self.min_val = min_val\n",
    "\n",
    "    def clip(self, module: Module) -> None:\n",
    "        # NOTE: Only works for LogisticCumulativeLink right now\n",
    "        # We assume the cutpoints parameters are called `cutpoints`.\n",
    "        if isinstance(module, LogisticCumulativeLink):\n",
    "            cutpoints = module.cutpoints.data\n",
    "            for i in range(cutpoints.shape[0] - 1):\n",
    "                cutpoints[i].clamp_(self.min_val, cutpoints[i + 1] - self.margin)\n",
    "\n",
    "    def on_batch_end(self, net: Module, *args, **kwargs) -> None:\n",
    "        net.module_.apply(self.clip)"
   ],
   "id": "a3ea63d821819209",
   "outputs": [],
   "execution_count": 92
  },
  {
   "metadata": {
    "ExecuteTime": {
     "end_time": "2025-03-15T20:47:42.234389Z",
     "start_time": "2025-03-15T20:47:42.201731Z"
    }
   },
   "cell_type": "code",
   "source": [
    "import numpy as np\n",
    "import torch\n",
    "from torch import nn\n",
    "from typing import Optional\n",
    "\n",
    "\n",
    "def _reduction(loss: torch.Tensor, reduction: str) -> torch.Tensor:\n",
    "    \"\"\"\n",
    "    Reduce loss\n",
    "\n",
    "    Parameters\n",
    "    ----------\n",
    "    loss : torch.Tensor, [batch_size, num_classes]\n",
    "        Batch losses.\n",
    "    reduction : str\n",
    "        Method for reducing the loss. Options include 'elementwise_mean',\n",
    "        'none', and 'sum'.\n",
    "\n",
    "    Returns\n",
    "    -------\n",
    "    loss : torch.Tensor\n",
    "        Reduced loss.\n",
    "\n",
    "    \"\"\"\n",
    "    if reduction == \"elementwise_mean\":\n",
    "        return loss.mean()\n",
    "    elif reduction == \"none\":\n",
    "        return loss\n",
    "    elif reduction == \"sum\":\n",
    "        return loss.sum()\n",
    "    else:\n",
    "        raise ValueError(f\"{reduction} is not a valid reduction\")\n",
    "\n",
    "\n",
    "def cumulative_link_loss(\n",
    "    y_pred: torch.Tensor,\n",
    "    y_true: torch.Tensor,\n",
    "    reduction: str = \"elementwise_mean\",\n",
    "    class_weights: Optional[np.ndarray] = None,\n",
    ") -> torch.Tensor:\n",
    "    \"\"\"\n",
    "    Calculates the negative log likelihood using the logistic cumulative link\n",
    "    function.\n",
    "\n",
    "    See \"On the consistency of ordinal regression methods\", Pedregosa et. al.\n",
    "    for more details. While this paper is not the first to introduce this, it\n",
    "    is the only one that I could find that was easily readable outside of\n",
    "    paywalls.\n",
    "\n",
    "    Parameters\n",
    "    ----------\n",
    "    y_pred : torch.Tensor, [batch_size, num_classes]\n",
    "        Predicted target class probabilities. float dtype.\n",
    "    y_true : torch.Tensor, [batch_size, 1]\n",
    "        True target classes. long dtype.\n",
    "    reduction : str\n",
    "        Method for reducing the loss. Options include 'elementwise_mean',\n",
    "        'none', and 'sum'.\n",
    "    class_weights : np.ndarray, [num_classes] optional (default=None)\n",
    "        An array of weights for each class. If included, then for each sample,\n",
    "        look up the true class and multiply that sample's loss by the weight in\n",
    "        this array.\n",
    "\n",
    "    Returns\n",
    "    -------\n",
    "    loss: torch.Tensor\n",
    "\n",
    "    \"\"\"\n",
    "    eps = 1e-15\n",
    "    likelihoods = torch.clamp(\n",
    "        torch.gather(y_pred, 1, y_true.unsqueeze(1)), eps, 1 - eps\n",
    "    )\n",
    "    neg_log_likelihood = -torch.log(likelihoods)\n",
    "\n",
    "    if class_weights is not None:\n",
    "        # Make sure it's on the same device as neg_log_likelihood\n",
    "        class_weights = torch.as_tensor(\n",
    "            class_weights,\n",
    "            dtype=neg_log_likelihood.dtype,\n",
    "            device=neg_log_likelihood.device,\n",
    "        )\n",
    "        neg_log_likelihood *= class_weights[y_true]\n",
    "\n",
    "    loss = _reduction(neg_log_likelihood, reduction)\n",
    "    return loss\n",
    "\n",
    "\n",
    "class CumulativeLinkLoss(nn.Module):\n",
    "    \"\"\"\n",
    "    Module form of cumulative_link_loss() loss function\n",
    "\n",
    "    Parameters\n",
    "    ----------\n",
    "    reduction : str\n",
    "        Method for reducing the loss. Options include 'elementwise_mean',\n",
    "        'none', and 'sum'.\n",
    "    class_weights : np.ndarray, [num_classes] optional (default=None)\n",
    "        An array of weights for each class. If included, then for each sample,\n",
    "        look up the true class and multiply that sample's loss by the weight in\n",
    "        this array.\n",
    "\n",
    "    \"\"\"\n",
    "\n",
    "    def __init__(\n",
    "        self,\n",
    "        reduction: str = \"elementwise_mean\",\n",
    "        class_weights: Optional[torch.Tensor] = None,\n",
    "    ) -> None:\n",
    "        super().__init__()\n",
    "        self.class_weights = class_weights\n",
    "        self.reduction = reduction\n",
    "\n",
    "    def forward(self, y_pred: torch.Tensor, y_true: torch.Tensor) -> torch.Tensor:\n",
    "        return cumulative_link_loss(\n",
    "            y_pred, y_true, reduction=self.reduction, class_weights=self.class_weights\n",
    "        )"
   ],
   "id": "4da11c53e35c468d",
   "outputs": [],
   "execution_count": 93
  },
  {
   "metadata": {
    "ExecuteTime": {
     "end_time": "2025-03-15T20:47:42.850961Z",
     "start_time": "2025-03-15T20:47:42.823057Z"
    }
   },
   "cell_type": "code",
   "source": [
    "import numpy as np\n",
    "import torch\n",
    "\n",
    "num_classes = 23\n",
    "model = OrdinalLogisticModel(predictor, num_classes)\n",
    "\n",
    "X_tensor = torch.as_tensor(X_train.values.astype(np.float32))\n",
    "\n",
    "predictor_output = predictor(X_tensor).detach()\n",
    "model_output = model(X_tensor).detach()\n",
    "\n",
    "# print(predictor_output)\n",
    "# print(model_output)"
   ],
   "id": "c175acc84771e0f1",
   "outputs": [],
   "execution_count": 94
  },
  {
   "metadata": {
    "ExecuteTime": {
     "end_time": "2025-03-15T20:47:43.496225Z",
     "start_time": "2025-03-15T20:47:43.482900Z"
    }
   },
   "cell_type": "code",
   "source": [
    "from skorch import NeuralNet\n",
    "\n",
    "\n",
    "skorch_model = NeuralNet(\n",
    "    module=OrdinalLogisticModel,\n",
    "    module__predictor=predictor,\n",
    "    module__num_classes=num_classes,\n",
    "    criterion=CumulativeLinkLoss,\n",
    "    max_epochs=100,\n",
    "    optimizer=torch.optim.Adam,\n",
    "    optimizer__weight_decay=0.0,\n",
    "    lr=0.1,\n",
    "    device=\"cpu\",\n",
    "    callbacks=[\n",
    "        (\"ascension\", AscensionCallback()),\n",
    "    ],\n",
    "    train_split=None,\n",
    "    verbose=0,\n",
    ")"
   ],
   "id": "484bc72127afe7b9",
   "outputs": [],
   "execution_count": 95
  },
  {
   "metadata": {
    "ExecuteTime": {
     "end_time": "2025-03-15T20:47:44.082287Z",
     "start_time": "2025-03-15T20:47:44.069422Z"
    }
   },
   "cell_type": "code",
   "source": [
    "from sklearn.preprocessing import FunctionTransformer\n",
    "from sklearn.pipeline import Pipeline\n",
    "\n",
    "\n",
    "def to_float(x):\n",
    "    return x.astype(np.float32)\n",
    "\n",
    "\n",
    "pipeline = Pipeline([(\"caster\", FunctionTransformer(to_float)), (\"net\", skorch_model)])"
   ],
   "id": "35fd402e8713d20b",
   "outputs": [],
   "execution_count": 96
  },
  {
   "metadata": {
    "ExecuteTime": {
     "end_time": "2025-03-15T20:53:24.648461Z",
     "start_time": "2025-03-15T20:53:24.632802Z"
    }
   },
   "cell_type": "code",
   "source": [
    "from sklearn.model_selection import GridSearchCV\n",
    "\n",
    "\n",
    "class Spacecutter(GridSearchCV):\n",
    "    def fit(self, X, y=None, **fit_params):\n",
    "        X_train = X.values.astype(np.float32)\n",
    "        super().fit(X_train, y, **fit_params)\n",
    "\n",
    "    def predict(self, X):\n",
    "        X_test = X.values.astype(np.float32)\n",
    "        return super().predict(X_test).argmax(axis=1)\n",
    "\n",
    "    def predict_proba(self, X):\n",
    "        X_test = X.values.astype(np.float32)\n",
    "        return super().predict_proba(X_test)"
   ],
   "id": "a8c839210bf0132",
   "outputs": [],
   "execution_count": 109
  },
  {
   "metadata": {
    "ExecuteTime": {
     "end_time": "2025-03-15T20:53:51.926151Z",
     "start_time": "2025-03-15T20:53:30.887847Z"
    }
   },
   "cell_type": "code",
   "source": [
    "param_grid = {\n",
    "    \"net__max_epochs\": [100],\n",
    "    \"net__lr\": [0.1],\n",
    "    \"net__optimizer__weight_decay\": [0],\n",
    "}\n",
    "\n",
    "sc_grid_search = Spacecutter(\n",
    "    pipeline, param_grid, scoring=scoring, n_jobs=-1, cv=5, verbose=1, refit=True\n",
    ")\n",
    "\n",
    "\n",
    "sc_grid_search.fit(X_train, y_train)"
   ],
   "id": "60073b157afc4127",
   "outputs": [
    {
     "name": "stdout",
     "output_type": "stream",
     "text": [
      "Fitting 5 folds for each of 1 candidates, totalling 5 fits\n"
     ]
    },
    {
     "name": "stderr",
     "output_type": "stream",
     "text": [
      "C:\\Users\\jolka\\OneDrive\\Dokumenty\\mgr\\Predictive-ML-in-TTRPG-game-design\\venv\\lib\\site-packages\\sklearn\\model_selection\\_search.py:979: UserWarning: One or more of the test scores are non-finite: [nan]\n",
      "  warnings.warn(\n"
     ]
    }
   ],
   "execution_count": 110
  },
  {
   "metadata": {
    "ExecuteTime": {
     "end_time": "2025-03-15T20:58:05.288996Z",
     "start_time": "2025-03-15T20:58:05.240391Z"
    }
   },
   "cell_type": "code",
   "source": "len(sc_grid_search.predict(X_test).argmax(axis=1))",
   "id": "2da51c49722890bc",
   "outputs": [
    {
     "data": {
      "text/plain": [
       "845"
      ]
     },
     "execution_count": 114,
     "metadata": {},
     "output_type": "execute_result"
    }
   ],
   "execution_count": 114
  },
  {
   "metadata": {
    "ExecuteTime": {
     "end_time": "2025-03-15T20:31:19.468174Z",
     "start_time": "2025-03-15T20:31:19.443709Z"
    }
   },
   "cell_type": "code",
   "source": "m = OrdinalLogisticModel(predictor, 23)",
   "id": "5cb1aa5bb7f91075",
   "outputs": [],
   "execution_count": 74
  },
  {
   "metadata": {
    "ExecuteTime": {
     "end_time": "2025-03-15T21:20:51.401190Z",
     "start_time": "2025-03-15T21:20:12.098230Z"
    }
   },
   "cell_type": "code",
   "source": [
    "from training.create_model import get_fitted_model\n",
    "\n",
    "model = get_fitted_model(\"spacecutter\", X_train, y_train, 30)"
   ],
   "id": "4656613d2e8af7b4",
   "outputs": [
    {
     "name": "stdout",
     "output_type": "stream",
     "text": [
      "  epoch    train_loss    valid_loss     dur\n",
      "-------  ------------  ------------  ------\n",
      "      1        \u001b[36m5.5006\u001b[0m        \u001b[32m5.1799\u001b[0m  0.1114\n"
     ]
    },
    {
     "name": "stderr",
     "output_type": "stream",
     "text": [
      "C:\\Users\\jolka\\OneDrive\\Dokumenty\\mgr\\Predictive-ML-in-TTRPG-game-design\\venv\\lib\\site-packages\\sklearn\\model_selection\\_search.py:979: UserWarning: One or more of the test scores are non-finite: [nan nan nan nan nan nan nan nan nan nan nan nan nan nan nan nan]\n",
      "C:\\Users\\jolka\\OneDrive\\Dokumenty\\mgr\\Predictive-ML-in-TTRPG-game-design\\venv\\lib\\site-packages\\sklearn\\model_selection\\_search.py:979: UserWarning: One or more of the train scores are non-finite: [nan nan nan nan nan nan nan nan nan nan nan nan nan nan nan nan]\n"
     ]
    },
    {
     "name": "stdout",
     "output_type": "stream",
     "text": [
      "      2        \u001b[36m5.3635\u001b[0m        \u001b[32m4.9987\u001b[0m  0.1033\n",
      "      3        \u001b[36m5.0826\u001b[0m        \u001b[32m4.5932\u001b[0m  0.1337\n",
      "      4        \u001b[36m4.5376\u001b[0m        \u001b[32m3.9117\u001b[0m  0.1424\n",
      "      5        \u001b[36m3.7408\u001b[0m        \u001b[32m3.0540\u001b[0m  0.1421\n",
      "      6        \u001b[36m2.9834\u001b[0m        \u001b[32m2.4815\u001b[0m  0.1313\n",
      "      7        \u001b[36m2.5256\u001b[0m        \u001b[32m2.1534\u001b[0m  0.1316\n",
      "      8        \u001b[36m2.1995\u001b[0m        \u001b[32m1.9066\u001b[0m  0.1420\n",
      "      9        \u001b[36m1.9696\u001b[0m        \u001b[32m1.7559\u001b[0m  0.1322\n",
      "     10        \u001b[36m1.8255\u001b[0m        \u001b[32m1.6673\u001b[0m  0.1212\n"
     ]
    }
   ],
   "execution_count": 117
  },
  {
   "metadata": {
    "ExecuteTime": {
     "end_time": "2025-03-15T21:23:53.991853Z",
     "start_time": "2025-03-15T21:23:53.961257Z"
    }
   },
   "cell_type": "code",
   "source": "y_pred = model.predict(X_test)",
   "id": "d3d3abb747db0678",
   "outputs": [],
   "execution_count": 119
  },
  {
   "metadata": {
    "ExecuteTime": {
     "end_time": "2025-03-15T21:24:13.490690Z",
     "start_time": "2025-03-15T21:24:13.475065Z"
    }
   },
   "cell_type": "code",
   "source": "len(y_pred), len(y_test)",
   "id": "2d467bf5b6de342e",
   "outputs": [
    {
     "data": {
      "text/plain": [
       "(845, 845)"
      ]
     },
     "execution_count": 122,
     "metadata": {},
     "output_type": "execute_result"
    }
   ],
   "execution_count": 122
  },
  {
   "metadata": {
    "ExecuteTime": {
     "end_time": "2025-03-15T21:24:59.816689Z",
     "start_time": "2025-03-15T21:24:59.743977Z"
    }
   },
   "cell_type": "code",
   "source": [
    "from training.metrics import accuracy_at_k\n",
    "\n",
    "accuracy_at_k(y_pred, y_test)"
   ],
   "id": "56875d76dff20402",
   "outputs": [
    {
     "ename": "IndexError",
     "evalue": "invalid index to scalar variable.",
     "output_type": "error",
     "traceback": [
      "\u001b[1;31m---------------------------------------------------------------------------\u001b[0m",
      "\u001b[1;31mIndexError\u001b[0m                                Traceback (most recent call last)",
      "Cell \u001b[1;32mIn[124], line 3\u001b[0m\n\u001b[0;32m      1\u001b[0m \u001b[38;5;28;01mfrom\u001b[39;00m \u001b[38;5;21;01mtraining\u001b[39;00m\u001b[38;5;21;01m.\u001b[39;00m\u001b[38;5;21;01mmetrics\u001b[39;00m \u001b[38;5;28;01mimport\u001b[39;00m accuracy_at_k\n\u001b[1;32m----> 3\u001b[0m \u001b[43maccuracy_at_k\u001b[49m\u001b[43m(\u001b[49m\u001b[43my_pred\u001b[49m\u001b[43m,\u001b[49m\u001b[43m \u001b[49m\u001b[43my_test\u001b[49m\u001b[43m)\u001b[49m\n",
      "File \u001b[1;32m~\\OneDrive\\Dokumenty\\mgr\\Predictive-ML-in-TTRPG-game-design\\training\\metrics.py:52\u001b[0m, in \u001b[0;36maccuracy_at_k\u001b[1;34m(y_true, y_predicted, k)\u001b[0m\n\u001b[0;32m     50\u001b[0m \u001b[38;5;250m\u001b[39m\u001b[38;5;124;03m\"\"\"Calculates accuracy of prediction, allowing error of at most `k` classes.\"\"\"\u001b[39;00m\n\u001b[0;32m     51\u001b[0m result \u001b[38;5;241m=\u001b[39m np\u001b[38;5;241m.\u001b[39msum(np\u001b[38;5;241m.\u001b[39mabs(y_true \u001b[38;5;241m-\u001b[39m y_predicted) \u001b[38;5;241m<\u001b[39m\u001b[38;5;241m=\u001b[39m k) \u001b[38;5;241m/\u001b[39m \u001b[38;5;28mlen\u001b[39m(y_true)\n\u001b[1;32m---> 52\u001b[0m \u001b[38;5;28;01mreturn\u001b[39;00m \u001b[43mresult\u001b[49m\u001b[43m[\u001b[49m\u001b[38;5;241;43m0\u001b[39;49m\u001b[43m]\u001b[49m\n",
      "\u001b[1;31mIndexError\u001b[0m: invalid index to scalar variable."
     ]
    }
   ],
   "execution_count": 124
  },
  {
   "metadata": {
    "ExecuteTime": {
     "end_time": "2025-03-15T21:27:32.934515Z",
     "start_time": "2025-03-15T21:27:32.920225Z"
    }
   },
   "cell_type": "code",
   "source": [
    "def accuracy_at_k(y_true: np.ndarray, y_predicted: np.ndarray, k: int = 0) -> float:\n",
    "    \"\"\"Calculates accuracy of prediction, allowing error of at most `k` classes.\"\"\"\n",
    "    result = np.sum(np.abs(y_true - y_predicted) <= k) / len(y_true)\n",
    "    if isinstance(result, float):\n",
    "        return result\n",
    "    return result[0]\n",
    "\n",
    "\n",
    "accuracy_at_k(y_test, y_pred, 1)"
   ],
   "id": "ed4e24c2f33f108e",
   "outputs": [
    {
     "data": {
      "text/plain": [
       "0.778698224852071"
      ]
     },
     "execution_count": 130,
     "metadata": {},
     "output_type": "execute_result"
    }
   ],
   "execution_count": 130
  },
  {
   "metadata": {
    "ExecuteTime": {
     "end_time": "2025-03-15T21:20:51.722715Z",
     "start_time": "2025-03-15T21:20:51.421895Z"
    }
   },
   "cell_type": "code",
   "source": [
    "from training.train_and_evaluate_models import get_model_results\n",
    "\n",
    "model_train_results, model_test_results = get_model_results(\n",
    "    sc_grid_search,\n",
    "    y_train,\n",
    "    X_train,\n",
    "    y_test,\n",
    "    X_test,\n",
    "    thresholds=[[0.05 * i for i in range(1, 20)], [0.05 * i for i in range(5, 16)]],\n",
    "    model_name=\"spacecutter\",\n",
    ")"
   ],
   "id": "f6e5b59e6342d746",
   "outputs": [
    {
     "ename": "ValueError",
     "evalue": "y_true and y_pred have different number of output (1!=23)",
     "output_type": "error",
     "traceback": [
      "\u001b[1;31m---------------------------------------------------------------------------\u001b[0m",
      "\u001b[1;31mValueError\u001b[0m                                Traceback (most recent call last)",
      "Cell \u001b[1;32mIn[118], line 3\u001b[0m\n\u001b[0;32m      1\u001b[0m \u001b[38;5;28;01mfrom\u001b[39;00m \u001b[38;5;21;01mtraining\u001b[39;00m\u001b[38;5;21;01m.\u001b[39;00m\u001b[38;5;21;01mtrain_and_evaluate_models\u001b[39;00m \u001b[38;5;28;01mimport\u001b[39;00m get_model_results\n\u001b[1;32m----> 3\u001b[0m model_train_results, model_test_results \u001b[38;5;241m=\u001b[39m \u001b[43mget_model_results\u001b[49m\u001b[43m(\u001b[49m\n\u001b[0;32m      4\u001b[0m \u001b[43m            \u001b[49m\u001b[43msc_grid_search\u001b[49m\u001b[43m,\u001b[49m\n\u001b[0;32m      5\u001b[0m \u001b[43m            \u001b[49m\u001b[43my_train\u001b[49m\u001b[43m,\u001b[49m\n\u001b[0;32m      6\u001b[0m \u001b[43m            \u001b[49m\u001b[43mX_train\u001b[49m\u001b[43m,\u001b[49m\n\u001b[0;32m      7\u001b[0m \u001b[43m            \u001b[49m\u001b[43my_test\u001b[49m\u001b[43m,\u001b[49m\n\u001b[0;32m      8\u001b[0m \u001b[43m            \u001b[49m\u001b[43mX_test\u001b[49m\u001b[43m,\u001b[49m\n\u001b[0;32m      9\u001b[0m \u001b[43m            \u001b[49m\u001b[43mthresholds\u001b[49m\u001b[38;5;241;43m=\u001b[39;49m\u001b[43m[\u001b[49m\u001b[43m[\u001b[49m\u001b[38;5;241;43m0.05\u001b[39;49m\u001b[43m \u001b[49m\u001b[38;5;241;43m*\u001b[39;49m\u001b[43m \u001b[49m\u001b[43mi\u001b[49m\u001b[43m \u001b[49m\u001b[38;5;28;43;01mfor\u001b[39;49;00m\u001b[43m \u001b[49m\u001b[43mi\u001b[49m\u001b[43m \u001b[49m\u001b[38;5;129;43;01min\u001b[39;49;00m\u001b[43m \u001b[49m\u001b[38;5;28;43mrange\u001b[39;49m\u001b[43m(\u001b[49m\u001b[38;5;241;43m1\u001b[39;49m\u001b[43m,\u001b[49m\u001b[43m \u001b[49m\u001b[38;5;241;43m20\u001b[39;49m\u001b[43m)\u001b[49m\u001b[43m]\u001b[49m\u001b[43m,\u001b[49m\u001b[43m \u001b[49m\u001b[43m[\u001b[49m\u001b[38;5;241;43m0.05\u001b[39;49m\u001b[43m \u001b[49m\u001b[38;5;241;43m*\u001b[39;49m\u001b[43m \u001b[49m\u001b[43mi\u001b[49m\u001b[43m \u001b[49m\u001b[38;5;28;43;01mfor\u001b[39;49;00m\u001b[43m \u001b[49m\u001b[43mi\u001b[49m\u001b[43m \u001b[49m\u001b[38;5;129;43;01min\u001b[39;49;00m\u001b[43m \u001b[49m\u001b[38;5;28;43mrange\u001b[39;49m\u001b[43m(\u001b[49m\u001b[38;5;241;43m5\u001b[39;49m\u001b[43m,\u001b[49m\u001b[43m \u001b[49m\u001b[38;5;241;43m16\u001b[39;49m\u001b[43m)\u001b[49m\u001b[43m]\u001b[49m\u001b[43m]\u001b[49m\u001b[43m,\u001b[49m\n\u001b[0;32m     10\u001b[0m \u001b[43m            \u001b[49m\u001b[43mmodel_name\u001b[49m\u001b[38;5;241;43m=\u001b[39;49m\u001b[38;5;124;43m\"\u001b[39;49m\u001b[38;5;124;43mspacecutter\u001b[39;49m\u001b[38;5;124;43m\"\u001b[39;49m\u001b[43m,\u001b[49m\n\u001b[0;32m     11\u001b[0m \u001b[43m        \u001b[49m\u001b[43m)\u001b[49m\n",
      "File \u001b[1;32m~\\OneDrive\\Dokumenty\\mgr\\Predictive-ML-in-TTRPG-game-design\\training\\train_and_evaluate_models.py:136\u001b[0m, in \u001b[0;36mget_model_results\u001b[1;34m(model, y_train, X_train, y_test, X_test, thresholds, model_name)\u001b[0m\n\u001b[0;32m    125\u001b[0m pd\u001b[38;5;241m.\u001b[39mDataFrame(y_pred_train)\u001b[38;5;241m.\u001b[39mto_csv(\n\u001b[0;32m    126\u001b[0m     os\u001b[38;5;241m.\u001b[39mpath\u001b[38;5;241m.\u001b[39mjoin(MODELS_RESULTS_DIR, \u001b[38;5;124mf\u001b[39m\u001b[38;5;124m\"\u001b[39m\u001b[38;5;132;01m{\u001b[39;00mmodel_name\u001b[38;5;132;01m}\u001b[39;00m\u001b[38;5;124m_train.csv\u001b[39m\u001b[38;5;124m\"\u001b[39m),\n\u001b[0;32m    127\u001b[0m     index\u001b[38;5;241m=\u001b[39m\u001b[38;5;28;01mFalse\u001b[39;00m,\n\u001b[0;32m    128\u001b[0m     header\u001b[38;5;241m=\u001b[39m\u001b[38;5;28;01mFalse\u001b[39;00m,\n\u001b[0;32m    129\u001b[0m )\n\u001b[0;32m    130\u001b[0m pd\u001b[38;5;241m.\u001b[39mDataFrame(y_pred_test)\u001b[38;5;241m.\u001b[39mto_csv(\n\u001b[0;32m    131\u001b[0m     os\u001b[38;5;241m.\u001b[39mpath\u001b[38;5;241m.\u001b[39mjoin(MODELS_RESULTS_DIR, \u001b[38;5;124mf\u001b[39m\u001b[38;5;124m\"\u001b[39m\u001b[38;5;132;01m{\u001b[39;00mmodel_name\u001b[38;5;132;01m}\u001b[39;00m\u001b[38;5;124m_test.csv\u001b[39m\u001b[38;5;124m\"\u001b[39m),\n\u001b[0;32m    132\u001b[0m     index\u001b[38;5;241m=\u001b[39m\u001b[38;5;28;01mFalse\u001b[39;00m,\n\u001b[0;32m    133\u001b[0m     header\u001b[38;5;241m=\u001b[39m\u001b[38;5;28;01mFalse\u001b[39;00m,\n\u001b[0;32m    134\u001b[0m )\n\u001b[1;32m--> 136\u001b[0m train_results \u001b[38;5;241m=\u001b[39m \u001b[43mcalculate_results\u001b[49m\u001b[43m(\u001b[49m\n\u001b[0;32m    137\u001b[0m \u001b[43m    \u001b[49m\u001b[43my_train\u001b[49m\u001b[43m,\u001b[49m\u001b[43m \u001b[49m\u001b[43my_pred_train\u001b[49m\u001b[43m,\u001b[49m\u001b[43m \u001b[49m\u001b[43minclude_accuracy\u001b[49m\u001b[38;5;241;43m=\u001b[39;49m\u001b[38;5;28;43;01mFalse\u001b[39;49;00m\n\u001b[0;32m    138\u001b[0m \u001b[43m\u001b[49m\u001b[43m)\u001b[49m \u001b[38;5;241m+\u001b[39m calculate_results(\n\u001b[0;32m    139\u001b[0m     y_train, round_single_threshold_results(y_pred_train, threshold\u001b[38;5;241m=\u001b[39m\u001b[38;5;241m0.5\u001b[39m)\n\u001b[0;32m    140\u001b[0m )\n\u001b[0;32m    142\u001b[0m test_results \u001b[38;5;241m=\u001b[39m calculate_results(\n\u001b[0;32m    143\u001b[0m     y_test, y_pred_test, include_accuracy\u001b[38;5;241m=\u001b[39m\u001b[38;5;28;01mFalse\u001b[39;00m\n\u001b[0;32m    144\u001b[0m ) \u001b[38;5;241m+\u001b[39m calculate_results(\n\u001b[0;32m    145\u001b[0m     y_test, round_single_threshold_results(y_pred_test, threshold\u001b[38;5;241m=\u001b[39m\u001b[38;5;241m0.5\u001b[39m)\n\u001b[0;32m    146\u001b[0m )\n\u001b[0;32m    148\u001b[0m \u001b[38;5;28;01mfor\u001b[39;00m threshold_list \u001b[38;5;129;01min\u001b[39;00m thresholds:\n",
      "File \u001b[1;32m~\\OneDrive\\Dokumenty\\mgr\\Predictive-ML-in-TTRPG-game-design\\training\\train_and_evaluate_models.py:44\u001b[0m, in \u001b[0;36mcalculate_results\u001b[1;34m(y_true, y_pred, include_accuracy)\u001b[0m\n\u001b[0;32m     34\u001b[0m \u001b[38;5;28;01mdef\u001b[39;00m \u001b[38;5;21mcalculate_results\u001b[39m(y_true, y_pred, include_accuracy\u001b[38;5;241m=\u001b[39m\u001b[38;5;28;01mTrue\u001b[39;00m) \u001b[38;5;241m-\u001b[39m\u001b[38;5;241m>\u001b[39m \u001b[38;5;28mlist\u001b[39m[\u001b[38;5;28mfloat\u001b[39m]:\n\u001b[0;32m     35\u001b[0m \u001b[38;5;250m    \u001b[39m\u001b[38;5;124;03m\"\"\"\u001b[39;00m\n\u001b[0;32m     36\u001b[0m \u001b[38;5;124;03m    Calculates evaluation metrics for predicted values compared to true values.\u001b[39;00m\n\u001b[0;32m     37\u001b[0m \n\u001b[1;32m   (...)\u001b[0m\n\u001b[0;32m     41\u001b[0m \u001b[38;5;124;03m    :return: List containing evaluation metrics. If accuracy was not computed the last element equals None.\u001b[39;00m\n\u001b[0;32m     42\u001b[0m \u001b[38;5;124;03m    \"\"\"\u001b[39;00m\n\u001b[0;32m     43\u001b[0m     results \u001b[38;5;241m=\u001b[39m [\n\u001b[1;32m---> 44\u001b[0m         \u001b[43mroot_mean_squared_error\u001b[49m\u001b[43m(\u001b[49m\u001b[43my_true\u001b[49m\u001b[43m,\u001b[49m\u001b[43m \u001b[49m\u001b[43my_pred\u001b[49m\u001b[43m)\u001b[49m,\n\u001b[0;32m     45\u001b[0m         rmse_macroaveraged(y_true, y_pred),\n\u001b[0;32m     46\u001b[0m         mean_absolute_error(y_true, y_pred),\n\u001b[0;32m     47\u001b[0m         mae_macroaveraged(y_true, y_pred),\n\u001b[0;32m     48\u001b[0m         mse_macroaveraged(y_true, y_pred),\n\u001b[0;32m     49\u001b[0m         somers_d(y_true, y_pred),\n\u001b[0;32m     50\u001b[0m         \u001b[38;5;28;01mNone\u001b[39;00m,\n\u001b[0;32m     51\u001b[0m         \u001b[38;5;28;01mNone\u001b[39;00m,\n\u001b[0;32m     52\u001b[0m     ]\n\u001b[0;32m     53\u001b[0m     \u001b[38;5;28;01mif\u001b[39;00m include_accuracy:\n\u001b[0;32m     54\u001b[0m         y_pred_rounded \u001b[38;5;241m=\u001b[39m [\u001b[38;5;28mint\u001b[39m(i) \u001b[38;5;28;01mfor\u001b[39;00m i \u001b[38;5;129;01min\u001b[39;00m y_pred]\n",
      "File \u001b[1;32m~\\OneDrive\\Dokumenty\\mgr\\Predictive-ML-in-TTRPG-game-design\\training\\train_and_evaluate_models.py:31\u001b[0m, in \u001b[0;36mroot_mean_squared_error\u001b[1;34m(y_true, y_pred)\u001b[0m\n\u001b[0;32m     30\u001b[0m \u001b[38;5;28;01mdef\u001b[39;00m \u001b[38;5;21mroot_mean_squared_error\u001b[39m(y_true, y_pred):\n\u001b[1;32m---> 31\u001b[0m     \u001b[38;5;28;01mreturn\u001b[39;00m \u001b[43mmean_squared_error\u001b[49m\u001b[43m(\u001b[49m\u001b[43my_true\u001b[49m\u001b[43m,\u001b[49m\u001b[43m \u001b[49m\u001b[43my_pred\u001b[49m\u001b[43m,\u001b[49m\u001b[43m \u001b[49m\u001b[43msquared\u001b[49m\u001b[38;5;241;43m=\u001b[39;49m\u001b[38;5;28;43;01mFalse\u001b[39;49;00m\u001b[43m)\u001b[49m\n",
      "File \u001b[1;32m~\\OneDrive\\Dokumenty\\mgr\\Predictive-ML-in-TTRPG-game-design\\venv\\lib\\site-packages\\sklearn\\utils\\_param_validation.py:214\u001b[0m, in \u001b[0;36mvalidate_params.<locals>.decorator.<locals>.wrapper\u001b[1;34m(*args, **kwargs)\u001b[0m\n\u001b[0;32m    208\u001b[0m \u001b[38;5;28;01mtry\u001b[39;00m:\n\u001b[0;32m    209\u001b[0m     \u001b[38;5;28;01mwith\u001b[39;00m config_context(\n\u001b[0;32m    210\u001b[0m         skip_parameter_validation\u001b[38;5;241m=\u001b[39m(\n\u001b[0;32m    211\u001b[0m             prefer_skip_nested_validation \u001b[38;5;129;01mor\u001b[39;00m global_skip_validation\n\u001b[0;32m    212\u001b[0m         )\n\u001b[0;32m    213\u001b[0m     ):\n\u001b[1;32m--> 214\u001b[0m         \u001b[38;5;28;01mreturn\u001b[39;00m func(\u001b[38;5;241m*\u001b[39margs, \u001b[38;5;241m*\u001b[39m\u001b[38;5;241m*\u001b[39mkwargs)\n\u001b[0;32m    215\u001b[0m \u001b[38;5;28;01mexcept\u001b[39;00m InvalidParameterError \u001b[38;5;28;01mas\u001b[39;00m e:\n\u001b[0;32m    216\u001b[0m     \u001b[38;5;66;03m# When the function is just a wrapper around an estimator, we allow\u001b[39;00m\n\u001b[0;32m    217\u001b[0m     \u001b[38;5;66;03m# the function to delegate validation to the estimator, but we replace\u001b[39;00m\n\u001b[0;32m    218\u001b[0m     \u001b[38;5;66;03m# the name of the estimator by the name of the function in the error\u001b[39;00m\n\u001b[0;32m    219\u001b[0m     \u001b[38;5;66;03m# message to avoid confusion.\u001b[39;00m\n\u001b[0;32m    220\u001b[0m     msg \u001b[38;5;241m=\u001b[39m re\u001b[38;5;241m.\u001b[39msub(\n\u001b[0;32m    221\u001b[0m         \u001b[38;5;124mr\u001b[39m\u001b[38;5;124m\"\u001b[39m\u001b[38;5;124mparameter of \u001b[39m\u001b[38;5;124m\\\u001b[39m\u001b[38;5;124mw+ must be\u001b[39m\u001b[38;5;124m\"\u001b[39m,\n\u001b[0;32m    222\u001b[0m         \u001b[38;5;124mf\u001b[39m\u001b[38;5;124m\"\u001b[39m\u001b[38;5;124mparameter of \u001b[39m\u001b[38;5;132;01m{\u001b[39;00mfunc\u001b[38;5;241m.\u001b[39m\u001b[38;5;18m__qualname__\u001b[39m\u001b[38;5;132;01m}\u001b[39;00m\u001b[38;5;124m must be\u001b[39m\u001b[38;5;124m\"\u001b[39m,\n\u001b[0;32m    223\u001b[0m         \u001b[38;5;28mstr\u001b[39m(e),\n\u001b[0;32m    224\u001b[0m     )\n",
      "File \u001b[1;32m~\\OneDrive\\Dokumenty\\mgr\\Predictive-ML-in-TTRPG-game-design\\venv\\lib\\site-packages\\sklearn\\metrics\\_regression.py:474\u001b[0m, in \u001b[0;36mmean_squared_error\u001b[1;34m(y_true, y_pred, sample_weight, multioutput, squared)\u001b[0m\n\u001b[0;32m    404\u001b[0m \u001b[38;5;129m@validate_params\u001b[39m(\n\u001b[0;32m    405\u001b[0m     {\n\u001b[0;32m    406\u001b[0m         \u001b[38;5;124m\"\u001b[39m\u001b[38;5;124my_true\u001b[39m\u001b[38;5;124m\"\u001b[39m: [\u001b[38;5;124m\"\u001b[39m\u001b[38;5;124marray-like\u001b[39m\u001b[38;5;124m\"\u001b[39m],\n\u001b[1;32m   (...)\u001b[0m\n\u001b[0;32m    415\u001b[0m     y_true, y_pred, \u001b[38;5;241m*\u001b[39m, sample_weight\u001b[38;5;241m=\u001b[39m\u001b[38;5;28;01mNone\u001b[39;00m, multioutput\u001b[38;5;241m=\u001b[39m\u001b[38;5;124m\"\u001b[39m\u001b[38;5;124muniform_average\u001b[39m\u001b[38;5;124m\"\u001b[39m, squared\u001b[38;5;241m=\u001b[39m\u001b[38;5;28;01mTrue\u001b[39;00m\n\u001b[0;32m    416\u001b[0m ):\n\u001b[0;32m    417\u001b[0m \u001b[38;5;250m    \u001b[39m\u001b[38;5;124;03m\"\"\"Mean squared error regression loss.\u001b[39;00m\n\u001b[0;32m    418\u001b[0m \n\u001b[0;32m    419\u001b[0m \u001b[38;5;124;03m    Read more in the :ref:`User Guide <mean_squared_error>`.\u001b[39;00m\n\u001b[1;32m   (...)\u001b[0m\n\u001b[0;32m    472\u001b[0m \u001b[38;5;124;03m    0.825...\u001b[39;00m\n\u001b[0;32m    473\u001b[0m \u001b[38;5;124;03m    \"\"\"\u001b[39;00m\n\u001b[1;32m--> 474\u001b[0m     y_type, y_true, y_pred, multioutput \u001b[38;5;241m=\u001b[39m \u001b[43m_check_reg_targets\u001b[49m\u001b[43m(\u001b[49m\n\u001b[0;32m    475\u001b[0m \u001b[43m        \u001b[49m\u001b[43my_true\u001b[49m\u001b[43m,\u001b[49m\u001b[43m \u001b[49m\u001b[43my_pred\u001b[49m\u001b[43m,\u001b[49m\u001b[43m \u001b[49m\u001b[43mmultioutput\u001b[49m\n\u001b[0;32m    476\u001b[0m \u001b[43m    \u001b[49m\u001b[43m)\u001b[49m\n\u001b[0;32m    477\u001b[0m     check_consistent_length(y_true, y_pred, sample_weight)\n\u001b[0;32m    478\u001b[0m     output_errors \u001b[38;5;241m=\u001b[39m np\u001b[38;5;241m.\u001b[39maverage((y_true \u001b[38;5;241m-\u001b[39m y_pred) \u001b[38;5;241m*\u001b[39m\u001b[38;5;241m*\u001b[39m \u001b[38;5;241m2\u001b[39m, axis\u001b[38;5;241m=\u001b[39m\u001b[38;5;241m0\u001b[39m, weights\u001b[38;5;241m=\u001b[39msample_weight)\n",
      "File \u001b[1;32m~\\OneDrive\\Dokumenty\\mgr\\Predictive-ML-in-TTRPG-game-design\\venv\\lib\\site-packages\\sklearn\\metrics\\_regression.py:110\u001b[0m, in \u001b[0;36m_check_reg_targets\u001b[1;34m(y_true, y_pred, multioutput, dtype)\u001b[0m\n\u001b[0;32m    107\u001b[0m     y_pred \u001b[38;5;241m=\u001b[39m y_pred\u001b[38;5;241m.\u001b[39mreshape((\u001b[38;5;241m-\u001b[39m\u001b[38;5;241m1\u001b[39m, \u001b[38;5;241m1\u001b[39m))\n\u001b[0;32m    109\u001b[0m \u001b[38;5;28;01mif\u001b[39;00m y_true\u001b[38;5;241m.\u001b[39mshape[\u001b[38;5;241m1\u001b[39m] \u001b[38;5;241m!=\u001b[39m y_pred\u001b[38;5;241m.\u001b[39mshape[\u001b[38;5;241m1\u001b[39m]:\n\u001b[1;32m--> 110\u001b[0m     \u001b[38;5;28;01mraise\u001b[39;00m \u001b[38;5;167;01mValueError\u001b[39;00m(\n\u001b[0;32m    111\u001b[0m         \u001b[38;5;124m\"\u001b[39m\u001b[38;5;124my_true and y_pred have different number of output (\u001b[39m\u001b[38;5;132;01m{0}\u001b[39;00m\u001b[38;5;124m!=\u001b[39m\u001b[38;5;132;01m{1}\u001b[39;00m\u001b[38;5;124m)\u001b[39m\u001b[38;5;124m\"\u001b[39m\u001b[38;5;241m.\u001b[39mformat(\n\u001b[0;32m    112\u001b[0m             y_true\u001b[38;5;241m.\u001b[39mshape[\u001b[38;5;241m1\u001b[39m], y_pred\u001b[38;5;241m.\u001b[39mshape[\u001b[38;5;241m1\u001b[39m]\n\u001b[0;32m    113\u001b[0m         )\n\u001b[0;32m    114\u001b[0m     )\n\u001b[0;32m    116\u001b[0m n_outputs \u001b[38;5;241m=\u001b[39m y_true\u001b[38;5;241m.\u001b[39mshape[\u001b[38;5;241m1\u001b[39m]\n\u001b[0;32m    117\u001b[0m allowed_multioutput_str \u001b[38;5;241m=\u001b[39m (\u001b[38;5;124m\"\u001b[39m\u001b[38;5;124mraw_values\u001b[39m\u001b[38;5;124m\"\u001b[39m, \u001b[38;5;124m\"\u001b[39m\u001b[38;5;124muniform_average\u001b[39m\u001b[38;5;124m\"\u001b[39m, \u001b[38;5;124m\"\u001b[39m\u001b[38;5;124mvariance_weighted\u001b[39m\u001b[38;5;124m\"\u001b[39m)\n",
      "\u001b[1;31mValueError\u001b[0m: y_true and y_pred have different number of output (1!=23)"
     ]
    }
   ],
   "execution_count": 118
  },
  {
   "metadata": {},
   "cell_type": "code",
   "outputs": [],
   "execution_count": null,
   "source": "",
   "id": "9ed7d14929752a74"
  }
 ],
 "metadata": {
  "kernelspec": {
   "display_name": "Python 3",
   "language": "python",
   "name": "python3"
  },
  "language_info": {
   "codemirror_mode": {
    "name": "ipython",
    "version": 2
   },
   "file_extension": ".py",
   "mimetype": "text/x-python",
   "name": "python",
   "nbconvert_exporter": "python",
   "pygments_lexer": "ipython2",
   "version": "2.7.6"
  }
 },
 "nbformat": 4,
 "nbformat_minor": 5
}
