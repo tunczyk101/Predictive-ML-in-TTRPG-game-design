{
 "cells": [
  {
   "cell_type": "code",
   "execution_count": null,
   "metadata": {},
   "outputs": [],
   "source": [
    "import pandas as pd\n",
    "from sklearn.preprocessing import MinMaxScaler"
   ]
  },
  {
   "cell_type": "code",
   "execution_count": 41,
   "metadata": {},
   "outputs": [],
   "source": [
    "bestiary = pd.read_csv(\n",
    "    '../../preprocessed_bestiaries/bestiaries_full.csv'\n",
    ")\n",
    "\n",
    "file_stats_map = {\n",
    "    'ac': 'ac',\n",
    "    'hp': 'hp',\n",
    "    'modifiers': ['str', 'dex', 'int', 'wis', 'cha'],\n",
    "    'perception': 'perception',\n",
    "    'saving_throws': ['fortitude', 'reflex', 'will'],\n",
    "    'spell_attack_bonus': 'spell_attack',\n",
    "    'spell_save_dc': 'spell_dc',\n",
    "    'strike_attack_bonus': ['melee_max_bonus', 'ranged_max_bonus'],\n",
    "    'strike_damage': ['avg_melee_dmg', 'avg_ranged_dmg']\n",
    "}\n",
    "\n",
    "for file_name, stat_names in file_stats_map.items():\n",
    "    if type(stat_names) == str:\n",
    "        stat_names = [stat_names]\n",
    "    dist = pd.read_csv(\n",
    "        f'./non_rescaled_distributions/{file_name}.csv', index_col='Level'\n",
    "    )\n",
    "    scaler = MinMaxScaler()\n",
    "    scaler.fit(bestiary[stat_names].values.reshape(-1, 1))\n",
    "\n",
    "    for col_name in dist.columns:\n",
    "        dist[col_name] = scaler.transform(dist[col_name].values.reshape(-1, 1))\n",
    "\n",
    "    dist.to_csv(f'./{file_name}.csv')"
   ]
  }
 ],
 "metadata": {
  "kernelspec": {
   "display_name": "Python 3",
   "language": "python",
   "name": "python3"
  },
  "language_info": {
   "codemirror_mode": {
    "name": "ipython",
    "version": 3
   },
   "file_extension": ".py",
   "mimetype": "text/x-python",
   "name": "python",
   "nbconvert_exporter": "python",
   "pygments_lexer": "ipython3",
   "version": "3.12.3"
  }
 },
 "nbformat": 4,
 "nbformat_minor": 2
}
